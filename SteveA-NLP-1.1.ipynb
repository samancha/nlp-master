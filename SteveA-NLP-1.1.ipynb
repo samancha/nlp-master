{
  "cells": [
    {
      "cell_type": "markdown",
      "metadata": {},
      "source": [
        "### To install"
      ]
    },
    {
      "cell_type": "code",
      "execution_count": null,
      "metadata": {},
      "outputs": [],
      "source": [
        "!pip install spacy\n",
        "!pip install nltk \n",
        "!python3 -m spacy download en_core_web_sm"
      ]
    },
    {
      "cell_type": "code",
      "execution_count": 2,
      "metadata": {},
      "outputs": [
        {
          "name": "stderr",
          "output_type": "stream",
          "text": [
            "2023-09-10 18:57:17.494845: I tensorflow/core/platform/cpu_feature_guard.cc:182] This TensorFlow binary is optimized to use available CPU instructions in performance-critical operations.\n",
            "To enable the following instructions: AVX2 FMA, in other operations, rebuild TensorFlow with the appropriate compiler flags.\n"
          ]
        }
      ],
      "source": [
        "import spacy\n",
        "from nltk.stem import PorterStemmer\n",
        "from spacy import displacy\n",
        "import os\n",
        "from pathlib import Path\n",
        "\n",
        "# Load the English model\n",
        "nlp = spacy.load(\"en_core_web_sm\")"
      ]
    },
    {
      "cell_type": "code",
      "execution_count": 65,
      "metadata": {},
      "outputs": [],
      "source": [
        "Path(\"output\").mkdir(parents=True, exist_ok=True)"
      ]
    },
    {
      "cell_type": "code",
      "execution_count": 39,
      "metadata": {
        "colab": {
          "base_uri": "https://localhost:8080/"
        },
        "id": "GPRIVklG9Gzy",
        "outputId": "cd52b421-f7da-4f70-960a-dd8e57bcf9ef"
      },
      "outputs": [],
      "source": [
        "def process_document(sentence, remove_stopwords=True, stemming=False, lemmatization=False):    \n",
        "    doc = nlp(sentence)\n",
        "    print(type(doc))\n",
        "\n",
        "    # Removing stop words from doc\n",
        "    if remove_stopwords:\n",
        "        doc__no_stop = [token for token in doc if not token.is_stop]\n",
        "    \n",
        "    # Tokenization\n",
        "    tokens = [token.text for token in doc if not token.is_stop]\n",
        "    print(\"Tokens:\", tokens)\n",
        "    print(\"Number of tokens:\", len(tokens))\n",
        "\n",
        "    # Initialize stemmer and Stemming of tokens\n",
        "    stemmer = PorterStemmer()\n",
        "    stems = [stemmer.stem(word) for word in tokens]\n",
        "    print(\"Stems:\", stems)\n",
        "    print(\"Number of Stems:\", len(stems))\n",
        "\n",
        "    # Lemmas\n",
        "    lemmas = [token.lemma_ for token in doc if not token.is_stop]\n",
        "    print(\"Lemmas:\", lemmas)\n",
        "    print(\"Number of Lemmas:\", len(lemmas))\n",
        "\n",
        "    # Stop words\n",
        "    stop_words = [token.text for token in doc if not token.is_stop]\n",
        "    print(\"Checking for Stop Words:\", stop_words)\n",
        "\n",
        "    return doc"
      ]
    },
    {
      "cell_type": "markdown",
      "metadata": {},
      "source": [
        "### Process an example of the txt file in the dataset\n",
        "##### spacey visualization results below\n",
        "The entity visualizer, ent, highlights named entities and their labels in a text."
      ]
    },
    {
      "cell_type": "code",
      "execution_count": 40,
      "metadata": {},
      "outputs": [
        {
          "name": "stdout",
          "output_type": "stream",
          "text": [
            "Data With stop words removed\n",
            "\n",
            "<class 'spacy.tokens.doc.Doc'>\n",
            "Tokens: ['Mr.', 'Costner', 'dragged', 'movie', 'far', 'longer', 'necessary', '.', 'Aside', 'terrific', 'sea', 'rescue', 'sequences', ',', 'care', 'characters', '.', 'ghosts', 'closet', ',', 'Costner', 'character', 'realized', 'early', ',', 'forgotten', 'later', ',', 'time', 'care', '.', 'character', 'care', 'cocky', ',', 'overconfident', 'Ashton', 'Kutcher', '.', 'problem', 'comes', 'kid', 'thinks', 'better', 'shows', 'signs', 'cluttered', 'closet', '.', 'obstacle', 'appears', 'winning', 'Costner', '.', 'Finally', 'past', 'half', 'way', 'point', 'stinker', ',', 'Costner', 'tells', 'Kutcher', 'ghosts', '.', 'told', 'Kutcher', 'driven', 'best', 'prior', 'inkling', 'foreshadowing', '.', 'magic', ',', 'turning', 'hour', '.']\n",
            "Number of tokens: 79\n",
            "Stems: ['mr.', 'costner', 'drag', 'movi', 'far', 'longer', 'necessari', '.', 'asid', 'terrif', 'sea', 'rescu', 'sequenc', ',', 'care', 'charact', '.', 'ghost', 'closet', ',', 'costner', 'charact', 'realiz', 'earli', ',', 'forgotten', 'later', ',', 'time', 'care', '.', 'charact', 'care', 'cocki', ',', 'overconfid', 'ashton', 'kutcher', '.', 'problem', 'come', 'kid', 'think', 'better', 'show', 'sign', 'clutter', 'closet', '.', 'obstacl', 'appear', 'win', 'costner', '.', 'final', 'past', 'half', 'way', 'point', 'stinker', ',', 'costner', 'tell', 'kutcher', 'ghost', '.', 'told', 'kutcher', 'driven', 'best', 'prior', 'inkl', 'foreshadow', '.', 'magic', ',', 'turn', 'hour', '.']\n",
            "Number of Stems: 79\n",
            "Lemmas: ['Mr.', 'Costner', 'drag', 'movie', 'far', 'long', 'necessary', '.', 'aside', 'terrific', 'sea', 'rescue', 'sequence', ',', 'care', 'character', '.', 'ghost', 'closet', ',', 'Costner', 'character', 'realize', 'early', ',', 'forget', 'later', ',', 'time', 'care', '.', 'character', 'care', 'cocky', ',', 'overconfident', 'Ashton', 'Kutcher', '.', 'problem', 'come', 'kid', 'think', 'well', 'show', 'sign', 'cluttered', 'closet', '.', 'obstacle', 'appear', 'win', 'Costner', '.', 'finally', 'past', 'half', 'way', 'point', 'stinker', ',', 'Costner', 'tell', 'Kutcher', 'ghost', '.', 'tell', 'Kutcher', 'drive', 'good', 'prior', 'inkling', 'foreshadowing', '.', 'magic', ',', 'turn', 'hour', '.']\n",
            "Number of Lemmas: 79\n",
            "Checking for Stop Words: ['Mr.', 'Costner', 'dragged', 'movie', 'far', 'longer', 'necessary', '.', 'Aside', 'terrific', 'sea', 'rescue', 'sequences', ',', 'care', 'characters', '.', 'ghosts', 'closet', ',', 'Costner', 'character', 'realized', 'early', ',', 'forgotten', 'later', ',', 'time', 'care', '.', 'character', 'care', 'cocky', ',', 'overconfident', 'Ashton', 'Kutcher', '.', 'problem', 'comes', 'kid', 'thinks', 'better', 'shows', 'signs', 'cluttered', 'closet', '.', 'obstacle', 'appears', 'winning', 'Costner', '.', 'Finally', 'past', 'half', 'way', 'point', 'stinker', ',', 'Costner', 'tells', 'Kutcher', 'ghosts', '.', 'told', 'Kutcher', 'driven', 'best', 'prior', 'inkling', 'foreshadowing', '.', 'magic', ',', 'turning', 'hour', '.']\n",
            "\n",
            "\n",
            "\n",
            "Data With stop words removed\n",
            "\n",
            "<class 'spacy.tokens.doc.Doc'>\n",
            "Tokens: ['Mr.', 'Costner', 'dragged', 'movie', 'far', 'longer', 'necessary', '.', 'Aside', 'terrific', 'sea', 'rescue', 'sequences', ',', 'care', 'characters', '.', 'ghosts', 'closet', ',', 'Costner', 'character', 'realized', 'early', ',', 'forgotten', 'later', ',', 'time', 'care', '.', 'character', 'care', 'cocky', ',', 'overconfident', 'Ashton', 'Kutcher', '.', 'problem', 'comes', 'kid', 'thinks', 'better', 'shows', 'signs', 'cluttered', 'closet', '.', 'obstacle', 'appears', 'winning', 'Costner', '.', 'Finally', 'past', 'half', 'way', 'point', 'stinker', ',', 'Costner', 'tells', 'Kutcher', 'ghosts', '.', 'told', 'Kutcher', 'driven', 'best', 'prior', 'inkling', 'foreshadowing', '.', 'magic', ',', 'turning', 'hour', '.']\n",
            "Number of tokens: 79\n",
            "Stems: ['mr.', 'costner', 'drag', 'movi', 'far', 'longer', 'necessari', '.', 'asid', 'terrif', 'sea', 'rescu', 'sequenc', ',', 'care', 'charact', '.', 'ghost', 'closet', ',', 'costner', 'charact', 'realiz', 'earli', ',', 'forgotten', 'later', ',', 'time', 'care', '.', 'charact', 'care', 'cocki', ',', 'overconfid', 'ashton', 'kutcher', '.', 'problem', 'come', 'kid', 'think', 'better', 'show', 'sign', 'clutter', 'closet', '.', 'obstacl', 'appear', 'win', 'costner', '.', 'final', 'past', 'half', 'way', 'point', 'stinker', ',', 'costner', 'tell', 'kutcher', 'ghost', '.', 'told', 'kutcher', 'driven', 'best', 'prior', 'inkl', 'foreshadow', '.', 'magic', ',', 'turn', 'hour', '.']\n",
            "Number of Stems: 79\n",
            "Lemmas: ['Mr.', 'Costner', 'drag', 'movie', 'far', 'long', 'necessary', '.', 'aside', 'terrific', 'sea', 'rescue', 'sequence', ',', 'care', 'character', '.', 'ghost', 'closet', ',', 'Costner', 'character', 'realize', 'early', ',', 'forget', 'later', ',', 'time', 'care', '.', 'character', 'care', 'cocky', ',', 'overconfident', 'Ashton', 'Kutcher', '.', 'problem', 'come', 'kid', 'think', 'well', 'show', 'sign', 'cluttered', 'closet', '.', 'obstacle', 'appear', 'win', 'Costner', '.', 'finally', 'past', 'half', 'way', 'point', 'stinker', ',', 'Costner', 'tell', 'Kutcher', 'ghost', '.', 'tell', 'Kutcher', 'drive', 'good', 'prior', 'inkling', 'foreshadowing', '.', 'magic', ',', 'turn', 'hour', '.']\n",
            "Number of Lemmas: 79\n",
            "Checking for Stop Words: ['Mr.', 'Costner', 'dragged', 'movie', 'far', 'longer', 'necessary', '.', 'Aside', 'terrific', 'sea', 'rescue', 'sequences', ',', 'care', 'characters', '.', 'ghosts', 'closet', ',', 'Costner', 'character', 'realized', 'early', ',', 'forgotten', 'later', ',', 'time', 'care', '.', 'character', 'care', 'cocky', ',', 'overconfident', 'Ashton', 'Kutcher', '.', 'problem', 'comes', 'kid', 'thinks', 'better', 'shows', 'signs', 'cluttered', 'closet', '.', 'obstacle', 'appears', 'winning', 'Costner', '.', 'Finally', 'past', 'half', 'way', 'point', 'stinker', ',', 'Costner', 'tells', 'Kutcher', 'ghosts', '.', 'told', 'Kutcher', 'driven', 'best', 'prior', 'inkling', 'foreshadowing', '.', 'magic', ',', 'turning', 'hour', '.']\n"
          ]
        },
        {
          "data": {
            "text/html": [
              "<span class=\"tex2jax_ignore\"><div class=\"entities\" style=\"line-height: 2.5; direction: ltr\">Once again Mr. \n",
              "<mark class=\"entity\" style=\"background: #aa9cfc; padding: 0.45em 0.6em; margin: 0 0.25em; line-height: 1; border-radius: 0.35em;\">\n",
              "    Costner\n",
              "    <span style=\"font-size: 0.8em; font-weight: bold; line-height: 1; border-radius: 0.35em; vertical-align: middle; margin-left: 0.5rem\">PERSON</span>\n",
              "</mark>\n",
              " has dragged out a movie for far longer than necessary. Aside from the terrific sea rescue sequences, of which there are very few I just did not care about any of the characters. Most of us have ghosts in the closet, and \n",
              "<mark class=\"entity\" style=\"background: #aa9cfc; padding: 0.45em 0.6em; margin: 0 0.25em; line-height: 1; border-radius: 0.35em;\">\n",
              "    Costner\n",
              "    <span style=\"font-size: 0.8em; font-weight: bold; line-height: 1; border-radius: 0.35em; vertical-align: middle; margin-left: 0.5rem\">PERSON</span>\n",
              "</mark>\n",
              "'s character are realized early on, and then forgotten until much later, by which time I did not care. The character we should really care about is a very cocky, overconfident \n",
              "<mark class=\"entity\" style=\"background: #aa9cfc; padding: 0.45em 0.6em; margin: 0 0.25em; line-height: 1; border-radius: 0.35em;\">\n",
              "    Ashton Kutcher\n",
              "    <span style=\"font-size: 0.8em; font-weight: bold; line-height: 1; border-radius: 0.35em; vertical-align: middle; margin-left: 0.5rem\">PERSON</span>\n",
              "</mark>\n",
              ". The problem is he comes off as kid who thinks he's better than anyone else around him and shows no signs of a cluttered closet. His only obstacle appears to be winning over \n",
              "<mark class=\"entity\" style=\"background: #aa9cfc; padding: 0.45em 0.6em; margin: 0 0.25em; line-height: 1; border-radius: 0.35em;\">\n",
              "    Costner\n",
              "    <span style=\"font-size: 0.8em; font-weight: bold; line-height: 1; border-radius: 0.35em; vertical-align: middle; margin-left: 0.5rem\">PERSON</span>\n",
              "</mark>\n",
              ". Finally when we are well past the \n",
              "<mark class=\"entity\" style=\"background: #e4e7d2; padding: 0.45em 0.6em; margin: 0 0.25em; line-height: 1; border-radius: 0.35em;\">\n",
              "    half\n",
              "    <span style=\"font-size: 0.8em; font-weight: bold; line-height: 1; border-radius: 0.35em; vertical-align: middle; margin-left: 0.5rem\">CARDINAL</span>\n",
              "</mark>\n",
              " way point of this stinker, \n",
              "<mark class=\"entity\" style=\"background: #aa9cfc; padding: 0.45em 0.6em; margin: 0 0.25em; line-height: 1; border-radius: 0.35em;\">\n",
              "    Costner\n",
              "    <span style=\"font-size: 0.8em; font-weight: bold; line-height: 1; border-radius: 0.35em; vertical-align: middle; margin-left: 0.5rem\">PERSON</span>\n",
              "</mark>\n",
              " tells us all about \n",
              "<mark class=\"entity\" style=\"background: #7aecec; padding: 0.45em 0.6em; margin: 0 0.25em; line-height: 1; border-radius: 0.35em;\">\n",
              "    Kutcher\n",
              "    <span style=\"font-size: 0.8em; font-weight: bold; line-height: 1; border-radius: 0.35em; vertical-align: middle; margin-left: 0.5rem\">ORG</span>\n",
              "</mark>\n",
              "'s ghosts. We are told why \n",
              "<mark class=\"entity\" style=\"background: #c887fb; padding: 0.45em 0.6em; margin: 0 0.25em; line-height: 1; border-radius: 0.35em;\">\n",
              "    Kutcher\n",
              "    <span style=\"font-size: 0.8em; font-weight: bold; line-height: 1; border-radius: 0.35em; vertical-align: middle; margin-left: 0.5rem\">NORP</span>\n",
              "</mark>\n",
              " is driven to be the best with no prior inkling or foreshadowing. No magic here, it was all I could do to keep from turning it off \n",
              "<mark class=\"entity\" style=\"background: #bfe1d9; padding: 0.45em 0.6em; margin: 0 0.25em; line-height: 1; border-radius: 0.35em;\">\n",
              "    an hour\n",
              "    <span style=\"font-size: 0.8em; font-weight: bold; line-height: 1; border-radius: 0.35em; vertical-align: middle; margin-left: 0.5rem\">TIME</span>\n",
              "</mark>\n",
              " in.</div></span>"
            ],
            "text/plain": [
              "<IPython.core.display.HTML object>"
            ]
          },
          "metadata": {},
          "output_type": "display_data"
        }
      ],
      "source": [
        "# read file inside local folder test/neg/0_2.txt\n",
        "text = None\n",
        "with open('aclImdb/test/neg/0_2.txt', 'r') as file:\n",
        "    text = file.read().replace('\\n', '')\n",
        "\n",
        "    # process the data raw \n",
        "    print(\"Data With stop words removed\\n\")\n",
        "    process_document(text, remove_stopwords=False)\n",
        "    print(\"\\n\\n\")\n",
        "    print(\"Data With stop words removed\\n\")\n",
        "    # process the data with stop words removed\n",
        "    doc = process_document(text, remove_stopwords=True)\n",
        "    displacy.render(doc, style=\"ent\", jupyter=True)"
      ]
    },
    {
      "cell_type": "markdown",
      "metadata": {},
      "source": [
        "### Results with stop words removed \n",
        "tokens  / stems / lemmas = 187\n",
        "\n",
        "###\n",
        "tokens  / stems / lemmas = 79"
      ]
    },
    {
      "cell_type": "code",
      "execution_count": 33,
      "metadata": {},
      "outputs": [
        {
          "data": {
            "text/html": [
              "<span class=\"tex2jax_ignore\"><div class=\"entities\" style=\"line-height: 2.5; direction: ltr\">Once again Mr. \n",
              "<mark class=\"entity\" style=\"background: #aa9cfc; padding: 0.45em 0.6em; margin: 0 0.25em; line-height: 1; border-radius: 0.35em;\">\n",
              "    Costner\n",
              "    <span style=\"font-size: 0.8em; font-weight: bold; line-height: 1; border-radius: 0.35em; vertical-align: middle; margin-left: 0.5rem\">PERSON</span>\n",
              "</mark>\n",
              " has dragged out a movie for far longer than necessary. Aside from the terrific sea rescue sequences, of which there are very few I just did not care about any of the characters. Most of us have ghosts in the closet, and \n",
              "<mark class=\"entity\" style=\"background: #aa9cfc; padding: 0.45em 0.6em; margin: 0 0.25em; line-height: 1; border-radius: 0.35em;\">\n",
              "    Costner\n",
              "    <span style=\"font-size: 0.8em; font-weight: bold; line-height: 1; border-radius: 0.35em; vertical-align: middle; margin-left: 0.5rem\">PERSON</span>\n",
              "</mark>\n",
              "'s character are realized early on, and then forgotten until much later, by which time I did not care. The character we should really care about is a very cocky, overconfident \n",
              "<mark class=\"entity\" style=\"background: #aa9cfc; padding: 0.45em 0.6em; margin: 0 0.25em; line-height: 1; border-radius: 0.35em;\">\n",
              "    Ashton Kutcher\n",
              "    <span style=\"font-size: 0.8em; font-weight: bold; line-height: 1; border-radius: 0.35em; vertical-align: middle; margin-left: 0.5rem\">PERSON</span>\n",
              "</mark>\n",
              ". The problem is he comes off as kid who thinks he's better than anyone else around him and shows no signs of a cluttered closet. His only obstacle appears to be winning over \n",
              "<mark class=\"entity\" style=\"background: #aa9cfc; padding: 0.45em 0.6em; margin: 0 0.25em; line-height: 1; border-radius: 0.35em;\">\n",
              "    Costner\n",
              "    <span style=\"font-size: 0.8em; font-weight: bold; line-height: 1; border-radius: 0.35em; vertical-align: middle; margin-left: 0.5rem\">PERSON</span>\n",
              "</mark>\n",
              ". Finally when we are well past the \n",
              "<mark class=\"entity\" style=\"background: #e4e7d2; padding: 0.45em 0.6em; margin: 0 0.25em; line-height: 1; border-radius: 0.35em;\">\n",
              "    half\n",
              "    <span style=\"font-size: 0.8em; font-weight: bold; line-height: 1; border-radius: 0.35em; vertical-align: middle; margin-left: 0.5rem\">CARDINAL</span>\n",
              "</mark>\n",
              " way point of this stinker, \n",
              "<mark class=\"entity\" style=\"background: #aa9cfc; padding: 0.45em 0.6em; margin: 0 0.25em; line-height: 1; border-radius: 0.35em;\">\n",
              "    Costner\n",
              "    <span style=\"font-size: 0.8em; font-weight: bold; line-height: 1; border-radius: 0.35em; vertical-align: middle; margin-left: 0.5rem\">PERSON</span>\n",
              "</mark>\n",
              " tells us all about \n",
              "<mark class=\"entity\" style=\"background: #7aecec; padding: 0.45em 0.6em; margin: 0 0.25em; line-height: 1; border-radius: 0.35em;\">\n",
              "    Kutcher\n",
              "    <span style=\"font-size: 0.8em; font-weight: bold; line-height: 1; border-radius: 0.35em; vertical-align: middle; margin-left: 0.5rem\">ORG</span>\n",
              "</mark>\n",
              "'s ghosts. We are told why \n",
              "<mark class=\"entity\" style=\"background: #c887fb; padding: 0.45em 0.6em; margin: 0 0.25em; line-height: 1; border-radius: 0.35em;\">\n",
              "    Kutcher\n",
              "    <span style=\"font-size: 0.8em; font-weight: bold; line-height: 1; border-radius: 0.35em; vertical-align: middle; margin-left: 0.5rem\">NORP</span>\n",
              "</mark>\n",
              " is driven to be the best with no prior inkling or foreshadowing. No magic here, it was all I could do to keep from turning it off \n",
              "<mark class=\"entity\" style=\"background: #bfe1d9; padding: 0.45em 0.6em; margin: 0 0.25em; line-height: 1; border-radius: 0.35em;\">\n",
              "    an hour\n",
              "    <span style=\"font-size: 0.8em; font-weight: bold; line-height: 1; border-radius: 0.35em; vertical-align: middle; margin-left: 0.5rem\">TIME</span>\n",
              "</mark>\n",
              " in.</div></span>"
            ],
            "text/plain": [
              "<IPython.core.display.HTML object>"
            ]
          },
          "metadata": {},
          "output_type": "display_data"
        }
      ],
      "source": []
    },
    {
      "cell_type": "markdown",
      "metadata": {},
      "source": [
        "### Generating svg's of depenency parse\n",
        "The dependency visualizer, dep, shows part-of-speech tags and syntactic dependencies.\n",
        "\n"
      ]
    },
    {
      "cell_type": "code",
      "execution_count": 32,
      "metadata": {},
      "outputs": [],
      "source": [
        "\n",
        "res = []\n",
        "dir_path = \"aclImdb/test/neg\"\n",
        "output_path = \"image/\"\n",
        "# Iterate directory\n",
        "for file_path in os.listdir(dir_path):\n",
        "    # check if current file_path is a file \n",
        "    if os.path.isfile(os.path.join(dir_path, file_path)):\n",
        "        # add filename to list\n",
        "        res.append(file_path)\n",
        "\n",
        "        doc = nlp(text)\n",
        "        svg = displacy.render(doc, style=\"dep\",minify=True,jupyter=False, options={'distance': 60})\n",
        "        file_name = file_path.split(\".\")[0]\n",
        "        output_path = Path(\"image/\" + dir_path + file_name + \"-dep.svg\")\n",
        "        output_path.open(\"w\", encoding=\"utf-8\").write(svg)\n",
        "\n",
        "    "
      ]
    },
    {
      "cell_type": "markdown",
      "metadata": {},
      "source": [
        "#### Printing readable pdf"
      ]
    },
    {
      "cell_type": "code",
      "execution_count": 35,
      "metadata": {},
      "outputs": [
        {
          "name": "stdout",
          "output_type": "stream",
          "text": [
            "[NbConvertApp] Converting notebook SteveA-NLP-1.1.ipynb to pdf\n",
            "/usr/local/lib/python3.11/site-packages/nbconvert/utils/pandoc.py:51: RuntimeWarning: You are using an unsupported version of pandoc (3.1.3).\n",
            "Your version must be at least (1.12.1) but less than (3.0.0).\n",
            "Refer to https://pandoc.org/installing.html.\n",
            "Continuing with doubts...\n",
            "  check_pandoc_version()\n",
            "[NbConvertApp] Writing 36361 bytes to notebook.tex\n",
            "[NbConvertApp] Building PDF\n",
            "[NbConvertApp] Running xelatex 3 times: ['xelatex', 'notebook.tex', '-quiet']\n",
            "[NbConvertApp] Running bibtex 1 time: ['bibtex', 'notebook']\n",
            "[NbConvertApp] WARNING | bibtex had problems, most likely because there were no citations\n",
            "[NbConvertApp] PDF successfully created\n",
            "[NbConvertApp] Writing 37850 bytes to SteveA-NLP-1.1.pdf\n"
          ]
        }
      ],
      "source": [
        "!jupyter nbconvert --to pdf SteveA-NLP-1.1.ipynb"
      ]
    },
    {
      "cell_type": "code",
      "execution_count": 59,
      "metadata": {},
      "outputs": [
        {
          "name": "stdout",
          "output_type": "stream",
          "text": [
            "Everything up-to-date\n"
          ]
        }
      ],
      "source": [
        "!git push origin main"
      ]
    },
    {
      "cell_type": "code",
      "execution_count": null,
      "metadata": {},
      "outputs": [],
      "source": []
    }
  ],
  "metadata": {
    "colab": {
      "provenance": []
    },
    "kernelspec": {
      "display_name": "Python 3",
      "name": "python3"
    },
    "language_info": {
      "codemirror_mode": {
        "name": "ipython",
        "version": 3
      },
      "file_extension": ".py",
      "mimetype": "text/x-python",
      "name": "python",
      "nbconvert_exporter": "python",
      "pygments_lexer": "ipython3",
      "version": "3.11.3"
    }
  },
  "nbformat": 4,
  "nbformat_minor": 0
}
