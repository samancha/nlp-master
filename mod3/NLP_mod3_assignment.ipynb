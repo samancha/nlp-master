{
  "cells": [
    {
      "cell_type": "markdown",
      "metadata": {
        "id": "Ie0YHWk4u4RH"
      },
      "source": [
        "#### Import needed libraries"
      ]
    },
    {
      "cell_type": "code",
      "execution_count": 73,
      "metadata": {
        "id": "Hgg5_m5a7A9y",
        "colab": {
          "base_uri": "https://localhost:8080/"
        },
        "outputId": "43559fc1-7ac8-4d20-8233-64f6090ba9a1"
      },
      "outputs": [
        {
          "output_type": "stream",
          "name": "stderr",
          "text": [
            "[nltk_data] Downloading package stopwords to /root/nltk_data...\n",
            "[nltk_data]   Package stopwords is already up-to-date!\n",
            "[nltk_data] Downloading package punkt to /root/nltk_data...\n",
            "[nltk_data]   Package punkt is already up-to-date!\n"
          ]
        },
        {
          "output_type": "stream",
          "name": "stdout",
          "text": [
            "Drive already mounted at /content/drive; to attempt to forcibly remount, call drive.mount(\"/content/drive\", force_remount=True).\n"
          ]
        }
      ],
      "source": [
        "import pandas as pd\n",
        "import matplotlib.pyplot as plt\n",
        "import numpy as np\n",
        "import spacy\n",
        "import string\n",
        "import sklearn\n",
        "from spacy import displacy\n",
        "from pathlib import Path\n",
        "from spacy import displacy\n",
        "import os\n",
        "from collections import Counter\n",
        "import nltk\n",
        "# Download the stopwords and tokenizer from nltk\n",
        "nltk.download('stopwords')\n",
        "nltk.download('punkt')\n",
        "from nltk.corpus import stopwords\n",
        "from nltk.tokenize import word_tokenize\n",
        "\n",
        "from sklearn.metrics import classification_report\n",
        "from sklearn.ensemble import RandomForestClassifier\n",
        "from sklearn.model_selection import train_test_split\n",
        "from sklearn.feature_extraction.text import TfidfVectorizer\n",
        "from sklearn.svm import SVC\n",
        "from sklearn.metrics import accuracy_score, precision_score, recall_score, f1_score, confusion_matrix, roc_auc_score\n",
        "from sklearn.preprocessing import MultiLabelBinarizer\n",
        "from sklearn.multiclass import OneVsRestClassifier\n",
        "from google.colab import drive\n",
        "drive.mount('/content/drive')\n",
        "\n",
        "\n",
        "# Load the English language model\n",
        "nlp = spacy.load('en_core_web_sm')"
      ]
    },
    {
      "cell_type": "markdown",
      "metadata": {
        "id": "u6CUo2lLuyPx"
      },
      "source": [
        "#### Downloading class dataset"
      ]
    },
    {
      "cell_type": "code",
      "execution_count": 2,
      "metadata": {
        "id": "p0RNRPNv6Pz6"
      },
      "outputs": [],
      "source": [
        "# stored in my google drive\n",
        "!unzip -q /content/drive/MyDrive/Colab\\ Notebooks/datasets/BBC\\ News\\ Summary-kaggle-v2.zip"
      ]
    },
    {
      "cell_type": "markdown",
      "metadata": {
        "id": "DqTsh5YWIYIM"
      },
      "source": [
        "#### Importing and converting data to panda data frame"
      ]
    },
    {
      "cell_type": "code",
      "execution_count": 3,
      "metadata": {
        "colab": {
          "base_uri": "https://localhost:8080/",
          "height": 206
        },
        "id": "XK3x1PIOIXVP",
        "outputId": "1c6f0f2d-79a7-4e72-9b45-febb05966004"
      },
      "outputs": [
        {
          "output_type": "execute_result",
          "data": {
            "text/plain": [
              "       File_path                                      Articles text  label  \\\n",
              "0  sport/487.txt  Officials respond in court row..Australian ten...  sport   \n",
              "1  sport/257.txt  Spain coach faces racism inquiry..Spain's Foot...  sport   \n",
              "2  sport/471.txt  Capriati out of Australian Open..Jennifer Capr...  sport   \n",
              "3  sport/252.txt  Ferguson rues failure to cut gap..Boss Sir Ale...  sport   \n",
              "4  sport/158.txt  Stam spices up Man Utd encounter..AC Milan def...  sport   \n",
              "\n",
              "   Business  Entertainment  Politics  Sport  Tech  \n",
              "0         0              0         0      1     0  \n",
              "1         0              0         0      1     0  \n",
              "2         0              0         0      1     0  \n",
              "3         0              0         0      1     0  \n",
              "4         0              0         0      1     0  "
            ],
            "text/html": [
              "\n",
              "  <div id=\"df-76f18cae-8eb1-4c51-8a13-86b32e6db031\" class=\"colab-df-container\">\n",
              "    <div>\n",
              "<style scoped>\n",
              "    .dataframe tbody tr th:only-of-type {\n",
              "        vertical-align: middle;\n",
              "    }\n",
              "\n",
              "    .dataframe tbody tr th {\n",
              "        vertical-align: top;\n",
              "    }\n",
              "\n",
              "    .dataframe thead th {\n",
              "        text-align: right;\n",
              "    }\n",
              "</style>\n",
              "<table border=\"1\" class=\"dataframe\">\n",
              "  <thead>\n",
              "    <tr style=\"text-align: right;\">\n",
              "      <th></th>\n",
              "      <th>File_path</th>\n",
              "      <th>Articles text</th>\n",
              "      <th>label</th>\n",
              "      <th>Business</th>\n",
              "      <th>Entertainment</th>\n",
              "      <th>Politics</th>\n",
              "      <th>Sport</th>\n",
              "      <th>Tech</th>\n",
              "    </tr>\n",
              "  </thead>\n",
              "  <tbody>\n",
              "    <tr>\n",
              "      <th>0</th>\n",
              "      <td>sport/487.txt</td>\n",
              "      <td>Officials respond in court row..Australian ten...</td>\n",
              "      <td>sport</td>\n",
              "      <td>0</td>\n",
              "      <td>0</td>\n",
              "      <td>0</td>\n",
              "      <td>1</td>\n",
              "      <td>0</td>\n",
              "    </tr>\n",
              "    <tr>\n",
              "      <th>1</th>\n",
              "      <td>sport/257.txt</td>\n",
              "      <td>Spain coach faces racism inquiry..Spain's Foot...</td>\n",
              "      <td>sport</td>\n",
              "      <td>0</td>\n",
              "      <td>0</td>\n",
              "      <td>0</td>\n",
              "      <td>1</td>\n",
              "      <td>0</td>\n",
              "    </tr>\n",
              "    <tr>\n",
              "      <th>2</th>\n",
              "      <td>sport/471.txt</td>\n",
              "      <td>Capriati out of Australian Open..Jennifer Capr...</td>\n",
              "      <td>sport</td>\n",
              "      <td>0</td>\n",
              "      <td>0</td>\n",
              "      <td>0</td>\n",
              "      <td>1</td>\n",
              "      <td>0</td>\n",
              "    </tr>\n",
              "    <tr>\n",
              "      <th>3</th>\n",
              "      <td>sport/252.txt</td>\n",
              "      <td>Ferguson rues failure to cut gap..Boss Sir Ale...</td>\n",
              "      <td>sport</td>\n",
              "      <td>0</td>\n",
              "      <td>0</td>\n",
              "      <td>0</td>\n",
              "      <td>1</td>\n",
              "      <td>0</td>\n",
              "    </tr>\n",
              "    <tr>\n",
              "      <th>4</th>\n",
              "      <td>sport/158.txt</td>\n",
              "      <td>Stam spices up Man Utd encounter..AC Milan def...</td>\n",
              "      <td>sport</td>\n",
              "      <td>0</td>\n",
              "      <td>0</td>\n",
              "      <td>0</td>\n",
              "      <td>1</td>\n",
              "      <td>0</td>\n",
              "    </tr>\n",
              "  </tbody>\n",
              "</table>\n",
              "</div>\n",
              "    <div class=\"colab-df-buttons\">\n",
              "\n",
              "  <div class=\"colab-df-container\">\n",
              "    <button class=\"colab-df-convert\" onclick=\"convertToInteractive('df-76f18cae-8eb1-4c51-8a13-86b32e6db031')\"\n",
              "            title=\"Convert this dataframe to an interactive table.\"\n",
              "            style=\"display:none;\">\n",
              "\n",
              "  <svg xmlns=\"http://www.w3.org/2000/svg\" height=\"24px\" viewBox=\"0 -960 960 960\">\n",
              "    <path d=\"M120-120v-720h720v720H120Zm60-500h600v-160H180v160Zm220 220h160v-160H400v160Zm0 220h160v-160H400v160ZM180-400h160v-160H180v160Zm440 0h160v-160H620v160ZM180-180h160v-160H180v160Zm440 0h160v-160H620v160Z\"/>\n",
              "  </svg>\n",
              "    </button>\n",
              "\n",
              "  <style>\n",
              "    .colab-df-container {\n",
              "      display:flex;\n",
              "      gap: 12px;\n",
              "    }\n",
              "\n",
              "    .colab-df-convert {\n",
              "      background-color: #E8F0FE;\n",
              "      border: none;\n",
              "      border-radius: 50%;\n",
              "      cursor: pointer;\n",
              "      display: none;\n",
              "      fill: #1967D2;\n",
              "      height: 32px;\n",
              "      padding: 0 0 0 0;\n",
              "      width: 32px;\n",
              "    }\n",
              "\n",
              "    .colab-df-convert:hover {\n",
              "      background-color: #E2EBFA;\n",
              "      box-shadow: 0px 1px 2px rgba(60, 64, 67, 0.3), 0px 1px 3px 1px rgba(60, 64, 67, 0.15);\n",
              "      fill: #174EA6;\n",
              "    }\n",
              "\n",
              "    .colab-df-buttons div {\n",
              "      margin-bottom: 4px;\n",
              "    }\n",
              "\n",
              "    [theme=dark] .colab-df-convert {\n",
              "      background-color: #3B4455;\n",
              "      fill: #D2E3FC;\n",
              "    }\n",
              "\n",
              "    [theme=dark] .colab-df-convert:hover {\n",
              "      background-color: #434B5C;\n",
              "      box-shadow: 0px 1px 3px 1px rgba(0, 0, 0, 0.15);\n",
              "      filter: drop-shadow(0px 1px 2px rgba(0, 0, 0, 0.3));\n",
              "      fill: #FFFFFF;\n",
              "    }\n",
              "  </style>\n",
              "\n",
              "    <script>\n",
              "      const buttonEl =\n",
              "        document.querySelector('#df-76f18cae-8eb1-4c51-8a13-86b32e6db031 button.colab-df-convert');\n",
              "      buttonEl.style.display =\n",
              "        google.colab.kernel.accessAllowed ? 'block' : 'none';\n",
              "\n",
              "      async function convertToInteractive(key) {\n",
              "        const element = document.querySelector('#df-76f18cae-8eb1-4c51-8a13-86b32e6db031');\n",
              "        const dataTable =\n",
              "          await google.colab.kernel.invokeFunction('convertToInteractive',\n",
              "                                                    [key], {});\n",
              "        if (!dataTable) return;\n",
              "\n",
              "        const docLinkHtml = 'Like what you see? Visit the ' +\n",
              "          '<a target=\"_blank\" href=https://colab.research.google.com/notebooks/data_table.ipynb>data table notebook</a>'\n",
              "          + ' to learn more about interactive tables.';\n",
              "        element.innerHTML = '';\n",
              "        dataTable['output_type'] = 'display_data';\n",
              "        await google.colab.output.renderOutput(dataTable, element);\n",
              "        const docLink = document.createElement('div');\n",
              "        docLink.innerHTML = docLinkHtml;\n",
              "        element.appendChild(docLink);\n",
              "      }\n",
              "    </script>\n",
              "  </div>\n",
              "\n",
              "\n",
              "<div id=\"df-9f498557-0304-4663-968e-b037a4f44fad\">\n",
              "  <button class=\"colab-df-quickchart\" onclick=\"quickchart('df-9f498557-0304-4663-968e-b037a4f44fad')\"\n",
              "            title=\"Suggest charts.\"\n",
              "            style=\"display:none;\">\n",
              "\n",
              "<svg xmlns=\"http://www.w3.org/2000/svg\" height=\"24px\"viewBox=\"0 0 24 24\"\n",
              "     width=\"24px\">\n",
              "    <g>\n",
              "        <path d=\"M19 3H5c-1.1 0-2 .9-2 2v14c0 1.1.9 2 2 2h14c1.1 0 2-.9 2-2V5c0-1.1-.9-2-2-2zM9 17H7v-7h2v7zm4 0h-2V7h2v10zm4 0h-2v-4h2v4z\"/>\n",
              "    </g>\n",
              "</svg>\n",
              "  </button>\n",
              "\n",
              "<style>\n",
              "  .colab-df-quickchart {\n",
              "      --bg-color: #E8F0FE;\n",
              "      --fill-color: #1967D2;\n",
              "      --hover-bg-color: #E2EBFA;\n",
              "      --hover-fill-color: #174EA6;\n",
              "      --disabled-fill-color: #AAA;\n",
              "      --disabled-bg-color: #DDD;\n",
              "  }\n",
              "\n",
              "  [theme=dark] .colab-df-quickchart {\n",
              "      --bg-color: #3B4455;\n",
              "      --fill-color: #D2E3FC;\n",
              "      --hover-bg-color: #434B5C;\n",
              "      --hover-fill-color: #FFFFFF;\n",
              "      --disabled-bg-color: #3B4455;\n",
              "      --disabled-fill-color: #666;\n",
              "  }\n",
              "\n",
              "  .colab-df-quickchart {\n",
              "    background-color: var(--bg-color);\n",
              "    border: none;\n",
              "    border-radius: 50%;\n",
              "    cursor: pointer;\n",
              "    display: none;\n",
              "    fill: var(--fill-color);\n",
              "    height: 32px;\n",
              "    padding: 0;\n",
              "    width: 32px;\n",
              "  }\n",
              "\n",
              "  .colab-df-quickchart:hover {\n",
              "    background-color: var(--hover-bg-color);\n",
              "    box-shadow: 0 1px 2px rgba(60, 64, 67, 0.3), 0 1px 3px 1px rgba(60, 64, 67, 0.15);\n",
              "    fill: var(--button-hover-fill-color);\n",
              "  }\n",
              "\n",
              "  .colab-df-quickchart-complete:disabled,\n",
              "  .colab-df-quickchart-complete:disabled:hover {\n",
              "    background-color: var(--disabled-bg-color);\n",
              "    fill: var(--disabled-fill-color);\n",
              "    box-shadow: none;\n",
              "  }\n",
              "\n",
              "  .colab-df-spinner {\n",
              "    border: 2px solid var(--fill-color);\n",
              "    border-color: transparent;\n",
              "    border-bottom-color: var(--fill-color);\n",
              "    animation:\n",
              "      spin 1s steps(1) infinite;\n",
              "  }\n",
              "\n",
              "  @keyframes spin {\n",
              "    0% {\n",
              "      border-color: transparent;\n",
              "      border-bottom-color: var(--fill-color);\n",
              "      border-left-color: var(--fill-color);\n",
              "    }\n",
              "    20% {\n",
              "      border-color: transparent;\n",
              "      border-left-color: var(--fill-color);\n",
              "      border-top-color: var(--fill-color);\n",
              "    }\n",
              "    30% {\n",
              "      border-color: transparent;\n",
              "      border-left-color: var(--fill-color);\n",
              "      border-top-color: var(--fill-color);\n",
              "      border-right-color: var(--fill-color);\n",
              "    }\n",
              "    40% {\n",
              "      border-color: transparent;\n",
              "      border-right-color: var(--fill-color);\n",
              "      border-top-color: var(--fill-color);\n",
              "    }\n",
              "    60% {\n",
              "      border-color: transparent;\n",
              "      border-right-color: var(--fill-color);\n",
              "    }\n",
              "    80% {\n",
              "      border-color: transparent;\n",
              "      border-right-color: var(--fill-color);\n",
              "      border-bottom-color: var(--fill-color);\n",
              "    }\n",
              "    90% {\n",
              "      border-color: transparent;\n",
              "      border-bottom-color: var(--fill-color);\n",
              "    }\n",
              "  }\n",
              "</style>\n",
              "\n",
              "  <script>\n",
              "    async function quickchart(key) {\n",
              "      const quickchartButtonEl =\n",
              "        document.querySelector('#' + key + ' button');\n",
              "      quickchartButtonEl.disabled = true;  // To prevent multiple clicks.\n",
              "      quickchartButtonEl.classList.add('colab-df-spinner');\n",
              "      try {\n",
              "        const charts = await google.colab.kernel.invokeFunction(\n",
              "            'suggestCharts', [key], {});\n",
              "      } catch (error) {\n",
              "        console.error('Error during call to suggestCharts:', error);\n",
              "      }\n",
              "      quickchartButtonEl.classList.remove('colab-df-spinner');\n",
              "      quickchartButtonEl.classList.add('colab-df-quickchart-complete');\n",
              "    }\n",
              "    (() => {\n",
              "      let quickchartButtonEl =\n",
              "        document.querySelector('#df-9f498557-0304-4663-968e-b037a4f44fad button');\n",
              "      quickchartButtonEl.style.display =\n",
              "        google.colab.kernel.accessAllowed ? 'block' : 'none';\n",
              "    })();\n",
              "  </script>\n",
              "</div>\n",
              "    </div>\n",
              "  </div>\n"
            ]
          },
          "metadata": {},
          "execution_count": 3
        }
      ],
      "source": [
        "classes = os.listdir('/content/BBC News Summary/News Articles')\n",
        "Articles_dir = '/content/BBC News Summary/News Articles/'\n",
        "\n",
        "# initializing feature column data types\n",
        "articles = []\n",
        "file_arr = []\n",
        "is_sport = []\n",
        "is_biz = []\n",
        "is_ent = []\n",
        "is_politics = []\n",
        "is_tech =[]\n",
        "labels = []\n",
        "for cls in classes:\n",
        "    files = os.listdir(Articles_dir + cls)\n",
        "\n",
        "    for file in files:\n",
        "        article_file_path = Articles_dir + cls + '/' + file\n",
        "\n",
        "        # Starting to append values for the different feature columns\n",
        "        # extracting data from files\n",
        "        try:\n",
        "            with open (article_file_path,'r') as f:\n",
        "                articles.append('.'.join([line.rstrip() for line in f.readlines()]))\n",
        "\n",
        "            file_arr.append(cls + '/' + file)\n",
        "            labels.append(cls)\n",
        "            match cls:\n",
        "              case \"sport\":\n",
        "                is_sport.append(1)\n",
        "                is_biz.append(0)\n",
        "                is_ent.append(0)\n",
        "                is_politics.append(0)\n",
        "                is_tech.append(0)\n",
        "              case \"tech\":\n",
        "                is_sport.append(0)\n",
        "                is_biz.append(0)\n",
        "                is_ent.append(0)\n",
        "                is_politics.append(0)\n",
        "                is_tech.append(1)\n",
        "              case \"business\":\n",
        "                is_sport.append(0)\n",
        "                is_biz.append(1)\n",
        "                is_ent.append(0)\n",
        "                is_politics.append(0)\n",
        "                is_tech.append(0)\n",
        "              case \"entertainment\":\n",
        "                is_sport.append(0)\n",
        "                is_biz.append(0)\n",
        "                is_ent.append(1)\n",
        "                is_politics.append(0)\n",
        "                is_tech.append(0)\n",
        "              case \"politics\":\n",
        "                is_sport.append(0)\n",
        "                is_biz.append(0)\n",
        "                is_ent.append(0)\n",
        "                is_politics.append(1)\n",
        "                is_tech.append(0)\n",
        "        except:\n",
        "            pass\n",
        "\n",
        "df = pd.DataFrame({'File_path':file_arr,'Articles text': articles, 'label': labels, 'Business': is_biz, 'Entertainment': is_ent, 'Politics': is_politics, 'Sport': is_sport, 'Tech': is_tech})\n",
        "df.head()"
      ]
    },
    {
      "cell_type": "markdown",
      "metadata": {
        "id": "1Lq1RaugWgpC"
      },
      "source": [
        "## 2. Data Cleaning and Appending\n",
        "\n",
        "\n",
        "Preprocessing data is essentially to getting optimal model results. I used a modular approach and created a function to process each \"Articles text\" entry in the data.  I first began with tokenizing the text which, I noticed, better helped identify sets of words and distinguish puntuation more properly. I followed by lowercasing all the words and removing the following: punctuation, stopwords, and duplicate words.\n",
        "\n",
        "The process_text function returns the clean data as \"processed_text\" and gets added as a new data column. I also reused another function called get_token_count, to return and add a count of the tokens of the original Articles text and processed_text. This gave me great initial insight to see how much information was reduced, and to see how much was relevent."
      ]
    },
    {
      "cell_type": "code",
      "execution_count": 67,
      "metadata": {
        "colab": {
          "base_uri": "https://localhost:8080/",
          "height": 540
        },
        "id": "cyZodZ8GWgpD",
        "outputId": "f4744b58-8e27-4fe4-a415-d32eec108450"
      },
      "outputs": [
        {
          "output_type": "display_data",
          "data": {
            "text/plain": [
              "       File_path                                      Articles text  label  \\\n",
              "0  sport/487.txt  Officials respond in court row..Australian ten...  sport   \n",
              "1  sport/257.txt  Spain coach faces racism inquiry..Spain's Foot...  sport   \n",
              "2  sport/471.txt  Capriati out of Australian Open..Jennifer Capr...  sport   \n",
              "3  sport/252.txt  Ferguson rues failure to cut gap..Boss Sir Ale...  sport   \n",
              "4  sport/158.txt  Stam spices up Man Utd encounter..AC Milan def...  sport   \n",
              "\n",
              "   Business  Entertainment  Politics  Sport  Tech  \\\n",
              "0         0              0         0      1     0   \n",
              "1         0              0         0      1     0   \n",
              "2         0              0         0      1     0   \n",
              "3         0              0         0      1     0   \n",
              "4         0              0         0      1     0   \n",
              "\n",
              "                                      processed_text  \\\n",
              "0  officials respond court row australian tennis ...   \n",
              "1  spain coach faces racism inquiry football fede...   \n",
              "2  capriati australian open jennifer become third...   \n",
              "3  ferguson rues failure cut gap boss sir alex le...   \n",
              "4  stam spices man utd encounter ac milan defende...   \n",
              "\n",
              "   processed_text_token_count  Articles_text_token_count  \n",
              "0                          80                        247  \n",
              "1                         106                        288  \n",
              "2                          57                        146  \n",
              "3                          78                        220  \n",
              "4                         146                        447  "
            ],
            "text/html": [
              "\n",
              "  <div id=\"df-b5d52829-2a47-4f51-8af0-a5b1168d8379\" class=\"colab-df-container\">\n",
              "    <div>\n",
              "<style scoped>\n",
              "    .dataframe tbody tr th:only-of-type {\n",
              "        vertical-align: middle;\n",
              "    }\n",
              "\n",
              "    .dataframe tbody tr th {\n",
              "        vertical-align: top;\n",
              "    }\n",
              "\n",
              "    .dataframe thead th {\n",
              "        text-align: right;\n",
              "    }\n",
              "</style>\n",
              "<table border=\"1\" class=\"dataframe\">\n",
              "  <thead>\n",
              "    <tr style=\"text-align: right;\">\n",
              "      <th></th>\n",
              "      <th>File_path</th>\n",
              "      <th>Articles text</th>\n",
              "      <th>label</th>\n",
              "      <th>Business</th>\n",
              "      <th>Entertainment</th>\n",
              "      <th>Politics</th>\n",
              "      <th>Sport</th>\n",
              "      <th>Tech</th>\n",
              "      <th>processed_text</th>\n",
              "      <th>processed_text_token_count</th>\n",
              "      <th>Articles_text_token_count</th>\n",
              "    </tr>\n",
              "  </thead>\n",
              "  <tbody>\n",
              "    <tr>\n",
              "      <th>0</th>\n",
              "      <td>sport/487.txt</td>\n",
              "      <td>Officials respond in court row..Australian ten...</td>\n",
              "      <td>sport</td>\n",
              "      <td>0</td>\n",
              "      <td>0</td>\n",
              "      <td>0</td>\n",
              "      <td>1</td>\n",
              "      <td>0</td>\n",
              "      <td>officials respond court row australian tennis ...</td>\n",
              "      <td>80</td>\n",
              "      <td>247</td>\n",
              "    </tr>\n",
              "    <tr>\n",
              "      <th>1</th>\n",
              "      <td>sport/257.txt</td>\n",
              "      <td>Spain coach faces racism inquiry..Spain's Foot...</td>\n",
              "      <td>sport</td>\n",
              "      <td>0</td>\n",
              "      <td>0</td>\n",
              "      <td>0</td>\n",
              "      <td>1</td>\n",
              "      <td>0</td>\n",
              "      <td>spain coach faces racism inquiry football fede...</td>\n",
              "      <td>106</td>\n",
              "      <td>288</td>\n",
              "    </tr>\n",
              "    <tr>\n",
              "      <th>2</th>\n",
              "      <td>sport/471.txt</td>\n",
              "      <td>Capriati out of Australian Open..Jennifer Capr...</td>\n",
              "      <td>sport</td>\n",
              "      <td>0</td>\n",
              "      <td>0</td>\n",
              "      <td>0</td>\n",
              "      <td>1</td>\n",
              "      <td>0</td>\n",
              "      <td>capriati australian open jennifer become third...</td>\n",
              "      <td>57</td>\n",
              "      <td>146</td>\n",
              "    </tr>\n",
              "    <tr>\n",
              "      <th>3</th>\n",
              "      <td>sport/252.txt</td>\n",
              "      <td>Ferguson rues failure to cut gap..Boss Sir Ale...</td>\n",
              "      <td>sport</td>\n",
              "      <td>0</td>\n",
              "      <td>0</td>\n",
              "      <td>0</td>\n",
              "      <td>1</td>\n",
              "      <td>0</td>\n",
              "      <td>ferguson rues failure cut gap boss sir alex le...</td>\n",
              "      <td>78</td>\n",
              "      <td>220</td>\n",
              "    </tr>\n",
              "    <tr>\n",
              "      <th>4</th>\n",
              "      <td>sport/158.txt</td>\n",
              "      <td>Stam spices up Man Utd encounter..AC Milan def...</td>\n",
              "      <td>sport</td>\n",
              "      <td>0</td>\n",
              "      <td>0</td>\n",
              "      <td>0</td>\n",
              "      <td>1</td>\n",
              "      <td>0</td>\n",
              "      <td>stam spices man utd encounter ac milan defende...</td>\n",
              "      <td>146</td>\n",
              "      <td>447</td>\n",
              "    </tr>\n",
              "  </tbody>\n",
              "</table>\n",
              "</div>\n",
              "    <div class=\"colab-df-buttons\">\n",
              "\n",
              "  <div class=\"colab-df-container\">\n",
              "    <button class=\"colab-df-convert\" onclick=\"convertToInteractive('df-b5d52829-2a47-4f51-8af0-a5b1168d8379')\"\n",
              "            title=\"Convert this dataframe to an interactive table.\"\n",
              "            style=\"display:none;\">\n",
              "\n",
              "  <svg xmlns=\"http://www.w3.org/2000/svg\" height=\"24px\" viewBox=\"0 -960 960 960\">\n",
              "    <path d=\"M120-120v-720h720v720H120Zm60-500h600v-160H180v160Zm220 220h160v-160H400v160Zm0 220h160v-160H400v160ZM180-400h160v-160H180v160Zm440 0h160v-160H620v160ZM180-180h160v-160H180v160Zm440 0h160v-160H620v160Z\"/>\n",
              "  </svg>\n",
              "    </button>\n",
              "\n",
              "  <style>\n",
              "    .colab-df-container {\n",
              "      display:flex;\n",
              "      gap: 12px;\n",
              "    }\n",
              "\n",
              "    .colab-df-convert {\n",
              "      background-color: #E8F0FE;\n",
              "      border: none;\n",
              "      border-radius: 50%;\n",
              "      cursor: pointer;\n",
              "      display: none;\n",
              "      fill: #1967D2;\n",
              "      height: 32px;\n",
              "      padding: 0 0 0 0;\n",
              "      width: 32px;\n",
              "    }\n",
              "\n",
              "    .colab-df-convert:hover {\n",
              "      background-color: #E2EBFA;\n",
              "      box-shadow: 0px 1px 2px rgba(60, 64, 67, 0.3), 0px 1px 3px 1px rgba(60, 64, 67, 0.15);\n",
              "      fill: #174EA6;\n",
              "    }\n",
              "\n",
              "    .colab-df-buttons div {\n",
              "      margin-bottom: 4px;\n",
              "    }\n",
              "\n",
              "    [theme=dark] .colab-df-convert {\n",
              "      background-color: #3B4455;\n",
              "      fill: #D2E3FC;\n",
              "    }\n",
              "\n",
              "    [theme=dark] .colab-df-convert:hover {\n",
              "      background-color: #434B5C;\n",
              "      box-shadow: 0px 1px 3px 1px rgba(0, 0, 0, 0.15);\n",
              "      filter: drop-shadow(0px 1px 2px rgba(0, 0, 0, 0.3));\n",
              "      fill: #FFFFFF;\n",
              "    }\n",
              "  </style>\n",
              "\n",
              "    <script>\n",
              "      const buttonEl =\n",
              "        document.querySelector('#df-b5d52829-2a47-4f51-8af0-a5b1168d8379 button.colab-df-convert');\n",
              "      buttonEl.style.display =\n",
              "        google.colab.kernel.accessAllowed ? 'block' : 'none';\n",
              "\n",
              "      async function convertToInteractive(key) {\n",
              "        const element = document.querySelector('#df-b5d52829-2a47-4f51-8af0-a5b1168d8379');\n",
              "        const dataTable =\n",
              "          await google.colab.kernel.invokeFunction('convertToInteractive',\n",
              "                                                    [key], {});\n",
              "        if (!dataTable) return;\n",
              "\n",
              "        const docLinkHtml = 'Like what you see? Visit the ' +\n",
              "          '<a target=\"_blank\" href=https://colab.research.google.com/notebooks/data_table.ipynb>data table notebook</a>'\n",
              "          + ' to learn more about interactive tables.';\n",
              "        element.innerHTML = '';\n",
              "        dataTable['output_type'] = 'display_data';\n",
              "        await google.colab.output.renderOutput(dataTable, element);\n",
              "        const docLink = document.createElement('div');\n",
              "        docLink.innerHTML = docLinkHtml;\n",
              "        element.appendChild(docLink);\n",
              "      }\n",
              "    </script>\n",
              "  </div>\n",
              "\n",
              "\n",
              "<div id=\"df-5ee14576-4742-4a1f-80a2-335528aad2fe\">\n",
              "  <button class=\"colab-df-quickchart\" onclick=\"quickchart('df-5ee14576-4742-4a1f-80a2-335528aad2fe')\"\n",
              "            title=\"Suggest charts.\"\n",
              "            style=\"display:none;\">\n",
              "\n",
              "<svg xmlns=\"http://www.w3.org/2000/svg\" height=\"24px\"viewBox=\"0 0 24 24\"\n",
              "     width=\"24px\">\n",
              "    <g>\n",
              "        <path d=\"M19 3H5c-1.1 0-2 .9-2 2v14c0 1.1.9 2 2 2h14c1.1 0 2-.9 2-2V5c0-1.1-.9-2-2-2zM9 17H7v-7h2v7zm4 0h-2V7h2v10zm4 0h-2v-4h2v4z\"/>\n",
              "    </g>\n",
              "</svg>\n",
              "  </button>\n",
              "\n",
              "<style>\n",
              "  .colab-df-quickchart {\n",
              "      --bg-color: #E8F0FE;\n",
              "      --fill-color: #1967D2;\n",
              "      --hover-bg-color: #E2EBFA;\n",
              "      --hover-fill-color: #174EA6;\n",
              "      --disabled-fill-color: #AAA;\n",
              "      --disabled-bg-color: #DDD;\n",
              "  }\n",
              "\n",
              "  [theme=dark] .colab-df-quickchart {\n",
              "      --bg-color: #3B4455;\n",
              "      --fill-color: #D2E3FC;\n",
              "      --hover-bg-color: #434B5C;\n",
              "      --hover-fill-color: #FFFFFF;\n",
              "      --disabled-bg-color: #3B4455;\n",
              "      --disabled-fill-color: #666;\n",
              "  }\n",
              "\n",
              "  .colab-df-quickchart {\n",
              "    background-color: var(--bg-color);\n",
              "    border: none;\n",
              "    border-radius: 50%;\n",
              "    cursor: pointer;\n",
              "    display: none;\n",
              "    fill: var(--fill-color);\n",
              "    height: 32px;\n",
              "    padding: 0;\n",
              "    width: 32px;\n",
              "  }\n",
              "\n",
              "  .colab-df-quickchart:hover {\n",
              "    background-color: var(--hover-bg-color);\n",
              "    box-shadow: 0 1px 2px rgba(60, 64, 67, 0.3), 0 1px 3px 1px rgba(60, 64, 67, 0.15);\n",
              "    fill: var(--button-hover-fill-color);\n",
              "  }\n",
              "\n",
              "  .colab-df-quickchart-complete:disabled,\n",
              "  .colab-df-quickchart-complete:disabled:hover {\n",
              "    background-color: var(--disabled-bg-color);\n",
              "    fill: var(--disabled-fill-color);\n",
              "    box-shadow: none;\n",
              "  }\n",
              "\n",
              "  .colab-df-spinner {\n",
              "    border: 2px solid var(--fill-color);\n",
              "    border-color: transparent;\n",
              "    border-bottom-color: var(--fill-color);\n",
              "    animation:\n",
              "      spin 1s steps(1) infinite;\n",
              "  }\n",
              "\n",
              "  @keyframes spin {\n",
              "    0% {\n",
              "      border-color: transparent;\n",
              "      border-bottom-color: var(--fill-color);\n",
              "      border-left-color: var(--fill-color);\n",
              "    }\n",
              "    20% {\n",
              "      border-color: transparent;\n",
              "      border-left-color: var(--fill-color);\n",
              "      border-top-color: var(--fill-color);\n",
              "    }\n",
              "    30% {\n",
              "      border-color: transparent;\n",
              "      border-left-color: var(--fill-color);\n",
              "      border-top-color: var(--fill-color);\n",
              "      border-right-color: var(--fill-color);\n",
              "    }\n",
              "    40% {\n",
              "      border-color: transparent;\n",
              "      border-right-color: var(--fill-color);\n",
              "      border-top-color: var(--fill-color);\n",
              "    }\n",
              "    60% {\n",
              "      border-color: transparent;\n",
              "      border-right-color: var(--fill-color);\n",
              "    }\n",
              "    80% {\n",
              "      border-color: transparent;\n",
              "      border-right-color: var(--fill-color);\n",
              "      border-bottom-color: var(--fill-color);\n",
              "    }\n",
              "    90% {\n",
              "      border-color: transparent;\n",
              "      border-bottom-color: var(--fill-color);\n",
              "    }\n",
              "  }\n",
              "</style>\n",
              "\n",
              "  <script>\n",
              "    async function quickchart(key) {\n",
              "      const quickchartButtonEl =\n",
              "        document.querySelector('#' + key + ' button');\n",
              "      quickchartButtonEl.disabled = true;  // To prevent multiple clicks.\n",
              "      quickchartButtonEl.classList.add('colab-df-spinner');\n",
              "      try {\n",
              "        const charts = await google.colab.kernel.invokeFunction(\n",
              "            'suggestCharts', [key], {});\n",
              "      } catch (error) {\n",
              "        console.error('Error during call to suggestCharts:', error);\n",
              "      }\n",
              "      quickchartButtonEl.classList.remove('colab-df-spinner');\n",
              "      quickchartButtonEl.classList.add('colab-df-quickchart-complete');\n",
              "    }\n",
              "    (() => {\n",
              "      let quickchartButtonEl =\n",
              "        document.querySelector('#df-5ee14576-4742-4a1f-80a2-335528aad2fe button');\n",
              "      quickchartButtonEl.style.display =\n",
              "        google.colab.kernel.accessAllowed ? 'block' : 'none';\n",
              "    })();\n",
              "  </script>\n",
              "</div>\n",
              "    </div>\n",
              "  </div>\n"
            ]
          },
          "metadata": {}
        },
        {
          "output_type": "stream",
          "name": "stdout",
          "text": [
            "sample of cleaned text \n",
            " officials respond court row australian tennis top official defended open courts melbourne park criticism playing surface lleyton hewitt said gutful trying persuade make faster australia geoff pollard rejected comments ask made last year knowledge spent substantial amount money modifications got past fourth round seven attempts earlier worthy prestigious tournament would play whatever order chance winning starts 17 january speeded since following complaints several players refused accept may bearing performances years proving versatile surfaces one beat roger federer davis cup 2003\n"
          ]
        }
      ],
      "source": [
        "def preprocess_text(text):\n",
        "    # Convert text to lowercase\n",
        "    words = word_tokenize(text)\n",
        "\n",
        "    # Convert words to lowercase\n",
        "    words = [word.lower() for word in words]\n",
        "\n",
        "    # Remove punctuation from words\n",
        "    words = [word for word in words if word.isalnum()]\n",
        "\n",
        "    # Remove stopwords\n",
        "    stop_words = set(stopwords.words('english'))\n",
        "    words = [word for word in words if word not in stop_words]\n",
        "\n",
        "    # Remove duplicate words\n",
        "    unique_words = list(dict.fromkeys(words))\n",
        "\n",
        "    # Join the words back into a string\n",
        "    text = ' '.join(unique_words)\n",
        "\n",
        "    return text\n",
        "\n",
        "def get_token_count(text):\n",
        "    words = word_tokenize(text)\n",
        "    return len(words)\n",
        "\n",
        "\n",
        "# Apply the function to the DataFrame column\n",
        "df['processed_text'] = df['Articles text'].apply(preprocess_text)\n",
        "df['processed_text_token_count'] = df['processed_text'].apply(get_token_count)\n",
        "df['Articles_text_token_count'] = df['Articles text'].apply(get_token_count)\n",
        "\n",
        "display(df.head())\n",
        "print(\"sample of cleaned text \\n\", df['processed_text'][0])"
      ]
    },
    {
      "cell_type": "markdown",
      "metadata": {
        "id": "SC0jGxBdWgpD"
      },
      "source": [
        "#### EDA of Articles Text using NER and POS"
      ]
    },
    {
      "cell_type": "code",
      "source": [
        "doc = nlp(df['processed_text'][0])\n",
        "\n",
        "# produce spacy ent results\n",
        "displacy.render(doc, style='ent', minify=True, jupyter=True)\n",
        "\n",
        "options = {\"compact\": True, \"bg\": \"#09a3d5\",\"color\": \"white\", \"font\": \"Source Sans Pro\", \"distance\": 70}\n",
        "displacy.render(doc, style=\"dep\",minify=True,jupyter=True, options=options)\n"
      ],
      "metadata": {
        "colab": {
          "base_uri": "https://localhost:8080/",
          "height": 493
        },
        "id": "3jiU9pwMCpgc",
        "outputId": "33e4dd83-d751-4693-9763-2a0c6914b4df"
      },
      "execution_count": 55,
      "outputs": [
        {
          "output_type": "display_data",
          "data": {
            "text/plain": [
              "<IPython.core.display.HTML object>"
            ],
            "text/html": [
              "<span class=\"tex2jax_ignore\"><div class=\"entities\" style=\"line-height: 2.5; direction: ltr\">officials respond court row <mark class=\"entity\" style=\"background: #c887fb; padding: 0.45em 0.6em; margin: 0 0.25em; line-height: 1; border-radius: 0.35em;\">australian<span style=\"font-size: 0.8em; font-weight: bold; line-height: 1; border-radius: 0.35em; vertical-align: middle; margin-left: 0.5rem\">NORP</span></mark> tennis top official defended open courts melbourne park criticism playing surface lleyton hewitt said gutful trying persuade make faster <mark class=\"entity\" style=\"background: #7aecec; padding: 0.45em 0.6em; margin: 0 0.25em; line-height: 1; border-radius: 0.35em;\">australia geoff pollard<span style=\"font-size: 0.8em; font-weight: bold; line-height: 1; border-radius: 0.35em; vertical-align: middle; margin-left: 0.5rem\">ORG</span></mark> rejected comments ask made <mark class=\"entity\" style=\"background: #bfe1d9; padding: 0.45em 0.6em; margin: 0 0.25em; line-height: 1; border-radius: 0.35em;\">last year<span style=\"font-size: 0.8em; font-weight: bold; line-height: 1; border-radius: 0.35em; vertical-align: middle; margin-left: 0.5rem\">DATE</span></mark> knowledge spent substantial amount money modifications got past <mark class=\"entity\" style=\"background: #e4e7d2; padding: 0.45em 0.6em; margin: 0 0.25em; line-height: 1; border-radius: 0.35em;\">fourth<span style=\"font-size: 0.8em; font-weight: bold; line-height: 1; border-radius: 0.35em; vertical-align: middle; margin-left: 0.5rem\">ORDINAL</span></mark> round <mark class=\"entity\" style=\"background: #e4e7d2; padding: 0.45em 0.6em; margin: 0 0.25em; line-height: 1; border-radius: 0.35em;\">seven<span style=\"font-size: 0.8em; font-weight: bold; line-height: 1; border-radius: 0.35em; vertical-align: middle; margin-left: 0.5rem\">CARDINAL</span></mark> attempts earlier worthy prestigious tournament would play whatever order chance winning starts <mark class=\"entity\" style=\"background: #e4e7d2; padding: 0.45em 0.6em; margin: 0 0.25em; line-height: 1; border-radius: 0.35em;\">17<span style=\"font-size: 0.8em; font-weight: bold; line-height: 1; border-radius: 0.35em; vertical-align: middle; margin-left: 0.5rem\">CARDINAL</span></mark> january speeded since following complaints several players refused accept may bearing performances <mark class=\"entity\" style=\"background: #bfe1d9; padding: 0.45em 0.6em; margin: 0 0.25em; line-height: 1; border-radius: 0.35em;\">years<span style=\"font-size: 0.8em; font-weight: bold; line-height: 1; border-radius: 0.35em; vertical-align: middle; margin-left: 0.5rem\">DATE</span></mark> proving versatile surfaces <mark class=\"entity\" style=\"background: #e4e7d2; padding: 0.45em 0.6em; margin: 0 0.25em; line-height: 1; border-radius: 0.35em;\">one<span style=\"font-size: 0.8em; font-weight: bold; line-height: 1; border-radius: 0.35em; vertical-align: middle; margin-left: 0.5rem\">CARDINAL</span></mark> beat roger federer <mark class=\"entity\" style=\"background: #aa9cfc; padding: 0.45em 0.6em; margin: 0 0.25em; line-height: 1; border-radius: 0.35em;\">davis<span style=\"font-size: 0.8em; font-weight: bold; line-height: 1; border-radius: 0.35em; vertical-align: middle; margin-left: 0.5rem\">PERSON</span></mark> cup <mark class=\"entity\" style=\"background: #bfe1d9; padding: 0.45em 0.6em; margin: 0 0.25em; line-height: 1; border-radius: 0.35em;\">2003<span style=\"font-size: 0.8em; font-weight: bold; line-height: 1; border-radius: 0.35em; vertical-align: middle; margin-left: 0.5rem\">DATE</span></mark></div></span>"
            ]
          },
          "metadata": {}
        },
        {
          "output_type": "display_data",
          "data": {
            "text/plain": [
              "<IPython.core.display.HTML object>"
            ],
            "text/html": [
              "<span class=\"tex2jax_ignore\"><svg xmlns=\"http://www.w3.org/2000/svg\" xmlns:xlink=\"http://www.w3.org/1999/xlink\" xml:lang=\"en\" id=\"ee1c2a99307747a0969b1602a145cf58-0\" class=\"displacy\" width=\"5650\" height=\"312.0\" direction=\"ltr\" style=\"max-width: none; height: 312.0px; color: white; background: #09a3d5; font-family: Source Sans Pro; direction: ltr\"><text class=\"displacy-token\" fill=\"currentColor\" text-anchor=\"middle\" y=\"222.0\"><tspan class=\"displacy-word\" fill=\"currentColor\" x=\"50\">officials</tspan><tspan class=\"displacy-tag\" dy=\"2em\" fill=\"currentColor\" x=\"50\">NOUN</tspan></text><text class=\"displacy-token\" fill=\"currentColor\" text-anchor=\"middle\" y=\"222.0\"><tspan class=\"displacy-word\" fill=\"currentColor\" x=\"120\">respond</tspan><tspan class=\"displacy-tag\" dy=\"2em\" fill=\"currentColor\" x=\"120\">VERB</tspan></text><text class=\"displacy-token\" fill=\"currentColor\" text-anchor=\"middle\" y=\"222.0\"><tspan class=\"displacy-word\" fill=\"currentColor\" x=\"190\">court</tspan><tspan class=\"displacy-tag\" dy=\"2em\" fill=\"currentColor\" x=\"190\">NOUN</tspan></text><text class=\"displacy-token\" fill=\"currentColor\" text-anchor=\"middle\" y=\"222.0\"><tspan class=\"displacy-word\" fill=\"currentColor\" x=\"260\">row</tspan><tspan class=\"displacy-tag\" dy=\"2em\" fill=\"currentColor\" x=\"260\">NOUN</tspan></text><text class=\"displacy-token\" fill=\"currentColor\" text-anchor=\"middle\" y=\"222.0\"><tspan class=\"displacy-word\" fill=\"currentColor\" x=\"330\">australian</tspan><tspan class=\"displacy-tag\" dy=\"2em\" fill=\"currentColor\" x=\"330\">ADJ</tspan></text><text class=\"displacy-token\" fill=\"currentColor\" text-anchor=\"middle\" y=\"222.0\"><tspan class=\"displacy-word\" fill=\"currentColor\" x=\"400\">tennis</tspan><tspan class=\"displacy-tag\" dy=\"2em\" fill=\"currentColor\" x=\"400\">NOUN</tspan></text><text class=\"displacy-token\" fill=\"currentColor\" text-anchor=\"middle\" y=\"222.0\"><tspan class=\"displacy-word\" fill=\"currentColor\" x=\"470\">top</tspan><tspan class=\"displacy-tag\" dy=\"2em\" fill=\"currentColor\" x=\"470\">ADJ</tspan></text><text class=\"displacy-token\" fill=\"currentColor\" text-anchor=\"middle\" y=\"222.0\"><tspan class=\"displacy-word\" fill=\"currentColor\" x=\"540\">official</tspan><tspan class=\"displacy-tag\" dy=\"2em\" fill=\"currentColor\" x=\"540\">NOUN</tspan></text><text class=\"displacy-token\" fill=\"currentColor\" text-anchor=\"middle\" y=\"222.0\"><tspan class=\"displacy-word\" fill=\"currentColor\" x=\"610\">defended</tspan><tspan class=\"displacy-tag\" dy=\"2em\" fill=\"currentColor\" x=\"610\">VERB</tspan></text><text class=\"displacy-token\" fill=\"currentColor\" text-anchor=\"middle\" y=\"222.0\"><tspan class=\"displacy-word\" fill=\"currentColor\" x=\"680\">open</tspan><tspan class=\"displacy-tag\" dy=\"2em\" fill=\"currentColor\" x=\"680\">ADJ</tspan></text><text class=\"displacy-token\" fill=\"currentColor\" text-anchor=\"middle\" y=\"222.0\"><tspan class=\"displacy-word\" fill=\"currentColor\" x=\"750\">courts</tspan><tspan class=\"displacy-tag\" dy=\"2em\" fill=\"currentColor\" x=\"750\">NOUN</tspan></text><text class=\"displacy-token\" fill=\"currentColor\" text-anchor=\"middle\" y=\"222.0\"><tspan class=\"displacy-word\" fill=\"currentColor\" x=\"820\">melbourne</tspan><tspan class=\"displacy-tag\" dy=\"2em\" fill=\"currentColor\" x=\"820\">NOUN</tspan></text><text class=\"displacy-token\" fill=\"currentColor\" text-anchor=\"middle\" y=\"222.0\"><tspan class=\"displacy-word\" fill=\"currentColor\" x=\"890\">park</tspan><tspan class=\"displacy-tag\" dy=\"2em\" fill=\"currentColor\" x=\"890\">NOUN</tspan></text><text class=\"displacy-token\" fill=\"currentColor\" text-anchor=\"middle\" y=\"222.0\"><tspan class=\"displacy-word\" fill=\"currentColor\" x=\"960\">criticism</tspan><tspan class=\"displacy-tag\" dy=\"2em\" fill=\"currentColor\" x=\"960\">NOUN</tspan></text><text class=\"displacy-token\" fill=\"currentColor\" text-anchor=\"middle\" y=\"222.0\"><tspan class=\"displacy-word\" fill=\"currentColor\" x=\"1030\">playing</tspan><tspan class=\"displacy-tag\" dy=\"2em\" fill=\"currentColor\" x=\"1030\">VERB</tspan></text><text class=\"displacy-token\" fill=\"currentColor\" text-anchor=\"middle\" y=\"222.0\"><tspan class=\"displacy-word\" fill=\"currentColor\" x=\"1100\">surface</tspan><tspan class=\"displacy-tag\" dy=\"2em\" fill=\"currentColor\" x=\"1100\">PROPN</tspan></text><text class=\"displacy-token\" fill=\"currentColor\" text-anchor=\"middle\" y=\"222.0\"><tspan class=\"displacy-word\" fill=\"currentColor\" x=\"1170\">lleyton</tspan><tspan class=\"displacy-tag\" dy=\"2em\" fill=\"currentColor\" x=\"1170\">PROPN</tspan></text><text class=\"displacy-token\" fill=\"currentColor\" text-anchor=\"middle\" y=\"222.0\"><tspan class=\"displacy-word\" fill=\"currentColor\" x=\"1240\">hewitt</tspan><tspan class=\"displacy-tag\" dy=\"2em\" fill=\"currentColor\" x=\"1240\">PROPN</tspan></text><text class=\"displacy-token\" fill=\"currentColor\" text-anchor=\"middle\" y=\"222.0\"><tspan class=\"displacy-word\" fill=\"currentColor\" x=\"1310\">said</tspan><tspan class=\"displacy-tag\" dy=\"2em\" fill=\"currentColor\" x=\"1310\">VERB</tspan></text><text class=\"displacy-token\" fill=\"currentColor\" text-anchor=\"middle\" y=\"222.0\"><tspan class=\"displacy-word\" fill=\"currentColor\" x=\"1380\">gutful</tspan><tspan class=\"displacy-tag\" dy=\"2em\" fill=\"currentColor\" x=\"1380\">ADJ</tspan></text><text class=\"displacy-token\" fill=\"currentColor\" text-anchor=\"middle\" y=\"222.0\"><tspan class=\"displacy-word\" fill=\"currentColor\" x=\"1450\">trying</tspan><tspan class=\"displacy-tag\" dy=\"2em\" fill=\"currentColor\" x=\"1450\">VERB</tspan></text><text class=\"displacy-token\" fill=\"currentColor\" text-anchor=\"middle\" y=\"222.0\"><tspan class=\"displacy-word\" fill=\"currentColor\" x=\"1520\">persuade</tspan><tspan class=\"displacy-tag\" dy=\"2em\" fill=\"currentColor\" x=\"1520\">NOUN</tspan></text><text class=\"displacy-token\" fill=\"currentColor\" text-anchor=\"middle\" y=\"222.0\"><tspan class=\"displacy-word\" fill=\"currentColor\" x=\"1590\">make</tspan><tspan class=\"displacy-tag\" dy=\"2em\" fill=\"currentColor\" x=\"1590\">VERB</tspan></text><text class=\"displacy-token\" fill=\"currentColor\" text-anchor=\"middle\" y=\"222.0\"><tspan class=\"displacy-word\" fill=\"currentColor\" x=\"1660\">faster</tspan><tspan class=\"displacy-tag\" dy=\"2em\" fill=\"currentColor\" x=\"1660\">ADJ</tspan></text><text class=\"displacy-token\" fill=\"currentColor\" text-anchor=\"middle\" y=\"222.0\"><tspan class=\"displacy-word\" fill=\"currentColor\" x=\"1730\">australia</tspan><tspan class=\"displacy-tag\" dy=\"2em\" fill=\"currentColor\" x=\"1730\">PROPN</tspan></text><text class=\"displacy-token\" fill=\"currentColor\" text-anchor=\"middle\" y=\"222.0\"><tspan class=\"displacy-word\" fill=\"currentColor\" x=\"1800\">geoff</tspan><tspan class=\"displacy-tag\" dy=\"2em\" fill=\"currentColor\" x=\"1800\">PROPN</tspan></text><text class=\"displacy-token\" fill=\"currentColor\" text-anchor=\"middle\" y=\"222.0\"><tspan class=\"displacy-word\" fill=\"currentColor\" x=\"1870\">pollard</tspan><tspan class=\"displacy-tag\" dy=\"2em\" fill=\"currentColor\" x=\"1870\">PROPN</tspan></text><text class=\"displacy-token\" fill=\"currentColor\" text-anchor=\"middle\" y=\"222.0\"><tspan class=\"displacy-word\" fill=\"currentColor\" x=\"1940\">rejected</tspan><tspan class=\"displacy-tag\" dy=\"2em\" fill=\"currentColor\" x=\"1940\">VERB</tspan></text><text class=\"displacy-token\" fill=\"currentColor\" text-anchor=\"middle\" y=\"222.0\"><tspan class=\"displacy-word\" fill=\"currentColor\" x=\"2010\">comments</tspan><tspan class=\"displacy-tag\" dy=\"2em\" fill=\"currentColor\" x=\"2010\">NOUN</tspan></text><text class=\"displacy-token\" fill=\"currentColor\" text-anchor=\"middle\" y=\"222.0\"><tspan class=\"displacy-word\" fill=\"currentColor\" x=\"2080\">ask</tspan><tspan class=\"displacy-tag\" dy=\"2em\" fill=\"currentColor\" x=\"2080\">VERB</tspan></text><text class=\"displacy-token\" fill=\"currentColor\" text-anchor=\"middle\" y=\"222.0\"><tspan class=\"displacy-word\" fill=\"currentColor\" x=\"2150\">made</tspan><tspan class=\"displacy-tag\" dy=\"2em\" fill=\"currentColor\" x=\"2150\">VERB</tspan></text><text class=\"displacy-token\" fill=\"currentColor\" text-anchor=\"middle\" y=\"222.0\"><tspan class=\"displacy-word\" fill=\"currentColor\" x=\"2220\">last</tspan><tspan class=\"displacy-tag\" dy=\"2em\" fill=\"currentColor\" x=\"2220\">ADJ</tspan></text><text class=\"displacy-token\" fill=\"currentColor\" text-anchor=\"middle\" y=\"222.0\"><tspan class=\"displacy-word\" fill=\"currentColor\" x=\"2290\">year</tspan><tspan class=\"displacy-tag\" dy=\"2em\" fill=\"currentColor\" x=\"2290\">NOUN</tspan></text><text class=\"displacy-token\" fill=\"currentColor\" text-anchor=\"middle\" y=\"222.0\"><tspan class=\"displacy-word\" fill=\"currentColor\" x=\"2360\">knowledge</tspan><tspan class=\"displacy-tag\" dy=\"2em\" fill=\"currentColor\" x=\"2360\">NOUN</tspan></text><text class=\"displacy-token\" fill=\"currentColor\" text-anchor=\"middle\" y=\"222.0\"><tspan class=\"displacy-word\" fill=\"currentColor\" x=\"2430\">spent</tspan><tspan class=\"displacy-tag\" dy=\"2em\" fill=\"currentColor\" x=\"2430\">VERB</tspan></text><text class=\"displacy-token\" fill=\"currentColor\" text-anchor=\"middle\" y=\"222.0\"><tspan class=\"displacy-word\" fill=\"currentColor\" x=\"2500\">substantial</tspan><tspan class=\"displacy-tag\" dy=\"2em\" fill=\"currentColor\" x=\"2500\">ADJ</tspan></text><text class=\"displacy-token\" fill=\"currentColor\" text-anchor=\"middle\" y=\"222.0\"><tspan class=\"displacy-word\" fill=\"currentColor\" x=\"2570\">amount</tspan><tspan class=\"displacy-tag\" dy=\"2em\" fill=\"currentColor\" x=\"2570\">NOUN</tspan></text><text class=\"displacy-token\" fill=\"currentColor\" text-anchor=\"middle\" y=\"222.0\"><tspan class=\"displacy-word\" fill=\"currentColor\" x=\"2640\">money</tspan><tspan class=\"displacy-tag\" dy=\"2em\" fill=\"currentColor\" x=\"2640\">NOUN</tspan></text><text class=\"displacy-token\" fill=\"currentColor\" text-anchor=\"middle\" y=\"222.0\"><tspan class=\"displacy-word\" fill=\"currentColor\" x=\"2710\">modifications</tspan><tspan class=\"displacy-tag\" dy=\"2em\" fill=\"currentColor\" x=\"2710\">NOUN</tspan></text><text class=\"displacy-token\" fill=\"currentColor\" text-anchor=\"middle\" y=\"222.0\"><tspan class=\"displacy-word\" fill=\"currentColor\" x=\"2780\">got</tspan><tspan class=\"displacy-tag\" dy=\"2em\" fill=\"currentColor\" x=\"2780\">VERB</tspan></text><text class=\"displacy-token\" fill=\"currentColor\" text-anchor=\"middle\" y=\"222.0\"><tspan class=\"displacy-word\" fill=\"currentColor\" x=\"2850\">past</tspan><tspan class=\"displacy-tag\" dy=\"2em\" fill=\"currentColor\" x=\"2850\">ADP</tspan></text><text class=\"displacy-token\" fill=\"currentColor\" text-anchor=\"middle\" y=\"222.0\"><tspan class=\"displacy-word\" fill=\"currentColor\" x=\"2920\">fourth</tspan><tspan class=\"displacy-tag\" dy=\"2em\" fill=\"currentColor\" x=\"2920\">ADJ</tspan></text><text class=\"displacy-token\" fill=\"currentColor\" text-anchor=\"middle\" y=\"222.0\"><tspan class=\"displacy-word\" fill=\"currentColor\" x=\"2990\">round</tspan><tspan class=\"displacy-tag\" dy=\"2em\" fill=\"currentColor\" x=\"2990\">NOUN</tspan></text><text class=\"displacy-token\" fill=\"currentColor\" text-anchor=\"middle\" y=\"222.0\"><tspan class=\"displacy-word\" fill=\"currentColor\" x=\"3060\">seven</tspan><tspan class=\"displacy-tag\" dy=\"2em\" fill=\"currentColor\" x=\"3060\">NUM</tspan></text><text class=\"displacy-token\" fill=\"currentColor\" text-anchor=\"middle\" y=\"222.0\"><tspan class=\"displacy-word\" fill=\"currentColor\" x=\"3130\">attempts</tspan><tspan class=\"displacy-tag\" dy=\"2em\" fill=\"currentColor\" x=\"3130\">NOUN</tspan></text><text class=\"displacy-token\" fill=\"currentColor\" text-anchor=\"middle\" y=\"222.0\"><tspan class=\"displacy-word\" fill=\"currentColor\" x=\"3200\">earlier</tspan><tspan class=\"displacy-tag\" dy=\"2em\" fill=\"currentColor\" x=\"3200\">ADV</tspan></text><text class=\"displacy-token\" fill=\"currentColor\" text-anchor=\"middle\" y=\"222.0\"><tspan class=\"displacy-word\" fill=\"currentColor\" x=\"3270\">worthy</tspan><tspan class=\"displacy-tag\" dy=\"2em\" fill=\"currentColor\" x=\"3270\">ADJ</tspan></text><text class=\"displacy-token\" fill=\"currentColor\" text-anchor=\"middle\" y=\"222.0\"><tspan class=\"displacy-word\" fill=\"currentColor\" x=\"3340\">prestigious</tspan><tspan class=\"displacy-tag\" dy=\"2em\" fill=\"currentColor\" x=\"3340\">ADJ</tspan></text><text class=\"displacy-token\" fill=\"currentColor\" text-anchor=\"middle\" y=\"222.0\"><tspan class=\"displacy-word\" fill=\"currentColor\" x=\"3410\">tournament</tspan><tspan class=\"displacy-tag\" dy=\"2em\" fill=\"currentColor\" x=\"3410\">NOUN</tspan></text><text class=\"displacy-token\" fill=\"currentColor\" text-anchor=\"middle\" y=\"222.0\"><tspan class=\"displacy-word\" fill=\"currentColor\" x=\"3480\">would</tspan><tspan class=\"displacy-tag\" dy=\"2em\" fill=\"currentColor\" x=\"3480\">AUX</tspan></text><text class=\"displacy-token\" fill=\"currentColor\" text-anchor=\"middle\" y=\"222.0\"><tspan class=\"displacy-word\" fill=\"currentColor\" x=\"3550\">play</tspan><tspan class=\"displacy-tag\" dy=\"2em\" fill=\"currentColor\" x=\"3550\">VERB</tspan></text><text class=\"displacy-token\" fill=\"currentColor\" text-anchor=\"middle\" y=\"222.0\"><tspan class=\"displacy-word\" fill=\"currentColor\" x=\"3620\">whatever</tspan><tspan class=\"displacy-tag\" dy=\"2em\" fill=\"currentColor\" x=\"3620\">DET</tspan></text><text class=\"displacy-token\" fill=\"currentColor\" text-anchor=\"middle\" y=\"222.0\"><tspan class=\"displacy-word\" fill=\"currentColor\" x=\"3690\">order</tspan><tspan class=\"displacy-tag\" dy=\"2em\" fill=\"currentColor\" x=\"3690\">NOUN</tspan></text><text class=\"displacy-token\" fill=\"currentColor\" text-anchor=\"middle\" y=\"222.0\"><tspan class=\"displacy-word\" fill=\"currentColor\" x=\"3760\">chance</tspan><tspan class=\"displacy-tag\" dy=\"2em\" fill=\"currentColor\" x=\"3760\">NOUN</tspan></text><text class=\"displacy-token\" fill=\"currentColor\" text-anchor=\"middle\" y=\"222.0\"><tspan class=\"displacy-word\" fill=\"currentColor\" x=\"3830\">winning</tspan><tspan class=\"displacy-tag\" dy=\"2em\" fill=\"currentColor\" x=\"3830\">VERB</tspan></text><text class=\"displacy-token\" fill=\"currentColor\" text-anchor=\"middle\" y=\"222.0\"><tspan class=\"displacy-word\" fill=\"currentColor\" x=\"3900\">starts</tspan><tspan class=\"displacy-tag\" dy=\"2em\" fill=\"currentColor\" x=\"3900\">NOUN</tspan></text><text class=\"displacy-token\" fill=\"currentColor\" text-anchor=\"middle\" y=\"222.0\"><tspan class=\"displacy-word\" fill=\"currentColor\" x=\"3970\">17</tspan><tspan class=\"displacy-tag\" dy=\"2em\" fill=\"currentColor\" x=\"3970\">NUM</tspan></text><text class=\"displacy-token\" fill=\"currentColor\" text-anchor=\"middle\" y=\"222.0\"><tspan class=\"displacy-word\" fill=\"currentColor\" x=\"4040\">january</tspan><tspan class=\"displacy-tag\" dy=\"2em\" fill=\"currentColor\" x=\"4040\">PROPN</tspan></text><text class=\"displacy-token\" fill=\"currentColor\" text-anchor=\"middle\" y=\"222.0\"><tspan class=\"displacy-word\" fill=\"currentColor\" x=\"4110\">speeded</tspan><tspan class=\"displacy-tag\" dy=\"2em\" fill=\"currentColor\" x=\"4110\">VERB</tspan></text><text class=\"displacy-token\" fill=\"currentColor\" text-anchor=\"middle\" y=\"222.0\"><tspan class=\"displacy-word\" fill=\"currentColor\" x=\"4180\">since</tspan><tspan class=\"displacy-tag\" dy=\"2em\" fill=\"currentColor\" x=\"4180\">SCONJ</tspan></text><text class=\"displacy-token\" fill=\"currentColor\" text-anchor=\"middle\" y=\"222.0\"><tspan class=\"displacy-word\" fill=\"currentColor\" x=\"4250\">following</tspan><tspan class=\"displacy-tag\" dy=\"2em\" fill=\"currentColor\" x=\"4250\">VERB</tspan></text><text class=\"displacy-token\" fill=\"currentColor\" text-anchor=\"middle\" y=\"222.0\"><tspan class=\"displacy-word\" fill=\"currentColor\" x=\"4320\">complaints</tspan><tspan class=\"displacy-tag\" dy=\"2em\" fill=\"currentColor\" x=\"4320\">NOUN</tspan></text><text class=\"displacy-token\" fill=\"currentColor\" text-anchor=\"middle\" y=\"222.0\"><tspan class=\"displacy-word\" fill=\"currentColor\" x=\"4390\">several</tspan><tspan class=\"displacy-tag\" dy=\"2em\" fill=\"currentColor\" x=\"4390\">ADJ</tspan></text><text class=\"displacy-token\" fill=\"currentColor\" text-anchor=\"middle\" y=\"222.0\"><tspan class=\"displacy-word\" fill=\"currentColor\" x=\"4460\">players</tspan><tspan class=\"displacy-tag\" dy=\"2em\" fill=\"currentColor\" x=\"4460\">NOUN</tspan></text><text class=\"displacy-token\" fill=\"currentColor\" text-anchor=\"middle\" y=\"222.0\"><tspan class=\"displacy-word\" fill=\"currentColor\" x=\"4530\">refused</tspan><tspan class=\"displacy-tag\" dy=\"2em\" fill=\"currentColor\" x=\"4530\">VERB</tspan></text><text class=\"displacy-token\" fill=\"currentColor\" text-anchor=\"middle\" y=\"222.0\"><tspan class=\"displacy-word\" fill=\"currentColor\" x=\"4600\">accept</tspan><tspan class=\"displacy-tag\" dy=\"2em\" fill=\"currentColor\" x=\"4600\">VERB</tspan></text><text class=\"displacy-token\" fill=\"currentColor\" text-anchor=\"middle\" y=\"222.0\"><tspan class=\"displacy-word\" fill=\"currentColor\" x=\"4670\">may</tspan><tspan class=\"displacy-tag\" dy=\"2em\" fill=\"currentColor\" x=\"4670\">AUX</tspan></text><text class=\"displacy-token\" fill=\"currentColor\" text-anchor=\"middle\" y=\"222.0\"><tspan class=\"displacy-word\" fill=\"currentColor\" x=\"4740\">bearing</tspan><tspan class=\"displacy-tag\" dy=\"2em\" fill=\"currentColor\" x=\"4740\">VERB</tspan></text><text class=\"displacy-token\" fill=\"currentColor\" text-anchor=\"middle\" y=\"222.0\"><tspan class=\"displacy-word\" fill=\"currentColor\" x=\"4810\">performances</tspan><tspan class=\"displacy-tag\" dy=\"2em\" fill=\"currentColor\" x=\"4810\">NOUN</tspan></text><text class=\"displacy-token\" fill=\"currentColor\" text-anchor=\"middle\" y=\"222.0\"><tspan class=\"displacy-word\" fill=\"currentColor\" x=\"4880\">years</tspan><tspan class=\"displacy-tag\" dy=\"2em\" fill=\"currentColor\" x=\"4880\">NOUN</tspan></text><text class=\"displacy-token\" fill=\"currentColor\" text-anchor=\"middle\" y=\"222.0\"><tspan class=\"displacy-word\" fill=\"currentColor\" x=\"4950\">proving</tspan><tspan class=\"displacy-tag\" dy=\"2em\" fill=\"currentColor\" x=\"4950\">VERB</tspan></text><text class=\"displacy-token\" fill=\"currentColor\" text-anchor=\"middle\" y=\"222.0\"><tspan class=\"displacy-word\" fill=\"currentColor\" x=\"5020\">versatile</tspan><tspan class=\"displacy-tag\" dy=\"2em\" fill=\"currentColor\" x=\"5020\">ADJ</tspan></text><text class=\"displacy-token\" fill=\"currentColor\" text-anchor=\"middle\" y=\"222.0\"><tspan class=\"displacy-word\" fill=\"currentColor\" x=\"5090\">surfaces</tspan><tspan class=\"displacy-tag\" dy=\"2em\" fill=\"currentColor\" x=\"5090\">NOUN</tspan></text><text class=\"displacy-token\" fill=\"currentColor\" text-anchor=\"middle\" y=\"222.0\"><tspan class=\"displacy-word\" fill=\"currentColor\" x=\"5160\">one</tspan><tspan class=\"displacy-tag\" dy=\"2em\" fill=\"currentColor\" x=\"5160\">NUM</tspan></text><text class=\"displacy-token\" fill=\"currentColor\" text-anchor=\"middle\" y=\"222.0\"><tspan class=\"displacy-word\" fill=\"currentColor\" x=\"5230\">beat</tspan><tspan class=\"displacy-tag\" dy=\"2em\" fill=\"currentColor\" x=\"5230\">VERB</tspan></text><text class=\"displacy-token\" fill=\"currentColor\" text-anchor=\"middle\" y=\"222.0\"><tspan class=\"displacy-word\" fill=\"currentColor\" x=\"5300\">roger</tspan><tspan class=\"displacy-tag\" dy=\"2em\" fill=\"currentColor\" x=\"5300\">PROPN</tspan></text><text class=\"displacy-token\" fill=\"currentColor\" text-anchor=\"middle\" y=\"222.0\"><tspan class=\"displacy-word\" fill=\"currentColor\" x=\"5370\">federer</tspan><tspan class=\"displacy-tag\" dy=\"2em\" fill=\"currentColor\" x=\"5370\">PROPN</tspan></text><text class=\"displacy-token\" fill=\"currentColor\" text-anchor=\"middle\" y=\"222.0\"><tspan class=\"displacy-word\" fill=\"currentColor\" x=\"5440\">davis</tspan><tspan class=\"displacy-tag\" dy=\"2em\" fill=\"currentColor\" x=\"5440\">PROPN</tspan></text><text class=\"displacy-token\" fill=\"currentColor\" text-anchor=\"middle\" y=\"222.0\"><tspan class=\"displacy-word\" fill=\"currentColor\" x=\"5510\">cup</tspan><tspan class=\"displacy-tag\" dy=\"2em\" fill=\"currentColor\" x=\"5510\">PROPN</tspan></text><text class=\"displacy-token\" fill=\"currentColor\" text-anchor=\"middle\" y=\"222.0\"><tspan class=\"displacy-word\" fill=\"currentColor\" x=\"5580\">2003</tspan><tspan class=\"displacy-tag\" dy=\"2em\" fill=\"currentColor\" x=\"5580\">NUM</tspan></text><g class=\"displacy-arrow\"><path class=\"displacy-arc\" id=\"arrow-ee1c2a99307747a0969b1602a145cf58-0-0\" stroke-width=\"2px\" d=\"M62,177.0 62,165.33333333333334 108.0,165.33333333333334 108.0,177.0\" fill=\"none\" stroke=\"currentColor\"/><text dy=\"1.25em\" style=\"font-size: 0.8em; letter-spacing: 1px\"><textPath xlink:href=\"#arrow-ee1c2a99307747a0969b1602a145cf58-0-0\" class=\"displacy-label\" startOffset=\"50%\" side=\"left\" fill=\"currentColor\" text-anchor=\"middle\">nsubj</textPath></text><path class=\"displacy-arrowhead\" d=\"M62,179.0 L58,171.0 66,171.0\" fill=\"currentColor\"/></g><g class=\"displacy-arrow\"><path class=\"displacy-arc\" id=\"arrow-ee1c2a99307747a0969b1602a145cf58-0-1\" stroke-width=\"2px\" d=\"M202,177.0 202,165.33333333333334 248.0,165.33333333333334 248.0,177.0\" fill=\"none\" stroke=\"currentColor\"/><text dy=\"1.25em\" style=\"font-size: 0.8em; letter-spacing: 1px\"><textPath xlink:href=\"#arrow-ee1c2a99307747a0969b1602a145cf58-0-1\" class=\"displacy-label\" startOffset=\"50%\" side=\"left\" fill=\"currentColor\" text-anchor=\"middle\">compound</textPath></text><path class=\"displacy-arrowhead\" d=\"M202,179.0 L198,171.0 206,171.0\" fill=\"currentColor\"/></g><g class=\"displacy-arrow\"><path class=\"displacy-arc\" id=\"arrow-ee1c2a99307747a0969b1602a145cf58-0-2\" stroke-width=\"2px\" d=\"M132,177.0 132,153.66666666666666 251.0,153.66666666666666 251.0,177.0\" fill=\"none\" stroke=\"currentColor\"/><text dy=\"1.25em\" style=\"font-size: 0.8em; letter-spacing: 1px\"><textPath xlink:href=\"#arrow-ee1c2a99307747a0969b1602a145cf58-0-2\" class=\"displacy-label\" startOffset=\"50%\" side=\"left\" fill=\"currentColor\" text-anchor=\"middle\">dobj</textPath></text><path class=\"displacy-arrowhead\" d=\"M251.0,179.0 L255.0,171.0 247.0,171.0\" fill=\"currentColor\"/></g><g class=\"displacy-arrow\"><path class=\"displacy-arc\" id=\"arrow-ee1c2a99307747a0969b1602a145cf58-0-3\" stroke-width=\"2px\" d=\"M342,177.0 342,142.0 534.0,142.0 534.0,177.0\" fill=\"none\" stroke=\"currentColor\"/><text dy=\"1.25em\" style=\"font-size: 0.8em; letter-spacing: 1px\"><textPath xlink:href=\"#arrow-ee1c2a99307747a0969b1602a145cf58-0-3\" class=\"displacy-label\" startOffset=\"50%\" side=\"left\" fill=\"currentColor\" text-anchor=\"middle\">amod</textPath></text><path class=\"displacy-arrowhead\" d=\"M342,179.0 L338,171.0 346,171.0\" fill=\"currentColor\"/></g><g class=\"displacy-arrow\"><path class=\"displacy-arc\" id=\"arrow-ee1c2a99307747a0969b1602a145cf58-0-4\" stroke-width=\"2px\" d=\"M412,177.0 412,153.66666666666666 531.0,153.66666666666666 531.0,177.0\" fill=\"none\" stroke=\"currentColor\"/><text dy=\"1.25em\" style=\"font-size: 0.8em; letter-spacing: 1px\"><textPath xlink:href=\"#arrow-ee1c2a99307747a0969b1602a145cf58-0-4\" class=\"displacy-label\" startOffset=\"50%\" side=\"left\" fill=\"currentColor\" text-anchor=\"middle\">nmod</textPath></text><path class=\"displacy-arrowhead\" d=\"M412,179.0 L408,171.0 416,171.0\" fill=\"currentColor\"/></g><g class=\"displacy-arrow\"><path class=\"displacy-arc\" id=\"arrow-ee1c2a99307747a0969b1602a145cf58-0-5\" stroke-width=\"2px\" d=\"M482,177.0 482,165.33333333333334 528.0,165.33333333333334 528.0,177.0\" fill=\"none\" stroke=\"currentColor\"/><text dy=\"1.25em\" style=\"font-size: 0.8em; letter-spacing: 1px\"><textPath xlink:href=\"#arrow-ee1c2a99307747a0969b1602a145cf58-0-5\" class=\"displacy-label\" startOffset=\"50%\" side=\"left\" fill=\"currentColor\" text-anchor=\"middle\">amod</textPath></text><path class=\"displacy-arrowhead\" d=\"M482,179.0 L478,171.0 486,171.0\" fill=\"currentColor\"/></g><g class=\"displacy-arrow\"><path class=\"displacy-arc\" id=\"arrow-ee1c2a99307747a0969b1602a145cf58-0-6\" stroke-width=\"2px\" d=\"M552,177.0 552,165.33333333333334 598.0,165.33333333333334 598.0,177.0\" fill=\"none\" stroke=\"currentColor\"/><text dy=\"1.25em\" style=\"font-size: 0.8em; letter-spacing: 1px\"><textPath xlink:href=\"#arrow-ee1c2a99307747a0969b1602a145cf58-0-6\" class=\"displacy-label\" startOffset=\"50%\" side=\"left\" fill=\"currentColor\" text-anchor=\"middle\">nsubj</textPath></text><path class=\"displacy-arrowhead\" d=\"M552,179.0 L548,171.0 556,171.0\" fill=\"currentColor\"/></g><g class=\"displacy-arrow\"><path class=\"displacy-arc\" id=\"arrow-ee1c2a99307747a0969b1602a145cf58-0-7\" stroke-width=\"2px\" d=\"M132,177.0 132,130.33333333333334 607.0,130.33333333333334 607.0,177.0\" fill=\"none\" stroke=\"currentColor\"/><text dy=\"1.25em\" style=\"font-size: 0.8em; letter-spacing: 1px\"><textPath xlink:href=\"#arrow-ee1c2a99307747a0969b1602a145cf58-0-7\" class=\"displacy-label\" startOffset=\"50%\" side=\"left\" fill=\"currentColor\" text-anchor=\"middle\">conj</textPath></text><path class=\"displacy-arrowhead\" d=\"M607.0,179.0 L611.0,171.0 603.0,171.0\" fill=\"currentColor\"/></g><g class=\"displacy-arrow\"><path class=\"displacy-arc\" id=\"arrow-ee1c2a99307747a0969b1602a145cf58-0-8\" stroke-width=\"2px\" d=\"M692,177.0 692,165.33333333333334 738.0,165.33333333333334 738.0,177.0\" fill=\"none\" stroke=\"currentColor\"/><text dy=\"1.25em\" style=\"font-size: 0.8em; letter-spacing: 1px\"><textPath xlink:href=\"#arrow-ee1c2a99307747a0969b1602a145cf58-0-8\" class=\"displacy-label\" startOffset=\"50%\" side=\"left\" fill=\"currentColor\" text-anchor=\"middle\">amod</textPath></text><path class=\"displacy-arrowhead\" d=\"M692,179.0 L688,171.0 696,171.0\" fill=\"currentColor\"/></g><g class=\"displacy-arrow\"><path class=\"displacy-arc\" id=\"arrow-ee1c2a99307747a0969b1602a145cf58-0-9\" stroke-width=\"2px\" d=\"M762,177.0 762,153.66666666666666 951.0,153.66666666666666 951.0,177.0\" fill=\"none\" stroke=\"currentColor\"/><text dy=\"1.25em\" style=\"font-size: 0.8em; letter-spacing: 1px\"><textPath xlink:href=\"#arrow-ee1c2a99307747a0969b1602a145cf58-0-9\" class=\"displacy-label\" startOffset=\"50%\" side=\"left\" fill=\"currentColor\" text-anchor=\"middle\">compound</textPath></text><path class=\"displacy-arrowhead\" d=\"M762,179.0 L758,171.0 766,171.0\" fill=\"currentColor\"/></g><g class=\"displacy-arrow\"><path class=\"displacy-arc\" id=\"arrow-ee1c2a99307747a0969b1602a145cf58-0-10\" stroke-width=\"2px\" d=\"M832,177.0 832,165.33333333333334 878.0,165.33333333333334 878.0,177.0\" fill=\"none\" stroke=\"currentColor\"/><text dy=\"1.25em\" style=\"font-size: 0.8em; letter-spacing: 1px\"><textPath xlink:href=\"#arrow-ee1c2a99307747a0969b1602a145cf58-0-10\" class=\"displacy-label\" startOffset=\"50%\" side=\"left\" fill=\"currentColor\" text-anchor=\"middle\">compound</textPath></text><path class=\"displacy-arrowhead\" d=\"M832,179.0 L828,171.0 836,171.0\" fill=\"currentColor\"/></g><g class=\"displacy-arrow\"><path class=\"displacy-arc\" id=\"arrow-ee1c2a99307747a0969b1602a145cf58-0-11\" stroke-width=\"2px\" d=\"M902,177.0 902,165.33333333333334 948.0,165.33333333333334 948.0,177.0\" fill=\"none\" stroke=\"currentColor\"/><text dy=\"1.25em\" style=\"font-size: 0.8em; letter-spacing: 1px\"><textPath xlink:href=\"#arrow-ee1c2a99307747a0969b1602a145cf58-0-11\" class=\"displacy-label\" startOffset=\"50%\" side=\"left\" fill=\"currentColor\" text-anchor=\"middle\">compound</textPath></text><path class=\"displacy-arrowhead\" d=\"M902,179.0 L898,171.0 906,171.0\" fill=\"currentColor\"/></g><g class=\"displacy-arrow\"><path class=\"displacy-arc\" id=\"arrow-ee1c2a99307747a0969b1602a145cf58-0-12\" stroke-width=\"2px\" d=\"M622,177.0 622,142.0 954.0,142.0 954.0,177.0\" fill=\"none\" stroke=\"currentColor\"/><text dy=\"1.25em\" style=\"font-size: 0.8em; letter-spacing: 1px\"><textPath xlink:href=\"#arrow-ee1c2a99307747a0969b1602a145cf58-0-12\" class=\"displacy-label\" startOffset=\"50%\" side=\"left\" fill=\"currentColor\" text-anchor=\"middle\">dobj</textPath></text><path class=\"displacy-arrowhead\" d=\"M954.0,179.0 L958.0,171.0 950.0,171.0\" fill=\"currentColor\"/></g><g class=\"displacy-arrow\"><path class=\"displacy-arc\" id=\"arrow-ee1c2a99307747a0969b1602a145cf58-0-13\" stroke-width=\"2px\" d=\"M972,177.0 972,165.33333333333334 1018.0,165.33333333333334 1018.0,177.0\" fill=\"none\" stroke=\"currentColor\"/><text dy=\"1.25em\" style=\"font-size: 0.8em; letter-spacing: 1px\"><textPath xlink:href=\"#arrow-ee1c2a99307747a0969b1602a145cf58-0-13\" class=\"displacy-label\" startOffset=\"50%\" side=\"left\" fill=\"currentColor\" text-anchor=\"middle\">acl</textPath></text><path class=\"displacy-arrowhead\" d=\"M1018.0,179.0 L1022.0,171.0 1014.0,171.0\" fill=\"currentColor\"/></g><g class=\"displacy-arrow\"><path class=\"displacy-arc\" id=\"arrow-ee1c2a99307747a0969b1602a145cf58-0-14\" stroke-width=\"2px\" d=\"M1042,177.0 1042,165.33333333333334 1088.0,165.33333333333334 1088.0,177.0\" fill=\"none\" stroke=\"currentColor\"/><text dy=\"1.25em\" style=\"font-size: 0.8em; letter-spacing: 1px\"><textPath xlink:href=\"#arrow-ee1c2a99307747a0969b1602a145cf58-0-14\" class=\"displacy-label\" startOffset=\"50%\" side=\"left\" fill=\"currentColor\" text-anchor=\"middle\">dobj</textPath></text><path class=\"displacy-arrowhead\" d=\"M1088.0,179.0 L1092.0,171.0 1084.0,171.0\" fill=\"currentColor\"/></g><g class=\"displacy-arrow\"><path class=\"displacy-arc\" id=\"arrow-ee1c2a99307747a0969b1602a145cf58-0-15\" stroke-width=\"2px\" d=\"M1182,177.0 1182,165.33333333333334 1228.0,165.33333333333334 1228.0,177.0\" fill=\"none\" stroke=\"currentColor\"/><text dy=\"1.25em\" style=\"font-size: 0.8em; letter-spacing: 1px\"><textPath xlink:href=\"#arrow-ee1c2a99307747a0969b1602a145cf58-0-15\" class=\"displacy-label\" startOffset=\"50%\" side=\"left\" fill=\"currentColor\" text-anchor=\"middle\">compound</textPath></text><path class=\"displacy-arrowhead\" d=\"M1182,179.0 L1178,171.0 1186,171.0\" fill=\"currentColor\"/></g><g class=\"displacy-arrow\"><path class=\"displacy-arc\" id=\"arrow-ee1c2a99307747a0969b1602a145cf58-0-16\" stroke-width=\"2px\" d=\"M1252,177.0 1252,165.33333333333334 1298.0,165.33333333333334 1298.0,177.0\" fill=\"none\" stroke=\"currentColor\"/><text dy=\"1.25em\" style=\"font-size: 0.8em; letter-spacing: 1px\"><textPath xlink:href=\"#arrow-ee1c2a99307747a0969b1602a145cf58-0-16\" class=\"displacy-label\" startOffset=\"50%\" side=\"left\" fill=\"currentColor\" text-anchor=\"middle\">nsubj</textPath></text><path class=\"displacy-arrowhead\" d=\"M1252,179.0 L1248,171.0 1256,171.0\" fill=\"currentColor\"/></g><g class=\"displacy-arrow\"><path class=\"displacy-arc\" id=\"arrow-ee1c2a99307747a0969b1602a145cf58-0-17\" stroke-width=\"2px\" d=\"M132,177.0 132,118.66666666666666 1310.0,118.66666666666666 1310.0,177.0\" fill=\"none\" stroke=\"currentColor\"/><text dy=\"1.25em\" style=\"font-size: 0.8em; letter-spacing: 1px\"><textPath xlink:href=\"#arrow-ee1c2a99307747a0969b1602a145cf58-0-17\" class=\"displacy-label\" startOffset=\"50%\" side=\"left\" fill=\"currentColor\" text-anchor=\"middle\">conj</textPath></text><path class=\"displacy-arrowhead\" d=\"M1310.0,179.0 L1314.0,171.0 1306.0,171.0\" fill=\"currentColor\"/></g><g class=\"displacy-arrow\"><path class=\"displacy-arc\" id=\"arrow-ee1c2a99307747a0969b1602a145cf58-0-18\" stroke-width=\"2px\" d=\"M1392,177.0 1392,153.66666666666666 1511.0,153.66666666666666 1511.0,177.0\" fill=\"none\" stroke=\"currentColor\"/><text dy=\"1.25em\" style=\"font-size: 0.8em; letter-spacing: 1px\"><textPath xlink:href=\"#arrow-ee1c2a99307747a0969b1602a145cf58-0-18\" class=\"displacy-label\" startOffset=\"50%\" side=\"left\" fill=\"currentColor\" text-anchor=\"middle\">amod</textPath></text><path class=\"displacy-arrowhead\" d=\"M1392,179.0 L1388,171.0 1396,171.0\" fill=\"currentColor\"/></g><g class=\"displacy-arrow\"><path class=\"displacy-arc\" id=\"arrow-ee1c2a99307747a0969b1602a145cf58-0-19\" stroke-width=\"2px\" d=\"M1462,177.0 1462,165.33333333333334 1508.0,165.33333333333334 1508.0,177.0\" fill=\"none\" stroke=\"currentColor\"/><text dy=\"1.25em\" style=\"font-size: 0.8em; letter-spacing: 1px\"><textPath xlink:href=\"#arrow-ee1c2a99307747a0969b1602a145cf58-0-19\" class=\"displacy-label\" startOffset=\"50%\" side=\"left\" fill=\"currentColor\" text-anchor=\"middle\">compound</textPath></text><path class=\"displacy-arrowhead\" d=\"M1462,179.0 L1458,171.0 1466,171.0\" fill=\"currentColor\"/></g><g class=\"displacy-arrow\"><path class=\"displacy-arc\" id=\"arrow-ee1c2a99307747a0969b1602a145cf58-0-20\" stroke-width=\"2px\" d=\"M1532,177.0 1532,165.33333333333334 1578.0,165.33333333333334 1578.0,177.0\" fill=\"none\" stroke=\"currentColor\"/><text dy=\"1.25em\" style=\"font-size: 0.8em; letter-spacing: 1px\"><textPath xlink:href=\"#arrow-ee1c2a99307747a0969b1602a145cf58-0-20\" class=\"displacy-label\" startOffset=\"50%\" side=\"left\" fill=\"currentColor\" text-anchor=\"middle\">nsubj</textPath></text><path class=\"displacy-arrowhead\" d=\"M1532,179.0 L1528,171.0 1536,171.0\" fill=\"currentColor\"/></g><g class=\"displacy-arrow\"><path class=\"displacy-arc\" id=\"arrow-ee1c2a99307747a0969b1602a145cf58-0-21\" stroke-width=\"2px\" d=\"M1322,177.0 1322,142.0 1584.0,142.0 1584.0,177.0\" fill=\"none\" stroke=\"currentColor\"/><text dy=\"1.25em\" style=\"font-size: 0.8em; letter-spacing: 1px\"><textPath xlink:href=\"#arrow-ee1c2a99307747a0969b1602a145cf58-0-21\" class=\"displacy-label\" startOffset=\"50%\" side=\"left\" fill=\"currentColor\" text-anchor=\"middle\">ccomp</textPath></text><path class=\"displacy-arrowhead\" d=\"M1584.0,179.0 L1588.0,171.0 1580.0,171.0\" fill=\"currentColor\"/></g><g class=\"displacy-arrow\"><path class=\"displacy-arc\" id=\"arrow-ee1c2a99307747a0969b1602a145cf58-0-22\" stroke-width=\"2px\" d=\"M1672,177.0 1672,153.66666666666666 1931.0,153.66666666666666 1931.0,177.0\" fill=\"none\" stroke=\"currentColor\"/><text dy=\"1.25em\" style=\"font-size: 0.8em; letter-spacing: 1px\"><textPath xlink:href=\"#arrow-ee1c2a99307747a0969b1602a145cf58-0-22\" class=\"displacy-label\" startOffset=\"50%\" side=\"left\" fill=\"currentColor\" text-anchor=\"middle\">advmod</textPath></text><path class=\"displacy-arrowhead\" d=\"M1672,179.0 L1668,171.0 1676,171.0\" fill=\"currentColor\"/></g><g class=\"displacy-arrow\"><path class=\"displacy-arc\" id=\"arrow-ee1c2a99307747a0969b1602a145cf58-0-23\" stroke-width=\"2px\" d=\"M1742,177.0 1742,165.33333333333334 1788.0,165.33333333333334 1788.0,177.0\" fill=\"none\" stroke=\"currentColor\"/><text dy=\"1.25em\" style=\"font-size: 0.8em; letter-spacing: 1px\"><textPath xlink:href=\"#arrow-ee1c2a99307747a0969b1602a145cf58-0-23\" class=\"displacy-label\" startOffset=\"50%\" side=\"left\" fill=\"currentColor\" text-anchor=\"middle\">compound</textPath></text><path class=\"displacy-arrowhead\" d=\"M1742,179.0 L1738,171.0 1746,171.0\" fill=\"currentColor\"/></g><g class=\"displacy-arrow\"><path class=\"displacy-arc\" id=\"arrow-ee1c2a99307747a0969b1602a145cf58-0-24\" stroke-width=\"2px\" d=\"M1812,177.0 1812,165.33333333333334 1858.0,165.33333333333334 1858.0,177.0\" fill=\"none\" stroke=\"currentColor\"/><text dy=\"1.25em\" style=\"font-size: 0.8em; letter-spacing: 1px\"><textPath xlink:href=\"#arrow-ee1c2a99307747a0969b1602a145cf58-0-24\" class=\"displacy-label\" startOffset=\"50%\" side=\"left\" fill=\"currentColor\" text-anchor=\"middle\">compound</textPath></text><path class=\"displacy-arrowhead\" d=\"M1812,179.0 L1808,171.0 1816,171.0\" fill=\"currentColor\"/></g><g class=\"displacy-arrow\"><path class=\"displacy-arc\" id=\"arrow-ee1c2a99307747a0969b1602a145cf58-0-25\" stroke-width=\"2px\" d=\"M1882,177.0 1882,165.33333333333334 1928.0,165.33333333333334 1928.0,177.0\" fill=\"none\" stroke=\"currentColor\"/><text dy=\"1.25em\" style=\"font-size: 0.8em; letter-spacing: 1px\"><textPath xlink:href=\"#arrow-ee1c2a99307747a0969b1602a145cf58-0-25\" class=\"displacy-label\" startOffset=\"50%\" side=\"left\" fill=\"currentColor\" text-anchor=\"middle\">nsubj</textPath></text><path class=\"displacy-arrowhead\" d=\"M1882,179.0 L1878,171.0 1886,171.0\" fill=\"currentColor\"/></g><g class=\"displacy-arrow\"><path class=\"displacy-arc\" id=\"arrow-ee1c2a99307747a0969b1602a145cf58-0-26\" stroke-width=\"2px\" d=\"M1952,177.0 1952,165.33333333333334 1998.0,165.33333333333334 1998.0,177.0\" fill=\"none\" stroke=\"currentColor\"/><text dy=\"1.25em\" style=\"font-size: 0.8em; letter-spacing: 1px\"><textPath xlink:href=\"#arrow-ee1c2a99307747a0969b1602a145cf58-0-26\" class=\"displacy-label\" startOffset=\"50%\" side=\"left\" fill=\"currentColor\" text-anchor=\"middle\">amod</textPath></text><path class=\"displacy-arrowhead\" d=\"M1952,179.0 L1948,171.0 1956,171.0\" fill=\"currentColor\"/></g><g class=\"displacy-arrow\"><path class=\"displacy-arc\" id=\"arrow-ee1c2a99307747a0969b1602a145cf58-0-27\" stroke-width=\"2px\" d=\"M2022,177.0 2022,165.33333333333334 2068.0,165.33333333333334 2068.0,177.0\" fill=\"none\" stroke=\"currentColor\"/><text dy=\"1.25em\" style=\"font-size: 0.8em; letter-spacing: 1px\"><textPath xlink:href=\"#arrow-ee1c2a99307747a0969b1602a145cf58-0-27\" class=\"displacy-label\" startOffset=\"50%\" side=\"left\" fill=\"currentColor\" text-anchor=\"middle\">nsubj</textPath></text><path class=\"displacy-arrowhead\" d=\"M2022,179.0 L2018,171.0 2026,171.0\" fill=\"currentColor\"/></g><g class=\"displacy-arrow\"><path class=\"displacy-arc\" id=\"arrow-ee1c2a99307747a0969b1602a145cf58-0-28\" stroke-width=\"2px\" d=\"M1602,177.0 1602,142.0 2074.0,142.0 2074.0,177.0\" fill=\"none\" stroke=\"currentColor\"/><text dy=\"1.25em\" style=\"font-size: 0.8em; letter-spacing: 1px\"><textPath xlink:href=\"#arrow-ee1c2a99307747a0969b1602a145cf58-0-28\" class=\"displacy-label\" startOffset=\"50%\" side=\"left\" fill=\"currentColor\" text-anchor=\"middle\">ccomp</textPath></text><path class=\"displacy-arrowhead\" d=\"M2074.0,179.0 L2078.0,171.0 2070.0,171.0\" fill=\"currentColor\"/></g><g class=\"displacy-arrow\"><path class=\"displacy-arc\" id=\"arrow-ee1c2a99307747a0969b1602a145cf58-0-29\" stroke-width=\"2px\" d=\"M2092,177.0 2092,165.33333333333334 2138.0,165.33333333333334 2138.0,177.0\" fill=\"none\" stroke=\"currentColor\"/><text dy=\"1.25em\" style=\"font-size: 0.8em; letter-spacing: 1px\"><textPath xlink:href=\"#arrow-ee1c2a99307747a0969b1602a145cf58-0-29\" class=\"displacy-label\" startOffset=\"50%\" side=\"left\" fill=\"currentColor\" text-anchor=\"middle\">xcomp</textPath></text><path class=\"displacy-arrowhead\" d=\"M2138.0,179.0 L2142.0,171.0 2134.0,171.0\" fill=\"currentColor\"/></g><g class=\"displacy-arrow\"><path class=\"displacy-arc\" id=\"arrow-ee1c2a99307747a0969b1602a145cf58-0-30\" stroke-width=\"2px\" d=\"M2232,177.0 2232,165.33333333333334 2278.0,165.33333333333334 2278.0,177.0\" fill=\"none\" stroke=\"currentColor\"/><text dy=\"1.25em\" style=\"font-size: 0.8em; letter-spacing: 1px\"><textPath xlink:href=\"#arrow-ee1c2a99307747a0969b1602a145cf58-0-30\" class=\"displacy-label\" startOffset=\"50%\" side=\"left\" fill=\"currentColor\" text-anchor=\"middle\">amod</textPath></text><path class=\"displacy-arrowhead\" d=\"M2232,179.0 L2228,171.0 2236,171.0\" fill=\"currentColor\"/></g><g class=\"displacy-arrow\"><path class=\"displacy-arc\" id=\"arrow-ee1c2a99307747a0969b1602a145cf58-0-31\" stroke-width=\"2px\" d=\"M2302,177.0 2302,165.33333333333334 2348.0,165.33333333333334 2348.0,177.0\" fill=\"none\" stroke=\"currentColor\"/><text dy=\"1.25em\" style=\"font-size: 0.8em; letter-spacing: 1px\"><textPath xlink:href=\"#arrow-ee1c2a99307747a0969b1602a145cf58-0-31\" class=\"displacy-label\" startOffset=\"50%\" side=\"left\" fill=\"currentColor\" text-anchor=\"middle\">compound</textPath></text><path class=\"displacy-arrowhead\" d=\"M2302,179.0 L2298,171.0 2306,171.0\" fill=\"currentColor\"/></g><g class=\"displacy-arrow\"><path class=\"displacy-arc\" id=\"arrow-ee1c2a99307747a0969b1602a145cf58-0-32\" stroke-width=\"2px\" d=\"M2372,177.0 2372,165.33333333333334 2418.0,165.33333333333334 2418.0,177.0\" fill=\"none\" stroke=\"currentColor\"/><text dy=\"1.25em\" style=\"font-size: 0.8em; letter-spacing: 1px\"><textPath xlink:href=\"#arrow-ee1c2a99307747a0969b1602a145cf58-0-32\" class=\"displacy-label\" startOffset=\"50%\" side=\"left\" fill=\"currentColor\" text-anchor=\"middle\">nsubj</textPath></text><path class=\"displacy-arrowhead\" d=\"M2372,179.0 L2368,171.0 2376,171.0\" fill=\"currentColor\"/></g><g class=\"displacy-arrow\"><path class=\"displacy-arc\" id=\"arrow-ee1c2a99307747a0969b1602a145cf58-0-33\" stroke-width=\"2px\" d=\"M1602,177.0 1602,130.33333333333334 2427.0,130.33333333333334 2427.0,177.0\" fill=\"none\" stroke=\"currentColor\"/><text dy=\"1.25em\" style=\"font-size: 0.8em; letter-spacing: 1px\"><textPath xlink:href=\"#arrow-ee1c2a99307747a0969b1602a145cf58-0-33\" class=\"displacy-label\" startOffset=\"50%\" side=\"left\" fill=\"currentColor\" text-anchor=\"middle\">ccomp</textPath></text><path class=\"displacy-arrowhead\" d=\"M2427.0,179.0 L2431.0,171.0 2423.0,171.0\" fill=\"currentColor\"/></g><g class=\"displacy-arrow\"><path class=\"displacy-arc\" id=\"arrow-ee1c2a99307747a0969b1602a145cf58-0-34\" stroke-width=\"2px\" d=\"M2512,177.0 2512,153.66666666666666 2701.0,153.66666666666666 2701.0,177.0\" fill=\"none\" stroke=\"currentColor\"/><text dy=\"1.25em\" style=\"font-size: 0.8em; letter-spacing: 1px\"><textPath xlink:href=\"#arrow-ee1c2a99307747a0969b1602a145cf58-0-34\" class=\"displacy-label\" startOffset=\"50%\" side=\"left\" fill=\"currentColor\" text-anchor=\"middle\">amod</textPath></text><path class=\"displacy-arrowhead\" d=\"M2512,179.0 L2508,171.0 2516,171.0\" fill=\"currentColor\"/></g><g class=\"displacy-arrow\"><path class=\"displacy-arc\" id=\"arrow-ee1c2a99307747a0969b1602a145cf58-0-35\" stroke-width=\"2px\" d=\"M2582,177.0 2582,165.33333333333334 2628.0,165.33333333333334 2628.0,177.0\" fill=\"none\" stroke=\"currentColor\"/><text dy=\"1.25em\" style=\"font-size: 0.8em; letter-spacing: 1px\"><textPath xlink:href=\"#arrow-ee1c2a99307747a0969b1602a145cf58-0-35\" class=\"displacy-label\" startOffset=\"50%\" side=\"left\" fill=\"currentColor\" text-anchor=\"middle\">compound</textPath></text><path class=\"displacy-arrowhead\" d=\"M2582,179.0 L2578,171.0 2586,171.0\" fill=\"currentColor\"/></g><g class=\"displacy-arrow\"><path class=\"displacy-arc\" id=\"arrow-ee1c2a99307747a0969b1602a145cf58-0-36\" stroke-width=\"2px\" d=\"M2652,177.0 2652,165.33333333333334 2698.0,165.33333333333334 2698.0,177.0\" fill=\"none\" stroke=\"currentColor\"/><text dy=\"1.25em\" style=\"font-size: 0.8em; letter-spacing: 1px\"><textPath xlink:href=\"#arrow-ee1c2a99307747a0969b1602a145cf58-0-36\" class=\"displacy-label\" startOffset=\"50%\" side=\"left\" fill=\"currentColor\" text-anchor=\"middle\">compound</textPath></text><path class=\"displacy-arrowhead\" d=\"M2652,179.0 L2648,171.0 2656,171.0\" fill=\"currentColor\"/></g><g class=\"displacy-arrow\"><path class=\"displacy-arc\" id=\"arrow-ee1c2a99307747a0969b1602a145cf58-0-37\" stroke-width=\"2px\" d=\"M2442,177.0 2442,142.0 2704.0,142.0 2704.0,177.0\" fill=\"none\" stroke=\"currentColor\"/><text dy=\"1.25em\" style=\"font-size: 0.8em; letter-spacing: 1px\"><textPath xlink:href=\"#arrow-ee1c2a99307747a0969b1602a145cf58-0-37\" class=\"displacy-label\" startOffset=\"50%\" side=\"left\" fill=\"currentColor\" text-anchor=\"middle\">dobj</textPath></text><path class=\"displacy-arrowhead\" d=\"M2704.0,179.0 L2708.0,171.0 2700.0,171.0\" fill=\"currentColor\"/></g><g class=\"displacy-arrow\"><path class=\"displacy-arc\" id=\"arrow-ee1c2a99307747a0969b1602a145cf58-0-38\" stroke-width=\"2px\" d=\"M2442,177.0 2442,130.33333333333334 2777.0,130.33333333333334 2777.0,177.0\" fill=\"none\" stroke=\"currentColor\"/><text dy=\"1.25em\" style=\"font-size: 0.8em; letter-spacing: 1px\"><textPath xlink:href=\"#arrow-ee1c2a99307747a0969b1602a145cf58-0-38\" class=\"displacy-label\" startOffset=\"50%\" side=\"left\" fill=\"currentColor\" text-anchor=\"middle\">advcl</textPath></text><path class=\"displacy-arrowhead\" d=\"M2777.0,179.0 L2781.0,171.0 2773.0,171.0\" fill=\"currentColor\"/></g><g class=\"displacy-arrow\"><path class=\"displacy-arc\" id=\"arrow-ee1c2a99307747a0969b1602a145cf58-0-39\" stroke-width=\"2px\" d=\"M2792,177.0 2792,165.33333333333334 2838.0,165.33333333333334 2838.0,177.0\" fill=\"none\" stroke=\"currentColor\"/><text dy=\"1.25em\" style=\"font-size: 0.8em; letter-spacing: 1px\"><textPath xlink:href=\"#arrow-ee1c2a99307747a0969b1602a145cf58-0-39\" class=\"displacy-label\" startOffset=\"50%\" side=\"left\" fill=\"currentColor\" text-anchor=\"middle\">prep</textPath></text><path class=\"displacy-arrowhead\" d=\"M2838.0,179.0 L2842.0,171.0 2834.0,171.0\" fill=\"currentColor\"/></g><g class=\"displacy-arrow\"><path class=\"displacy-arc\" id=\"arrow-ee1c2a99307747a0969b1602a145cf58-0-40\" stroke-width=\"2px\" d=\"M2932,177.0 2932,165.33333333333334 2978.0,165.33333333333334 2978.0,177.0\" fill=\"none\" stroke=\"currentColor\"/><text dy=\"1.25em\" style=\"font-size: 0.8em; letter-spacing: 1px\"><textPath xlink:href=\"#arrow-ee1c2a99307747a0969b1602a145cf58-0-40\" class=\"displacy-label\" startOffset=\"50%\" side=\"left\" fill=\"currentColor\" text-anchor=\"middle\">amod</textPath></text><path class=\"displacy-arrowhead\" d=\"M2932,179.0 L2928,171.0 2936,171.0\" fill=\"currentColor\"/></g><g class=\"displacy-arrow\"><path class=\"displacy-arc\" id=\"arrow-ee1c2a99307747a0969b1602a145cf58-0-41\" stroke-width=\"2px\" d=\"M3002,177.0 3002,153.66666666666666 3121.0,153.66666666666666 3121.0,177.0\" fill=\"none\" stroke=\"currentColor\"/><text dy=\"1.25em\" style=\"font-size: 0.8em; letter-spacing: 1px\"><textPath xlink:href=\"#arrow-ee1c2a99307747a0969b1602a145cf58-0-41\" class=\"displacy-label\" startOffset=\"50%\" side=\"left\" fill=\"currentColor\" text-anchor=\"middle\">nmod</textPath></text><path class=\"displacy-arrowhead\" d=\"M3002,179.0 L2998,171.0 3006,171.0\" fill=\"currentColor\"/></g><g class=\"displacy-arrow\"><path class=\"displacy-arc\" id=\"arrow-ee1c2a99307747a0969b1602a145cf58-0-42\" stroke-width=\"2px\" d=\"M3072,177.0 3072,165.33333333333334 3118.0,165.33333333333334 3118.0,177.0\" fill=\"none\" stroke=\"currentColor\"/><text dy=\"1.25em\" style=\"font-size: 0.8em; letter-spacing: 1px\"><textPath xlink:href=\"#arrow-ee1c2a99307747a0969b1602a145cf58-0-42\" class=\"displacy-label\" startOffset=\"50%\" side=\"left\" fill=\"currentColor\" text-anchor=\"middle\">nummod</textPath></text><path class=\"displacy-arrowhead\" d=\"M3072,179.0 L3068,171.0 3076,171.0\" fill=\"currentColor\"/></g><g class=\"displacy-arrow\"><path class=\"displacy-arc\" id=\"arrow-ee1c2a99307747a0969b1602a145cf58-0-43\" stroke-width=\"2px\" d=\"M2862,177.0 2862,142.0 3124.0,142.0 3124.0,177.0\" fill=\"none\" stroke=\"currentColor\"/><text dy=\"1.25em\" style=\"font-size: 0.8em; letter-spacing: 1px\"><textPath xlink:href=\"#arrow-ee1c2a99307747a0969b1602a145cf58-0-43\" class=\"displacy-label\" startOffset=\"50%\" side=\"left\" fill=\"currentColor\" text-anchor=\"middle\">pobj</textPath></text><path class=\"displacy-arrowhead\" d=\"M3124.0,179.0 L3128.0,171.0 3120.0,171.0\" fill=\"currentColor\"/></g><g class=\"displacy-arrow\"><path class=\"displacy-arc\" id=\"arrow-ee1c2a99307747a0969b1602a145cf58-0-44\" stroke-width=\"2px\" d=\"M3212,177.0 3212,142.0 3404.0,142.0 3404.0,177.0\" fill=\"none\" stroke=\"currentColor\"/><text dy=\"1.25em\" style=\"font-size: 0.8em; letter-spacing: 1px\"><textPath xlink:href=\"#arrow-ee1c2a99307747a0969b1602a145cf58-0-44\" class=\"displacy-label\" startOffset=\"50%\" side=\"left\" fill=\"currentColor\" text-anchor=\"middle\">advmod</textPath></text><path class=\"displacy-arrowhead\" d=\"M3212,179.0 L3208,171.0 3216,171.0\" fill=\"currentColor\"/></g><g class=\"displacy-arrow\"><path class=\"displacy-arc\" id=\"arrow-ee1c2a99307747a0969b1602a145cf58-0-45\" stroke-width=\"2px\" d=\"M3282,177.0 3282,153.66666666666666 3401.0,153.66666666666666 3401.0,177.0\" fill=\"none\" stroke=\"currentColor\"/><text dy=\"1.25em\" style=\"font-size: 0.8em; letter-spacing: 1px\"><textPath xlink:href=\"#arrow-ee1c2a99307747a0969b1602a145cf58-0-45\" class=\"displacy-label\" startOffset=\"50%\" side=\"left\" fill=\"currentColor\" text-anchor=\"middle\">amod</textPath></text><path class=\"displacy-arrowhead\" d=\"M3282,179.0 L3278,171.0 3286,171.0\" fill=\"currentColor\"/></g><g class=\"displacy-arrow\"><path class=\"displacy-arc\" id=\"arrow-ee1c2a99307747a0969b1602a145cf58-0-46\" stroke-width=\"2px\" d=\"M3352,177.0 3352,165.33333333333334 3398.0,165.33333333333334 3398.0,177.0\" fill=\"none\" stroke=\"currentColor\"/><text dy=\"1.25em\" style=\"font-size: 0.8em; letter-spacing: 1px\"><textPath xlink:href=\"#arrow-ee1c2a99307747a0969b1602a145cf58-0-46\" class=\"displacy-label\" startOffset=\"50%\" side=\"left\" fill=\"currentColor\" text-anchor=\"middle\">amod</textPath></text><path class=\"displacy-arrowhead\" d=\"M3352,179.0 L3348,171.0 3356,171.0\" fill=\"currentColor\"/></g><g class=\"displacy-arrow\"><path class=\"displacy-arc\" id=\"arrow-ee1c2a99307747a0969b1602a145cf58-0-47\" stroke-width=\"2px\" d=\"M3422,177.0 3422,153.66666666666666 3541.0,153.66666666666666 3541.0,177.0\" fill=\"none\" stroke=\"currentColor\"/><text dy=\"1.25em\" style=\"font-size: 0.8em; letter-spacing: 1px\"><textPath xlink:href=\"#arrow-ee1c2a99307747a0969b1602a145cf58-0-47\" class=\"displacy-label\" startOffset=\"50%\" side=\"left\" fill=\"currentColor\" text-anchor=\"middle\">nsubj</textPath></text><path class=\"displacy-arrowhead\" d=\"M3422,179.0 L3418,171.0 3426,171.0\" fill=\"currentColor\"/></g><g class=\"displacy-arrow\"><path class=\"displacy-arc\" id=\"arrow-ee1c2a99307747a0969b1602a145cf58-0-48\" stroke-width=\"2px\" d=\"M3492,177.0 3492,165.33333333333334 3538.0,165.33333333333334 3538.0,177.0\" fill=\"none\" stroke=\"currentColor\"/><text dy=\"1.25em\" style=\"font-size: 0.8em; letter-spacing: 1px\"><textPath xlink:href=\"#arrow-ee1c2a99307747a0969b1602a145cf58-0-48\" class=\"displacy-label\" startOffset=\"50%\" side=\"left\" fill=\"currentColor\" text-anchor=\"middle\">aux</textPath></text><path class=\"displacy-arrowhead\" d=\"M3492,179.0 L3488,171.0 3496,171.0\" fill=\"currentColor\"/></g><g class=\"displacy-arrow\"><path class=\"displacy-arc\" id=\"arrow-ee1c2a99307747a0969b1602a145cf58-0-49\" stroke-width=\"2px\" d=\"M1602,177.0 1602,118.66666666666666 3550.0,118.66666666666666 3550.0,177.0\" fill=\"none\" stroke=\"currentColor\"/><text dy=\"1.25em\" style=\"font-size: 0.8em; letter-spacing: 1px\"><textPath xlink:href=\"#arrow-ee1c2a99307747a0969b1602a145cf58-0-49\" class=\"displacy-label\" startOffset=\"50%\" side=\"left\" fill=\"currentColor\" text-anchor=\"middle\">ccomp</textPath></text><path class=\"displacy-arrowhead\" d=\"M3550.0,179.0 L3554.0,171.0 3546.0,171.0\" fill=\"currentColor\"/></g><g class=\"displacy-arrow\"><path class=\"displacy-arc\" id=\"arrow-ee1c2a99307747a0969b1602a145cf58-0-50\" stroke-width=\"2px\" d=\"M3632,177.0 3632,165.33333333333334 3678.0,165.33333333333334 3678.0,177.0\" fill=\"none\" stroke=\"currentColor\"/><text dy=\"1.25em\" style=\"font-size: 0.8em; letter-spacing: 1px\"><textPath xlink:href=\"#arrow-ee1c2a99307747a0969b1602a145cf58-0-50\" class=\"displacy-label\" startOffset=\"50%\" side=\"left\" fill=\"currentColor\" text-anchor=\"middle\">det</textPath></text><path class=\"displacy-arrowhead\" d=\"M3632,179.0 L3628,171.0 3636,171.0\" fill=\"currentColor\"/></g><g class=\"displacy-arrow\"><path class=\"displacy-arc\" id=\"arrow-ee1c2a99307747a0969b1602a145cf58-0-51\" stroke-width=\"2px\" d=\"M3702,177.0 3702,165.33333333333334 3748.0,165.33333333333334 3748.0,177.0\" fill=\"none\" stroke=\"currentColor\"/><text dy=\"1.25em\" style=\"font-size: 0.8em; letter-spacing: 1px\"><textPath xlink:href=\"#arrow-ee1c2a99307747a0969b1602a145cf58-0-51\" class=\"displacy-label\" startOffset=\"50%\" side=\"left\" fill=\"currentColor\" text-anchor=\"middle\">nsubj</textPath></text><path class=\"displacy-arrowhead\" d=\"M3702,179.0 L3698,171.0 3706,171.0\" fill=\"currentColor\"/></g><g class=\"displacy-arrow\"><path class=\"displacy-arc\" id=\"arrow-ee1c2a99307747a0969b1602a145cf58-0-52\" stroke-width=\"2px\" d=\"M3562,177.0 3562,153.66666666666666 3751.0,153.66666666666666 3751.0,177.0\" fill=\"none\" stroke=\"currentColor\"/><text dy=\"1.25em\" style=\"font-size: 0.8em; letter-spacing: 1px\"><textPath xlink:href=\"#arrow-ee1c2a99307747a0969b1602a145cf58-0-52\" class=\"displacy-label\" startOffset=\"50%\" side=\"left\" fill=\"currentColor\" text-anchor=\"middle\">ccomp</textPath></text><path class=\"displacy-arrowhead\" d=\"M3751.0,179.0 L3755.0,171.0 3747.0,171.0\" fill=\"currentColor\"/></g><g class=\"displacy-arrow\"><path class=\"displacy-arc\" id=\"arrow-ee1c2a99307747a0969b1602a145cf58-0-53\" stroke-width=\"2px\" d=\"M3772,177.0 3772,165.33333333333334 3818.0,165.33333333333334 3818.0,177.0\" fill=\"none\" stroke=\"currentColor\"/><text dy=\"1.25em\" style=\"font-size: 0.8em; letter-spacing: 1px\"><textPath xlink:href=\"#arrow-ee1c2a99307747a0969b1602a145cf58-0-53\" class=\"displacy-label\" startOffset=\"50%\" side=\"left\" fill=\"currentColor\" text-anchor=\"middle\">acl</textPath></text><path class=\"displacy-arrowhead\" d=\"M3818.0,179.0 L3822.0,171.0 3814.0,171.0\" fill=\"currentColor\"/></g><g class=\"displacy-arrow\"><path class=\"displacy-arc\" id=\"arrow-ee1c2a99307747a0969b1602a145cf58-0-54\" stroke-width=\"2px\" d=\"M3842,177.0 3842,165.33333333333334 3888.0,165.33333333333334 3888.0,177.0\" fill=\"none\" stroke=\"currentColor\"/><text dy=\"1.25em\" style=\"font-size: 0.8em; letter-spacing: 1px\"><textPath xlink:href=\"#arrow-ee1c2a99307747a0969b1602a145cf58-0-54\" class=\"displacy-label\" startOffset=\"50%\" side=\"left\" fill=\"currentColor\" text-anchor=\"middle\">dobj</textPath></text><path class=\"displacy-arrowhead\" d=\"M3888.0,179.0 L3892.0,171.0 3884.0,171.0\" fill=\"currentColor\"/></g><g class=\"displacy-arrow\"><path class=\"displacy-arc\" id=\"arrow-ee1c2a99307747a0969b1602a145cf58-0-55\" stroke-width=\"2px\" d=\"M3982,177.0 3982,165.33333333333334 4028.0,165.33333333333334 4028.0,177.0\" fill=\"none\" stroke=\"currentColor\"/><text dy=\"1.25em\" style=\"font-size: 0.8em; letter-spacing: 1px\"><textPath xlink:href=\"#arrow-ee1c2a99307747a0969b1602a145cf58-0-55\" class=\"displacy-label\" startOffset=\"50%\" side=\"left\" fill=\"currentColor\" text-anchor=\"middle\">nummod</textPath></text><path class=\"displacy-arrowhead\" d=\"M3982,179.0 L3978,171.0 3986,171.0\" fill=\"currentColor\"/></g><g class=\"displacy-arrow\"><path class=\"displacy-arc\" id=\"arrow-ee1c2a99307747a0969b1602a145cf58-0-56\" stroke-width=\"2px\" d=\"M3912,177.0 3912,153.66666666666666 4031.0,153.66666666666666 4031.0,177.0\" fill=\"none\" stroke=\"currentColor\"/><text dy=\"1.25em\" style=\"font-size: 0.8em; letter-spacing: 1px\"><textPath xlink:href=\"#arrow-ee1c2a99307747a0969b1602a145cf58-0-56\" class=\"displacy-label\" startOffset=\"50%\" side=\"left\" fill=\"currentColor\" text-anchor=\"middle\">npadvmod</textPath></text><path class=\"displacy-arrowhead\" d=\"M4031.0,179.0 L4035.0,171.0 4027.0,171.0\" fill=\"currentColor\"/></g><g class=\"displacy-arrow\"><path class=\"displacy-arc\" id=\"arrow-ee1c2a99307747a0969b1602a145cf58-0-57\" stroke-width=\"2px\" d=\"M3772,177.0 3772,142.0 4104.0,142.0 4104.0,177.0\" fill=\"none\" stroke=\"currentColor\"/><text dy=\"1.25em\" style=\"font-size: 0.8em; letter-spacing: 1px\"><textPath xlink:href=\"#arrow-ee1c2a99307747a0969b1602a145cf58-0-57\" class=\"displacy-label\" startOffset=\"50%\" side=\"left\" fill=\"currentColor\" text-anchor=\"middle\">acl</textPath></text><path class=\"displacy-arrowhead\" d=\"M4104.0,179.0 L4108.0,171.0 4100.0,171.0\" fill=\"currentColor\"/></g><g class=\"displacy-arrow\"><path class=\"displacy-arc\" id=\"arrow-ee1c2a99307747a0969b1602a145cf58-0-58\" stroke-width=\"2px\" d=\"M4122,177.0 4122,165.33333333333334 4168.0,165.33333333333334 4168.0,177.0\" fill=\"none\" stroke=\"currentColor\"/><text dy=\"1.25em\" style=\"font-size: 0.8em; letter-spacing: 1px\"><textPath xlink:href=\"#arrow-ee1c2a99307747a0969b1602a145cf58-0-58\" class=\"displacy-label\" startOffset=\"50%\" side=\"left\" fill=\"currentColor\" text-anchor=\"middle\">prep</textPath></text><path class=\"displacy-arrowhead\" d=\"M4168.0,179.0 L4172.0,171.0 4164.0,171.0\" fill=\"currentColor\"/></g><g class=\"displacy-arrow\"><path class=\"displacy-arc\" id=\"arrow-ee1c2a99307747a0969b1602a145cf58-0-59\" stroke-width=\"2px\" d=\"M4192,177.0 4192,165.33333333333334 4238.0,165.33333333333334 4238.0,177.0\" fill=\"none\" stroke=\"currentColor\"/><text dy=\"1.25em\" style=\"font-size: 0.8em; letter-spacing: 1px\"><textPath xlink:href=\"#arrow-ee1c2a99307747a0969b1602a145cf58-0-59\" class=\"displacy-label\" startOffset=\"50%\" side=\"left\" fill=\"currentColor\" text-anchor=\"middle\">pcomp</textPath></text><path class=\"displacy-arrowhead\" d=\"M4238.0,179.0 L4242.0,171.0 4234.0,171.0\" fill=\"currentColor\"/></g><g class=\"displacy-arrow\"><path class=\"displacy-arc\" id=\"arrow-ee1c2a99307747a0969b1602a145cf58-0-60\" stroke-width=\"2px\" d=\"M4262,177.0 4262,165.33333333333334 4308.0,165.33333333333334 4308.0,177.0\" fill=\"none\" stroke=\"currentColor\"/><text dy=\"1.25em\" style=\"font-size: 0.8em; letter-spacing: 1px\"><textPath xlink:href=\"#arrow-ee1c2a99307747a0969b1602a145cf58-0-60\" class=\"displacy-label\" startOffset=\"50%\" side=\"left\" fill=\"currentColor\" text-anchor=\"middle\">dobj</textPath></text><path class=\"displacy-arrowhead\" d=\"M4308.0,179.0 L4312.0,171.0 4304.0,171.0\" fill=\"currentColor\"/></g><g class=\"displacy-arrow\"><path class=\"displacy-arc\" id=\"arrow-ee1c2a99307747a0969b1602a145cf58-0-61\" stroke-width=\"2px\" d=\"M4402,177.0 4402,165.33333333333334 4448.0,165.33333333333334 4448.0,177.0\" fill=\"none\" stroke=\"currentColor\"/><text dy=\"1.25em\" style=\"font-size: 0.8em; letter-spacing: 1px\"><textPath xlink:href=\"#arrow-ee1c2a99307747a0969b1602a145cf58-0-61\" class=\"displacy-label\" startOffset=\"50%\" side=\"left\" fill=\"currentColor\" text-anchor=\"middle\">amod</textPath></text><path class=\"displacy-arrowhead\" d=\"M4402,179.0 L4398,171.0 4406,171.0\" fill=\"currentColor\"/></g><g class=\"displacy-arrow\"><path class=\"displacy-arc\" id=\"arrow-ee1c2a99307747a0969b1602a145cf58-0-62\" stroke-width=\"2px\" d=\"M4472,177.0 4472,165.33333333333334 4518.0,165.33333333333334 4518.0,177.0\" fill=\"none\" stroke=\"currentColor\"/><text dy=\"1.25em\" style=\"font-size: 0.8em; letter-spacing: 1px\"><textPath xlink:href=\"#arrow-ee1c2a99307747a0969b1602a145cf58-0-62\" class=\"displacy-label\" startOffset=\"50%\" side=\"left\" fill=\"currentColor\" text-anchor=\"middle\">nsubj</textPath></text><path class=\"displacy-arrowhead\" d=\"M4472,179.0 L4468,171.0 4476,171.0\" fill=\"currentColor\"/></g><g class=\"displacy-arrow\"><path class=\"displacy-arc\" id=\"arrow-ee1c2a99307747a0969b1602a145cf58-0-63\" stroke-width=\"2px\" d=\"M4332,177.0 4332,153.66666666666666 4521.0,153.66666666666666 4521.0,177.0\" fill=\"none\" stroke=\"currentColor\"/><text dy=\"1.25em\" style=\"font-size: 0.8em; letter-spacing: 1px\"><textPath xlink:href=\"#arrow-ee1c2a99307747a0969b1602a145cf58-0-63\" class=\"displacy-label\" startOffset=\"50%\" side=\"left\" fill=\"currentColor\" text-anchor=\"middle\">relcl</textPath></text><path class=\"displacy-arrowhead\" d=\"M4521.0,179.0 L4525.0,171.0 4517.0,171.0\" fill=\"currentColor\"/></g><g class=\"displacy-arrow\"><path class=\"displacy-arc\" id=\"arrow-ee1c2a99307747a0969b1602a145cf58-0-64\" stroke-width=\"2px\" d=\"M4542,177.0 4542,165.33333333333334 4588.0,165.33333333333334 4588.0,177.0\" fill=\"none\" stroke=\"currentColor\"/><text dy=\"1.25em\" style=\"font-size: 0.8em; letter-spacing: 1px\"><textPath xlink:href=\"#arrow-ee1c2a99307747a0969b1602a145cf58-0-64\" class=\"displacy-label\" startOffset=\"50%\" side=\"left\" fill=\"currentColor\" text-anchor=\"middle\">xcomp</textPath></text><path class=\"displacy-arrowhead\" d=\"M4588.0,179.0 L4592.0,171.0 4584.0,171.0\" fill=\"currentColor\"/></g><g class=\"displacy-arrow\"><path class=\"displacy-arc\" id=\"arrow-ee1c2a99307747a0969b1602a145cf58-0-65\" stroke-width=\"2px\" d=\"M4682,177.0 4682,165.33333333333334 4728.0,165.33333333333334 4728.0,177.0\" fill=\"none\" stroke=\"currentColor\"/><text dy=\"1.25em\" style=\"font-size: 0.8em; letter-spacing: 1px\"><textPath xlink:href=\"#arrow-ee1c2a99307747a0969b1602a145cf58-0-65\" class=\"displacy-label\" startOffset=\"50%\" side=\"left\" fill=\"currentColor\" text-anchor=\"middle\">aux</textPath></text><path class=\"displacy-arrowhead\" d=\"M4682,179.0 L4678,171.0 4686,171.0\" fill=\"currentColor\"/></g><g class=\"displacy-arrow\"><path class=\"displacy-arc\" id=\"arrow-ee1c2a99307747a0969b1602a145cf58-0-66\" stroke-width=\"2px\" d=\"M3562,177.0 3562,130.33333333333334 4737.0,130.33333333333334 4737.0,177.0\" fill=\"none\" stroke=\"currentColor\"/><text dy=\"1.25em\" style=\"font-size: 0.8em; letter-spacing: 1px\"><textPath xlink:href=\"#arrow-ee1c2a99307747a0969b1602a145cf58-0-66\" class=\"displacy-label\" startOffset=\"50%\" side=\"left\" fill=\"currentColor\" text-anchor=\"middle\">advcl</textPath></text><path class=\"displacy-arrowhead\" d=\"M4737.0,179.0 L4741.0,171.0 4733.0,171.0\" fill=\"currentColor\"/></g><g class=\"displacy-arrow\"><path class=\"displacy-arc\" id=\"arrow-ee1c2a99307747a0969b1602a145cf58-0-67\" stroke-width=\"2px\" d=\"M4822,177.0 4822,165.33333333333334 4868.0,165.33333333333334 4868.0,177.0\" fill=\"none\" stroke=\"currentColor\"/><text dy=\"1.25em\" style=\"font-size: 0.8em; letter-spacing: 1px\"><textPath xlink:href=\"#arrow-ee1c2a99307747a0969b1602a145cf58-0-67\" class=\"displacy-label\" startOffset=\"50%\" side=\"left\" fill=\"currentColor\" text-anchor=\"middle\">compound</textPath></text><path class=\"displacy-arrowhead\" d=\"M4822,179.0 L4818,171.0 4826,171.0\" fill=\"currentColor\"/></g><g class=\"displacy-arrow\"><path class=\"displacy-arc\" id=\"arrow-ee1c2a99307747a0969b1602a145cf58-0-68\" stroke-width=\"2px\" d=\"M4752,177.0 4752,153.66666666666666 4871.0,153.66666666666666 4871.0,177.0\" fill=\"none\" stroke=\"currentColor\"/><text dy=\"1.25em\" style=\"font-size: 0.8em; letter-spacing: 1px\"><textPath xlink:href=\"#arrow-ee1c2a99307747a0969b1602a145cf58-0-68\" class=\"displacy-label\" startOffset=\"50%\" side=\"left\" fill=\"currentColor\" text-anchor=\"middle\">dobj</textPath></text><path class=\"displacy-arrowhead\" d=\"M4871.0,179.0 L4875.0,171.0 4867.0,171.0\" fill=\"currentColor\"/></g><g class=\"displacy-arrow\"><path class=\"displacy-arc\" id=\"arrow-ee1c2a99307747a0969b1602a145cf58-0-69\" stroke-width=\"2px\" d=\"M4752,177.0 4752,142.0 4944.0,142.0 4944.0,177.0\" fill=\"none\" stroke=\"currentColor\"/><text dy=\"1.25em\" style=\"font-size: 0.8em; letter-spacing: 1px\"><textPath xlink:href=\"#arrow-ee1c2a99307747a0969b1602a145cf58-0-69\" class=\"displacy-label\" startOffset=\"50%\" side=\"left\" fill=\"currentColor\" text-anchor=\"middle\">advcl</textPath></text><path class=\"displacy-arrowhead\" d=\"M4944.0,179.0 L4948.0,171.0 4940.0,171.0\" fill=\"currentColor\"/></g><g class=\"displacy-arrow\"><path class=\"displacy-arc\" id=\"arrow-ee1c2a99307747a0969b1602a145cf58-0-70\" stroke-width=\"2px\" d=\"M5032,177.0 5032,165.33333333333334 5078.0,165.33333333333334 5078.0,177.0\" fill=\"none\" stroke=\"currentColor\"/><text dy=\"1.25em\" style=\"font-size: 0.8em; letter-spacing: 1px\"><textPath xlink:href=\"#arrow-ee1c2a99307747a0969b1602a145cf58-0-70\" class=\"displacy-label\" startOffset=\"50%\" side=\"left\" fill=\"currentColor\" text-anchor=\"middle\">amod</textPath></text><path class=\"displacy-arrowhead\" d=\"M5032,179.0 L5028,171.0 5036,171.0\" fill=\"currentColor\"/></g><g class=\"displacy-arrow\"><path class=\"displacy-arc\" id=\"arrow-ee1c2a99307747a0969b1602a145cf58-0-71\" stroke-width=\"2px\" d=\"M4962,177.0 4962,153.66666666666666 5081.0,153.66666666666666 5081.0,177.0\" fill=\"none\" stroke=\"currentColor\"/><text dy=\"1.25em\" style=\"font-size: 0.8em; letter-spacing: 1px\"><textPath xlink:href=\"#arrow-ee1c2a99307747a0969b1602a145cf58-0-71\" class=\"displacy-label\" startOffset=\"50%\" side=\"left\" fill=\"currentColor\" text-anchor=\"middle\">dobj</textPath></text><path class=\"displacy-arrowhead\" d=\"M5081.0,179.0 L5085.0,171.0 5077.0,171.0\" fill=\"currentColor\"/></g><g class=\"displacy-arrow\"><path class=\"displacy-arc\" id=\"arrow-ee1c2a99307747a0969b1602a145cf58-0-72\" stroke-width=\"2px\" d=\"M5172,177.0 5172,130.33333333333334 5507.0,130.33333333333334 5507.0,177.0\" fill=\"none\" stroke=\"currentColor\"/><text dy=\"1.25em\" style=\"font-size: 0.8em; letter-spacing: 1px\"><textPath xlink:href=\"#arrow-ee1c2a99307747a0969b1602a145cf58-0-72\" class=\"displacy-label\" startOffset=\"50%\" side=\"left\" fill=\"currentColor\" text-anchor=\"middle\">nummod</textPath></text><path class=\"displacy-arrowhead\" d=\"M5172,179.0 L5168,171.0 5176,171.0\" fill=\"currentColor\"/></g><g class=\"displacy-arrow\"><path class=\"displacy-arc\" id=\"arrow-ee1c2a99307747a0969b1602a145cf58-0-73\" stroke-width=\"2px\" d=\"M5242,177.0 5242,142.0 5504.0,142.0 5504.0,177.0\" fill=\"none\" stroke=\"currentColor\"/><text dy=\"1.25em\" style=\"font-size: 0.8em; letter-spacing: 1px\"><textPath xlink:href=\"#arrow-ee1c2a99307747a0969b1602a145cf58-0-73\" class=\"displacy-label\" startOffset=\"50%\" side=\"left\" fill=\"currentColor\" text-anchor=\"middle\">amod</textPath></text><path class=\"displacy-arrowhead\" d=\"M5242,179.0 L5238,171.0 5246,171.0\" fill=\"currentColor\"/></g><g class=\"displacy-arrow\"><path class=\"displacy-arc\" id=\"arrow-ee1c2a99307747a0969b1602a145cf58-0-74\" stroke-width=\"2px\" d=\"M5312,177.0 5312,153.66666666666666 5431.0,153.66666666666666 5431.0,177.0\" fill=\"none\" stroke=\"currentColor\"/><text dy=\"1.25em\" style=\"font-size: 0.8em; letter-spacing: 1px\"><textPath xlink:href=\"#arrow-ee1c2a99307747a0969b1602a145cf58-0-74\" class=\"displacy-label\" startOffset=\"50%\" side=\"left\" fill=\"currentColor\" text-anchor=\"middle\">compound</textPath></text><path class=\"displacy-arrowhead\" d=\"M5312,179.0 L5308,171.0 5316,171.0\" fill=\"currentColor\"/></g><g class=\"displacy-arrow\"><path class=\"displacy-arc\" id=\"arrow-ee1c2a99307747a0969b1602a145cf58-0-75\" stroke-width=\"2px\" d=\"M5382,177.0 5382,165.33333333333334 5428.0,165.33333333333334 5428.0,177.0\" fill=\"none\" stroke=\"currentColor\"/><text dy=\"1.25em\" style=\"font-size: 0.8em; letter-spacing: 1px\"><textPath xlink:href=\"#arrow-ee1c2a99307747a0969b1602a145cf58-0-75\" class=\"displacy-label\" startOffset=\"50%\" side=\"left\" fill=\"currentColor\" text-anchor=\"middle\">compound</textPath></text><path class=\"displacy-arrowhead\" d=\"M5382,179.0 L5378,171.0 5386,171.0\" fill=\"currentColor\"/></g><g class=\"displacy-arrow\"><path class=\"displacy-arc\" id=\"arrow-ee1c2a99307747a0969b1602a145cf58-0-76\" stroke-width=\"2px\" d=\"M5452,177.0 5452,165.33333333333334 5498.0,165.33333333333334 5498.0,177.0\" fill=\"none\" stroke=\"currentColor\"/><text dy=\"1.25em\" style=\"font-size: 0.8em; letter-spacing: 1px\"><textPath xlink:href=\"#arrow-ee1c2a99307747a0969b1602a145cf58-0-76\" class=\"displacy-label\" startOffset=\"50%\" side=\"left\" fill=\"currentColor\" text-anchor=\"middle\">compound</textPath></text><path class=\"displacy-arrowhead\" d=\"M5452,179.0 L5448,171.0 5456,171.0\" fill=\"currentColor\"/></g><g class=\"displacy-arrow\"><path class=\"displacy-arc\" id=\"arrow-ee1c2a99307747a0969b1602a145cf58-0-77\" stroke-width=\"2px\" d=\"M4962,177.0 4962,118.66666666666666 5510.0,118.66666666666666 5510.0,177.0\" fill=\"none\" stroke=\"currentColor\"/><text dy=\"1.25em\" style=\"font-size: 0.8em; letter-spacing: 1px\"><textPath xlink:href=\"#arrow-ee1c2a99307747a0969b1602a145cf58-0-77\" class=\"displacy-label\" startOffset=\"50%\" side=\"left\" fill=\"currentColor\" text-anchor=\"middle\">npadvmod</textPath></text><path class=\"displacy-arrowhead\" d=\"M5510.0,179.0 L5514.0,171.0 5506.0,171.0\" fill=\"currentColor\"/></g><g class=\"displacy-arrow\"><path class=\"displacy-arc\" id=\"arrow-ee1c2a99307747a0969b1602a145cf58-0-78\" stroke-width=\"2px\" d=\"M5522,177.0 5522,165.33333333333334 5568.0,165.33333333333334 5568.0,177.0\" fill=\"none\" stroke=\"currentColor\"/><text dy=\"1.25em\" style=\"font-size: 0.8em; letter-spacing: 1px\"><textPath xlink:href=\"#arrow-ee1c2a99307747a0969b1602a145cf58-0-78\" class=\"displacy-label\" startOffset=\"50%\" side=\"left\" fill=\"currentColor\" text-anchor=\"middle\">nummod</textPath></text><path class=\"displacy-arrowhead\" d=\"M5568.0,179.0 L5572.0,171.0 5564.0,171.0\" fill=\"currentColor\"/></g></svg></span>"
            ]
          },
          "metadata": {}
        }
      ]
    },
    {
      "cell_type": "markdown",
      "source": [
        "#### Initial Inisight on Label Distribution"
      ],
      "metadata": {
        "id": "ufS58ZABZC_w"
      }
    },
    {
      "cell_type": "code",
      "source": [
        "labels = ['Business', 'Entertainment', 'Politics', 'Sport', 'Tech']\n",
        "counts = [df[label].sum() for label in labels]\n",
        "\n",
        "plt.figure(figsize=(7, 4))\n",
        "plt.barh(labels, counts, color='skyblue', label=\"hi\")\n",
        "for index, value in enumerate(counts):\n",
        "    plt.text(value, index, str(value))\n",
        "plt.xlabel('Count')\n",
        "plt.ylabel('Labels')\n",
        "plt.title('Distribution of Labels')\n",
        "plt.show()"
      ],
      "metadata": {
        "colab": {
          "base_uri": "https://localhost:8080/",
          "height": 410
        },
        "id": "Ytkd8u-eCnw4",
        "outputId": "c8c1e1bb-e815-4fa6-952f-1f7dc41fe7ec"
      },
      "execution_count": 66,
      "outputs": [
        {
          "output_type": "display_data",
          "data": {
            "text/plain": [
              "<Figure size 700x400 with 1 Axes>"
            ],
            "image/png": "[encoded data removed]"
          },
          "metadata": {}
        }
      ]
    },
    {
      "cell_type": "markdown",
      "metadata": {
        "id": "XnQll-hlIPrD"
      },
      "source": [
        "## Train, test split"
      ]
    },
    {
      "cell_type": "markdown",
      "source": [
        "This dataset was more complex than the assignment because it dealt with multiple labels of features compared to just one. One of the biggest issues was understanding how to reshape the values prior to training so that the y values could produce results for multiple columns and not just one.\n",
        "\n",
        "This was done by reshapeing the processed_text to match the shape of the multiple columns data (y)."
      ],
      "metadata": {
        "id": "nAnbj6jCaBRo"
      }
    },
    {
      "cell_type": "code",
      "source": [
        "X = df['processed_text'].values\n",
        "y = df[['Business', 'Entertainment', 'Politics', 'Sport', 'Tech']].values\n",
        "\n",
        "# Convert X to a NumPy array of shape (n_samples, 1) to match y's shape of (n_samples, n_labels)\n",
        "# y.shape (2224, 5)\n",
        "X = np.array(X).reshape(-1, 1)\n",
        "\n",
        "# Step 2: Split the data into training and testing sets\n",
        "X_train, X_test, y_train, y_test = train_test_split(X, y, test_size=0.25, random_state=42)\n",
        "print(\"Label distribution in test set:\", np.sum(y_test, axis=0))\n",
        "print(\"Label distribution in entire dataset:\", np.sum(y, axis=0))\n",
        "\n",
        "# Reshape to reshape nparrays from 2d to 1d for vectorization\n",
        "X_train = X_train.reshape(-1)\n",
        "X_test = X_test.reshape(-1)\n"
      ],
      "metadata": {
        "colab": {
          "base_uri": "https://localhost:8080/"
        },
        "id": "fl7Jjk2ZeO0S",
        "outputId": "100e1bbc-029a-4b56-dc37-e6cd8601c830"
      },
      "execution_count": 72,
      "outputs": [
        {
          "output_type": "stream",
          "name": "stdout",
          "text": [
            "Label distribution in test set: [129  92  91 143 101]\n",
            "Label distribution in entire dataset: [510 386 417 510 401]\n"
          ]
        }
      ]
    },
    {
      "cell_type": "markdown",
      "source": [
        "## Apply TF-IDF Vectorization\n",
        "\n",
        "\n",
        "To apply TF-IDF Vectorization"
      ],
      "metadata": {
        "id": "sbTf2Yzo0im0"
      }
    },
    {
      "cell_type": "code",
      "source": [
        "# Step 3:\n",
        "tfidf_vectorizer = TfidfVectorizer()\n",
        "X_train_tfidf = tfidf_vectorizer.fit_transform(X_train)\n",
        "X_test_tfidf = tfidf_vectorizer.transform(X_test)\n",
        "\n",
        "display(X_test_tfidf)"
      ],
      "metadata": {
        "colab": {
          "base_uri": "https://localhost:8080/",
          "height": 53
        },
        "id": "VWfEyyFoqrEz",
        "outputId": "aaf3b47f-97f1-4c84-e429-e474ed3af253"
      },
      "execution_count": 24,
      "outputs": [
        {
          "output_type": "display_data",
          "data": {
            "text/plain": [
              "<556x24922 sparse matrix of type '<class 'numpy.float64'>'\n",
              "\twith 80786 stored elements in Compressed Sparse Row format>"
            ]
          },
          "metadata": {}
        }
      ]
    },
    {
      "cell_type": "markdown",
      "source": [
        "## Apply SVM and Random Forest"
      ],
      "metadata": {
        "id": "Eb4Jn8xGwqjd"
      }
    },
    {
      "cell_type": "markdown",
      "source": [
        "OneVsRestClassifier is a simple and effective method for adapting binary classifiers for multi-class or multi-label problems, but it may not always be the most efficient in terms of computation and memory usage, especially when the number of classes is large.\n",
        "\n",
        "In addition to its computational efficiency (only n_classes classifiers are needed), one advantage of this approach is its interpretability. Since each class is represented by one and one classifier only, it is possible to gain knowledge about the class by inspecting its corresponding classifier (sklearn.multiclass.OneVsRestClassifier¶)."
      ],
      "metadata": {
        "id": "1aJ4FGELB2Pd"
      }
    },
    {
      "cell_type": "code",
      "source": [
        "# Create a OneVsRestClassifier instance with a Support Vector Machine (SVM) classifier\n",
        "svm_classifier = SVC(kernel='linear', random_state=42, probability=True)\n",
        "clf = OneVsRestClassifier(svm_classifier)\n",
        "# Fit the classifier\n",
        "clf.fit(X_train_tfidf, y_train)\n",
        "# Predictions on the test set\n",
        "y_pred_tfidf = clf.predict(X_test_tfidf)"
      ],
      "metadata": {
        "id": "Qf2TegXjwp6w"
      },
      "execution_count": 86,
      "outputs": []
    },
    {
      "cell_type": "code",
      "source": [
        "print(\"Results using TF-IDF Vectorization and Support Vector Machine (SVM) Classifier:\")\n",
        "eval_metrics(X_test_tfidf, y_test, y_pred_tfidf, clf)"
      ],
      "metadata": {
        "id": "0lbluAs4o5gT",
        "outputId": "9139a9cb-96dd-4b25-9a01-fef46123feb4",
        "colab": {
          "base_uri": "https://localhost:8080/"
        }
      },
      "execution_count": 87,
      "outputs": [
        {
          "output_type": "stream",
          "name": "stdout",
          "text": [
            "Results using TF-IDF Vectorization and Support Vector Machine (SVM) Classifier:\n",
            "Accuracy: 0.93\n",
            "Precision: 0.99\n",
            "Recall: 0.94\n",
            "F1 Score: 0.96\n",
            "AUC-ROC Score: 1.0\n",
            "               precision    recall  f1-score   support\n",
            "\n",
            "     Business       0.98      0.88      0.93       129\n",
            "Entertainment       0.99      0.95      0.97        92\n",
            "     Politics       0.99      0.90      0.94        91\n",
            "        Sport       0.99      1.00      1.00       143\n",
            "         Tech       0.98      0.95      0.96       101\n",
            "\n",
            "    micro avg       0.99      0.94      0.96       556\n",
            "    macro avg       0.99      0.94      0.96       556\n",
            " weighted avg       0.99      0.94      0.96       556\n",
            "  samples avg       0.94      0.94      0.94       556\n",
            "\n",
            "Confusion matrix for Business:\n",
            "[[425   2]\n",
            " [ 15 114]]\n",
            "Confusion matrix for Entertainment:\n",
            "[[463   1]\n",
            " [  5  87]]\n",
            "Confusion matrix for Politics:\n",
            "[[464   1]\n",
            " [  9  82]]\n",
            "Confusion matrix for Sport:\n",
            "[[412   1]\n",
            " [  0 143]]\n",
            "Confusion matrix for Tech:\n",
            "[[453   2]\n",
            " [  5  96]]\n"
          ]
        },
        {
          "output_type": "stream",
          "name": "stderr",
          "text": [
            "/usr/local/lib/python3.10/dist-packages/sklearn/metrics/_classification.py:1344: UndefinedMetricWarning: Precision and F-score are ill-defined and being set to 0.0 in samples with no predicted labels. Use `zero_division` parameter to control this behavior.\n",
            "  _warn_prf(average, modifier, msg_start, len(result))\n"
          ]
        }
      ]
    },
    {
      "cell_type": "code",
      "source": [
        "# Create a OneVsRestClassifier instance with a RandomForestClassifier estimator\n",
        "rf_classifier = RandomForestClassifier(n_estimators=100, random_state=42)\n",
        "clf = OneVsRestClassifier(rf_classifier)\n",
        "\n",
        "# Fit the classifier\n",
        "clf.fit(X_train_tfidf, y_train)\n",
        "\n",
        "# Make predictions\n",
        "y_pred_tfidf_rfc = clf.predict(X_test_tfidf)"
      ],
      "metadata": {
        "id": "inRxiiIigZa_"
      },
      "execution_count": 88,
      "outputs": []
    },
    {
      "cell_type": "code",
      "source": [
        "print(\"Results using TF-IDF Vectorization and Random Forest Classifier:\")\n",
        "eval_metrics(X_test_tfidf, y_test, y_pred_tfidf_rfc, clf)"
      ],
      "metadata": {
        "id": "JzHfc3m6kyEb",
        "outputId": "e60ccafe-33aa-4f74-f63f-ba6fd18ced08",
        "colab": {
          "base_uri": "https://localhost:8080/"
        }
      },
      "execution_count": 89,
      "outputs": [
        {
          "output_type": "stream",
          "name": "stdout",
          "text": [
            "Results using TF-IDF Vectorization and Random Forest Classifier:\n",
            "Accuracy: 0.85\n",
            "Precision: 0.99\n",
            "Recall: 0.86\n",
            "F1 Score: 0.92\n",
            "AUC-ROC Score: 1.0\n",
            "               precision    recall  f1-score   support\n",
            "\n",
            "     Business       1.00      0.81      0.89       129\n",
            "Entertainment       1.00      0.86      0.92        92\n",
            "     Politics       1.00      0.76      0.86        91\n",
            "        Sport       0.99      0.99      0.99       143\n",
            "         Tech       0.99      0.83      0.90       101\n",
            "\n",
            "    micro avg       0.99      0.86      0.92       556\n",
            "    macro avg       0.99      0.85      0.91       556\n",
            " weighted avg       0.99      0.86      0.92       556\n",
            "  samples avg       0.86      0.86      0.86       556\n",
            "\n",
            "Confusion matrix for Business:\n",
            "[[427   0]\n",
            " [ 25 104]]\n",
            "Confusion matrix for Entertainment:\n",
            "[[464   0]\n",
            " [ 13  79]]\n",
            "Confusion matrix for Politics:\n",
            "[[465   0]\n",
            " [ 22  69]]\n",
            "Confusion matrix for Sport:\n",
            "[[411   2]\n",
            " [  2 141]]\n",
            "Confusion matrix for Tech:\n",
            "[[454   1]\n",
            " [ 17  84]]\n"
          ]
        },
        {
          "output_type": "stream",
          "name": "stderr",
          "text": [
            "/usr/local/lib/python3.10/dist-packages/sklearn/metrics/_classification.py:1344: UndefinedMetricWarning: Precision and F-score are ill-defined and being set to 0.0 in samples with no predicted labels. Use `zero_division` parameter to control this behavior.\n",
            "  _warn_prf(average, modifier, msg_start, len(result))\n"
          ]
        }
      ]
    },
    {
      "cell_type": "markdown",
      "source": [
        "### Evaluate Metrics Function"
      ],
      "metadata": {
        "id": "SlArb-xIw6lu"
      }
    },
    {
      "cell_type": "markdown",
      "source": [
        "\n",
        "Classification metrics were caputed to get ingsight:\n",
        "\n",
        "\n",
        "1. Accuracy: Correct predictions over the total number of instances.\n",
        "2. Precision: Measures the proportion of true positive predictions among the instances that the model predicted as positive.\n",
        "3. Recall: Measures the proportion of true positive predictions among the actual positive instances. Measures ability to identify all relevant instances.4. F1 Score: Considers both false positives and false negatives, and is the mean score of precision and recall.\n",
        "5. AUC-ROC Score: Tells how much the model is capable of distinguishing between classes.\n",
        "\n",
        "\n",
        "\n",
        "\n",
        "The predict_proba() function was used and calculates a score for each class, and the class with the highest score is predicted as the output.\n",
        "\n",
        "In order to get better insight on the accuracy of the classification model, a confusion matrix was performed on each of the feature columns. Since we were using binary classification for our labels, the different values represent the count of true negatives (at 0,0), false negatives (at 1,0), true positives (at 1,1), and false positives (at 0,1)."
      ],
      "metadata": {
        "id": "yE1EEiBV41JO"
      }
    },
    {
      "cell_type": "code",
      "source": [
        "def eval_metrics(X_test_tfidf, y_test, y_pred_tfidf, clf):\n",
        "  # Evaluate using classification metrics\n",
        "  accuracy_tfidf = accuracy_score(y_test, y_pred_tfidf)\n",
        "  precision_tfidf = precision_score(y_test, y_pred_tfidf, average='weighted')\n",
        "  recall_tfidf = recall_score(y_test, y_pred_tfidf, average='weighted')\n",
        "  f1_score_tfidf = f1_score(y_test, y_pred_tfidf, average='weighted')\n",
        "\n",
        "  # Using predict_proba which peformed similar results to decision_function()\n",
        "  roc_auc_tfidf = roc_auc_score(y_test, clf.predict_proba(X_test_tfidf))\n",
        "\n",
        "  # Display the classification metrics\n",
        "  print(f\"Accuracy: {accuracy_tfidf:.2}\")\n",
        "  print(f\"Precision: {precision_tfidf:.2}\")\n",
        "  print(f\"Recall: {recall_tfidf:.2}\")\n",
        "  print(f\"F1 Score: {f1_score_tfidf:.2}\")\n",
        "  print(f\"AUC-ROC Score: {roc_auc_tfidf:.2}\")\n",
        "\n",
        "  labels = ['Business', 'Entertainment', 'Politics', 'Sport', 'Tech']\n",
        "  # Report on classification metrics for each of the features\n",
        "  print(classification_report(y_test, y_pred_tfidf, target_names=labels))\n",
        "\n",
        "  for i, class_label in enumerate(labels):\n",
        "      print(f\"Confusion matrix for {class_label}:\")\n",
        "      print(confusion_matrix(y_test[:, i], y_pred_tfidf[:, i]))"
      ],
      "metadata": {
        "id": "LTLNu0S7eN6-"
      },
      "execution_count": 85,
      "outputs": []
    },
    {
      "cell_type": "markdown",
      "source": [
        "References:\n",
        "\n",
        "https://scikit-learn.org/stable/modules/generated/sklearn.multiclass.OneVsRestClassifier.html\n",
        "\n",
        "https://scikit-learn.org/stable/modules/generated/sklearn.metrics.confusion_matrix.html"
      ],
      "metadata": {
        "id": "ClcVdihvCtwj"
      }
    },
    {
      "cell_type": "markdown",
      "source": [
        "## Applying Random Forest"
      ],
      "metadata": {
        "id": "k1BqtkzCgdHc"
      }
    },
    {
      "cell_type": "code",
      "execution_count": null,
      "metadata": {
        "id": "CfGeY24jvPFf"
      },
      "outputs": [],
      "source": [
        "!jupyter nbconvert --to pdf"
      ]
    }
  ],
  "metadata": {
    "accelerator": "GPU",
    "colab": {
      "collapsed_sections": [
        "Ie0YHWk4u4RH",
        "u6CUo2lLuyPx"
      ],
      "gpuType": "T4",
      "provenance": []
    },
    "kernelspec": {
      "display_name": "Python 3",
      "name": "python3"
    },
    "language_info": {
      "codemirror_mode": {
        "name": "ipython",
        "version": 3
      },
      "file_extension": ".py",
      "mimetype": "text/x-python",
      "name": "python",
      "nbconvert_exporter": "python",
      "pygments_lexer": "ipython3",
      "version": "3.11.3"
    }
  },
  "nbformat": 4,
  "nbformat_minor": 0
}