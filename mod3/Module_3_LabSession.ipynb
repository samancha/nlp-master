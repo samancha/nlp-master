{
  "cells": [
    {
      "cell_type": "code",
      "execution_count": 1,
      "metadata": {
        "colab": {
          "base_uri": "https://localhost:8080/",
          "height": 76
        },
        "id": "fEy6cHdYLwD1",
        "outputId": "e1f7b4a8-c61c-40b1-b16a-5d5c1f9d83ea"
      },
      "outputs": [
        {
          "ename": "ModuleNotFoundError",
          "evalue": "No module named 'google.colab'",
          "output_type": "error",
          "traceback": [
            "\u001b[0;31m---------------------------------------------------------------------------\u001b[0m",
            "\u001b[0;31mModuleNotFoundError\u001b[0m                       Traceback (most recent call last)",
            "\u001b[1;32m/Users/Steve/dev/aiMasters/NLP/mod3/Module_3_LabSession.ipynb Cell 1\u001b[0m line \u001b[0;36m1\n\u001b[0;32m----> <a href='vscode-notebook-cell:/Users/Steve/dev/aiMasters/NLP/mod3/Module_3_LabSession.ipynb#W0sZmlsZQ%3D%3D?line=0'>1</a>\u001b[0m \u001b[39mfrom\u001b[39;00m \u001b[39mgoogle\u001b[39;00m\u001b[39m.\u001b[39;00m\u001b[39mcolab\u001b[39;00m \u001b[39mimport\u001b[39;00m files\n\u001b[1;32m      <a href='vscode-notebook-cell:/Users/Steve/dev/aiMasters/NLP/mod3/Module_3_LabSession.ipynb#W0sZmlsZQ%3D%3D?line=1'>2</a>\u001b[0m uploaded \u001b[39m=\u001b[39m files\u001b[39m.\u001b[39mupload()\n",
            "\u001b[0;31mModuleNotFoundError\u001b[0m: No module named 'google.colab'"
          ]
        }
      ],
      "source": [
        "from google.colab import files\n",
        "uploaded = files.upload()"
      ]
    },
    {
      "cell_type": "code",
      "execution_count": 9,
      "metadata": {
        "colab": {
          "base_uri": "https://localhost:8080/"
        },
        "id": "A2Rd_PwpLmFL",
        "outputId": "d4073c4c-ce2a-49fd-d6ce-c69616b72f67"
      },
      "outputs": [
        {
          "name": "stdout",
          "output_type": "stream",
          "text": [
            "Results using TF-IDF Vectorization and Support Vector Machine (SVM) Classifier:\n",
            "Accuracy: 0.9937219730941704\n",
            "Precision: 1.0\n",
            "Recall: 0.9530201342281879\n",
            "F1 Score: 0.9759450171821306\n",
            "Confusion Matrix:\n",
            "[[966   0]\n",
            " [  7 142]]\n",
            "AUC-ROC Score: 0.9928856281351175\n"
          ]
        }
      ],
      "source": [
        "import pandas as pd\n",
        "from sklearn.model_selection import train_test_split\n",
        "from sklearn.feature_extraction.text import TfidfVectorizer\n",
        "from sklearn.svm import SVC\n",
        "from sklearn.metrics import accuracy_score, precision_score, recall_score, f1_score, confusion_matrix, roc_auc_score\n",
        "\n",
        "# Step 1: Load the \"SMS Spam Collection\" dataset\n",
        "data = pd.read_csv('SMSSpamCollection', sep='\\t', header=None, names=['label', 'text'])\n",
        "data['label'] = data['label'].map({'ham': 0, 'spam': 1})\n",
        "X = data['text']\n",
        "y = data['label']\n",
        "\n",
        "# Step 2: Split the data into training and testing sets\n",
        "X_train, X_test, y_train, y_test = train_test_split(X, y, test_size=0.2, random_state=42)\n",
        "\n",
        "# Step 3: Apply TF-IDF Vectorization\n",
        "tfidf_vectorizer = TfidfVectorizer()\n",
        "X_train_tfidf = tfidf_vectorizer.fit_transform(X_train)\n",
        "X_test_tfidf = tfidf_vectorizer.transform(X_test)\n",
        "\n",
        "# Step 4: Build and evaluate the Support Vector Machine (SVM) classifier\n",
        "svm_classifier = SVC(kernel='linear', random_state=42)\n",
        "svm_classifier.fit(X_train_tfidf, y_train)\n",
        "\n",
        "# Predictions on the test set\n",
        "y_pred_tfidf = svm_classifier.predict(X_test_tfidf)\n",
        "\n",
        "# Evaluate using classification metrics\n",
        "accuracy_tfidf = accuracy_score(y_test, y_pred_tfidf)\n",
        "precision_tfidf = precision_score(y_test, y_pred_tfidf)\n",
        "recall_tfidf = recall_score(y_test, y_pred_tfidf)\n",
        "f1_score_tfidf = f1_score(y_test, y_pred_tfidf)\n",
        "confusion_matrix_tfidf = confusion_matrix(y_test, y_pred_tfidf)\n",
        "auc_roc_tfidf = roc_auc_score(y_test, svm_classifier.decision_function(X_test_tfidf))\n",
        "\n",
        "# Step 5: Display the classification metrics\n",
        "print(\"Results using TF-IDF Vectorization and Support Vector Machine (SVM) Classifier:\")\n",
        "print(\"Accuracy:\", accuracy_tfidf)\n",
        "print(\"Precision:\", precision_tfidf)\n",
        "print(\"Recall:\", recall_tfidf)\n",
        "print(\"F1 Score:\", f1_score_tfidf)\n",
        "print(\"Confusion Matrix:\")\n",
        "print(confusion_matrix_tfidf)\n",
        "print(\"AUC-ROC Score:\", auc_roc_tfidf)\n"
      ]
    },
    {
      "cell_type": "code",
      "execution_count": null,
      "metadata": {
        "id": "GA725Mpds7LL"
      },
      "outputs": [],
      "source": []
    },
    {
      "cell_type": "code",
      "execution_count": null,
      "metadata": {
        "id": "meOxzCf7J4K2"
      },
      "outputs": [],
      "source": []
    }
  ],
  "metadata": {
    "colab": {
      "provenance": []
    },
    "kernelspec": {
      "display_name": "Python 3",
      "name": "python3"
    },
    "language_info": {
      "codemirror_mode": {
        "name": "ipython",
        "version": 3
      },
      "file_extension": ".py",
      "mimetype": "text/x-python",
      "name": "python",
      "nbconvert_exporter": "python",
      "pygments_lexer": "ipython3",
      "version": "3.11.3"
    }
  },
  "nbformat": 4,
  "nbformat_minor": 0
}
