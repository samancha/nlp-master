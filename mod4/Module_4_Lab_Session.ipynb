{
  "nbformat": 4,
  "nbformat_minor": 0,
  "metadata": {
    "colab": {
      "provenance": []
    },
    "kernelspec": {
      "name": "python3",
      "display_name": "Python 3"
    },
    "language_info": {
      "name": "python"
    }
  },
  "cells": [
    {
      "cell_type": "code",
      "source": [
        "#Semantic Analysis"
      ],
      "metadata": {
        "id": "bolxuV9YjjIL"
      },
      "execution_count": null,
      "outputs": []
    },
    {
      "cell_type": "code",
      "source": [
        "# CBOW Example\n",
        "from sklearn.feature_extraction.text import CountVectorizer\n",
        "from sklearn.naive_bayes import MultinomialNB\n",
        "from sklearn.preprocessing import LabelEncoder\n",
        "import numpy as np\n",
        "import random\n",
        "\n",
        "# Sample corpus of sentences\n",
        "sentences = [\n",
        "    \"I am learning Python\",\n",
        "    \"Python is a versatile language\",\n",
        "    \"Learning Python is fun\"\n",
        "]\n",
        "\n",
        "# Tokenize the corpus\n",
        "tokens = [sentence.split() for sentence in sentences]\n",
        "\n",
        "# Create input sequences and corresponding target words\n",
        "input_sequences = []\n",
        "target_words = []\n",
        "for tokens_in_sentence in tokens:\n",
        "    for i in range(1, len(tokens_in_sentence)):\n",
        "        input_sequences.append(' '.join(tokens_in_sentence[:i]))  # Join tokens into a string\n",
        "        target_words.append(tokens_in_sentence[i])\n",
        "\n",
        "# Create a CountVectorizer instance\n",
        "vectorizer = CountVectorizer()\n",
        "\n",
        "# Fit and transform the input sequences to create the bag-of-words representation\n",
        "X = vectorizer.fit_transform(input_sequences)\n",
        "\n",
        "# Encode target words using LabelEncoder\n",
        "label_encoder = LabelEncoder()\n",
        "y_encoded = label_encoder.fit_transform(target_words)\n",
        "\n",
        "# Create a Multinomial Naive Bayes model for word prediction\n",
        "classifier = MultinomialNB()\n",
        "classifier.fit(X, y_encoded)\n",
        "\n",
        "# Given a seed sentence, predict the next word\n",
        "seed_sentence = \"Python\"\n",
        "encoded_seed = vectorizer.transform([seed_sentence]).toarray()\n",
        "predicted_next_word_index = classifier.predict(encoded_seed)\n",
        "predicted_next_word = label_encoder.inverse_transform(predicted_next_word_index)\n",
        "\n",
        "# Print the predicted next word\n",
        "print(\"Seed Sentence:\", seed_sentence)\n",
        "print(\"Predicted Next Word:\", predicted_next_word[0])\n"
      ],
      "metadata": {
        "colab": {
          "base_uri": "https://localhost:8080/"
        },
        "id": "hyt0491QbjY6",
        "outputId": "92a3fcdf-c67a-479a-a892-ff9a9951e1c2"
      },
      "execution_count": 21,
      "outputs": [
        {
          "output_type": "stream",
          "name": "stdout",
          "text": [
            "Seed Sentence: Python\n",
            "Predicted Next Word: is\n"
          ]
        }
      ]
    },
    {
      "cell_type": "code",
      "source": [
        "#Skip gram model"
      ],
      "metadata": {
        "id": "OB3aykV6FSCa"
      },
      "execution_count": null,
      "outputs": []
    },
    {
      "cell_type": "code",
      "source": [
        "import nltk\n",
        "import random\n",
        "from nltk.corpus import movie_reviews\n",
        "from nltk.tokenize import word_tokenize\n",
        "from sklearn.feature_extraction.text import CountVectorizer\n",
        "from gensim.models import Word2Vec"
      ],
      "metadata": {
        "id": "B-7xh3EWUEqR"
      },
      "execution_count": 15,
      "outputs": []
    },
    {
      "cell_type": "code",
      "source": [
        "# Download the IMDb dataset\n",
        "nltk.download(\"movie_reviews\")\n",
        "nltk.download(\"punkt\")\n",
        "\n",
        "# Load the movie_reviews dataset\n",
        "documents = [(list(movie_reviews.words(fileid)), category)\n",
        "             for category in movie_reviews.categories()\n",
        "             for fileid in movie_reviews.fileids(category)]"
      ],
      "metadata": {
        "colab": {
          "base_uri": "https://localhost:8080/"
        },
        "id": "hbOVjmr4UPmT",
        "outputId": "fcb90ff8-8fe0-485d-ed1e-c5be13b761d0"
      },
      "execution_count": 16,
      "outputs": [
        {
          "output_type": "stream",
          "name": "stderr",
          "text": [
            "[nltk_data] Downloading package movie_reviews to /root/nltk_data...\n",
            "[nltk_data]   Package movie_reviews is already up-to-date!\n",
            "[nltk_data] Downloading package punkt to /root/nltk_data...\n",
            "[nltk_data]   Package punkt is already up-to-date!\n"
          ]
        }
      ]
    },
    {
      "cell_type": "code",
      "source": [
        "# Shuffle the dataset for randomness\n",
        "random.shuffle(documents)"
      ],
      "metadata": {
        "id": "__u2458VUTr2"
      },
      "execution_count": 17,
      "outputs": []
    },
    {
      "cell_type": "code",
      "source": [
        "# Extract text and labels from the dataset\n",
        "texts, labels = zip(*documents)\n",
        "\n",
        "# Prepare data for Skip-gram models\n",
        "text_str = [' '.join(text) for text in texts]"
      ],
      "metadata": {
        "id": "Pz4A4pIlUWUc"
      },
      "execution_count": 18,
      "outputs": []
    },
    {
      "cell_type": "code",
      "source": [
        "# Skip-gram model\n",
        "tokenized_texts = [word_tokenize(text) for text in text_str]\n",
        "skipgram_model = Word2Vec(tokenized_texts, vector_size=100, window=5, min_count=1, sg=1)\n",
        "print(\"Skip-gram model vocabulary size:\", len(skipgram_model.wv))"
      ],
      "metadata": {
        "colab": {
          "base_uri": "https://localhost:8080/"
        },
        "id": "wQ3KFW2uUkmw",
        "outputId": "16479bfa-de10-422f-b543-e5eaf29eee8d"
      },
      "execution_count": 19,
      "outputs": [
        {
          "output_type": "stream",
          "name": "stdout",
          "text": [
            "Skip-gram model vocabulary size: 39741\n"
          ]
        }
      ]
    },
    {
      "cell_type": "code",
      "source": [
        "# Test semantic similarity using the Skip-gram model\n",
        "word1 = \"good\"\n",
        "word2 = \"great\"\n",
        "print(\"Semantic similarity between '{}' and '{}':\".format(word1, word2), skipgram_model.wv.similarity(word1, word2))\n"
      ],
      "metadata": {
        "colab": {
          "base_uri": "https://localhost:8080/"
        },
        "id": "IhBmVivzUr7t",
        "outputId": "eab68a1b-9ee5-4bdf-d77c-8239b354f6fe"
      },
      "execution_count": 20,
      "outputs": [
        {
          "output_type": "stream",
          "name": "stdout",
          "text": [
            "Semantic similarity between 'good' and 'great': 0.76957107\n"
          ]
        }
      ]
    },
    {
      "cell_type": "code",
      "source": [
        "#Sentiment Analysis"
      ],
      "metadata": {
        "id": "14fP3yazjaCp"
      },
      "execution_count": 8,
      "outputs": []
    },
    {
      "cell_type": "code",
      "source": [
        "import nltk\n",
        "import random\n",
        "from nltk.corpus import movie_reviews\n",
        "from nltk.tokenize import word_tokenize\n",
        "from sklearn.feature_extraction.text import CountVectorizer\n",
        "from sklearn.model_selection import train_test_split\n",
        "from sklearn.naive_bayes import MultinomialNB\n",
        "from sklearn.metrics import accuracy_score\n",
        "\n",
        "# Download the IMDb dataset\n",
        "nltk.download(\"movie_reviews\")\n",
        "nltk.download(\"punkt\")\n",
        "\n",
        "# Load the movie_reviews dataset\n",
        "documents = [(list(movie_reviews.words(fileid)), category)\n",
        "             for category in movie_reviews.categories()\n",
        "             for fileid in movie_reviews.fileids(category)]\n",
        "\n",
        "# Shuffle the dataset for randomness\n",
        "random.shuffle(documents)\n",
        "\n",
        "# Extract text and labels from the dataset\n",
        "texts, labels = zip(*documents)\n",
        "\n",
        "# Prepare data for sentiment analysis\n",
        "text_str = [' '.join(text) for text in texts]\n",
        "\n",
        "# Bag of Words model for sentiment analysis\n",
        "vectorizer = CountVectorizer()\n",
        "X = vectorizer.fit_transform(text_str)\n",
        "y = list(labels)\n",
        "\n",
        "# Split the dataset into training and testing sets (80% train, 20% test)\n",
        "X_train, X_test, y_train, y_test = train_test_split(X, y, test_size=0.2, random_state=42)\n",
        "\n",
        "# Train the Naive Bayes Classifier\n",
        "classifier = MultinomialNB()\n",
        "classifier.fit(X_train, y_train)\n",
        "\n",
        "# Test the classifier\n",
        "y_pred = classifier.predict(X_test)\n",
        "accuracy = accuracy_score(y_test, y_pred)\n",
        "print(\"Sentiment Analysis Classifier accuracy:\", accuracy)\n"
      ],
      "metadata": {
        "colab": {
          "base_uri": "https://localhost:8080/"
        },
        "id": "swO3shZKks3L",
        "outputId": "2ae8d0da-d9ef-49a0-f7eb-2c1dd659ae9c"
      },
      "execution_count": 9,
      "outputs": [
        {
          "output_type": "stream",
          "name": "stderr",
          "text": [
            "[nltk_data] Downloading package movie_reviews to /root/nltk_data...\n",
            "[nltk_data]   Package movie_reviews is already up-to-date!\n",
            "[nltk_data] Downloading package punkt to /root/nltk_data...\n",
            "[nltk_data]   Package punkt is already up-to-date!\n"
          ]
        },
        {
          "output_type": "stream",
          "name": "stdout",
          "text": [
            "Sentiment Analysis Classifier accuracy: 0.8325\n"
          ]
        }
      ]
    },
    {
      "cell_type": "code",
      "source": [],
      "metadata": {
        "id": "65njSDxWDDo1"
      },
      "execution_count": 13,
      "outputs": []
    },
    {
      "cell_type": "code",
      "source": [
        "y_pred"
      ],
      "metadata": {
        "colab": {
          "base_uri": "https://localhost:8080/"
        },
        "id": "MEsg4xrOkyF4",
        "outputId": "abf83e5a-f961-409e-dae5-9d2696e26932"
      },
      "execution_count": null,
      "outputs": [
        {
          "output_type": "execute_result",
          "data": {
            "text/plain": [
              "array(['pos', 'pos', 'pos', 'neg', 'pos', 'neg', 'pos', 'pos', 'pos',\n",
              "       'neg', 'pos', 'pos', 'pos', 'neg', 'neg', 'neg', 'neg', 'neg',\n",
              "       'neg', 'neg', 'pos', 'pos', 'pos', 'pos', 'neg', 'pos', 'neg',\n",
              "       'neg', 'neg', 'pos', 'neg', 'pos', 'pos', 'neg', 'pos', 'neg',\n",
              "       'pos', 'neg', 'neg', 'neg', 'pos', 'neg', 'neg', 'neg', 'pos',\n",
              "       'neg', 'neg', 'neg', 'pos', 'neg', 'neg', 'pos', 'pos', 'pos',\n",
              "       'neg', 'neg', 'neg', 'neg', 'neg', 'pos', 'neg', 'neg', 'pos',\n",
              "       'neg', 'pos', 'pos', 'neg', 'pos', 'pos', 'neg', 'neg', 'pos',\n",
              "       'pos', 'pos', 'neg', 'neg', 'neg', 'pos', 'neg', 'pos', 'pos',\n",
              "       'neg', 'neg', 'neg', 'neg', 'pos', 'pos', 'neg', 'pos', 'neg',\n",
              "       'neg', 'pos', 'neg', 'pos', 'neg', 'pos', 'pos', 'pos', 'neg',\n",
              "       'pos', 'pos', 'neg', 'pos', 'pos', 'pos', 'pos', 'neg', 'neg',\n",
              "       'pos', 'neg', 'pos', 'neg', 'pos', 'neg', 'neg', 'neg', 'neg',\n",
              "       'neg', 'neg', 'pos', 'pos', 'neg', 'neg', 'pos', 'neg', 'neg',\n",
              "       'pos', 'neg', 'pos', 'neg', 'neg', 'neg', 'pos', 'pos', 'pos',\n",
              "       'neg', 'pos', 'neg', 'pos', 'pos', 'pos', 'neg', 'pos', 'neg',\n",
              "       'pos', 'neg', 'neg', 'pos', 'pos', 'neg', 'pos', 'neg', 'neg',\n",
              "       'neg', 'pos', 'neg', 'pos', 'neg', 'pos', 'neg', 'pos', 'pos',\n",
              "       'neg', 'neg', 'pos', 'pos', 'pos', 'pos', 'neg', 'pos', 'pos',\n",
              "       'pos', 'neg', 'pos', 'pos', 'neg', 'neg', 'pos', 'neg', 'neg',\n",
              "       'pos', 'pos', 'neg', 'neg', 'neg', 'pos', 'neg', 'pos', 'neg',\n",
              "       'pos', 'neg', 'neg', 'pos', 'neg', 'pos', 'pos', 'pos', 'pos',\n",
              "       'neg', 'pos', 'pos', 'pos', 'neg', 'neg', 'neg', 'pos', 'neg',\n",
              "       'neg', 'neg', 'neg', 'pos', 'pos', 'pos', 'pos', 'neg', 'pos',\n",
              "       'neg', 'pos', 'neg', 'neg', 'pos', 'pos', 'pos', 'pos', 'neg',\n",
              "       'pos', 'pos', 'neg', 'neg', 'neg', 'pos', 'pos', 'neg', 'pos',\n",
              "       'neg', 'neg', 'neg', 'neg', 'pos', 'pos', 'neg', 'neg', 'pos',\n",
              "       'neg', 'neg', 'pos', 'neg', 'neg', 'neg', 'neg', 'neg', 'neg',\n",
              "       'pos', 'pos', 'neg', 'pos', 'neg', 'neg', 'neg', 'pos', 'pos',\n",
              "       'pos', 'pos', 'neg', 'pos', 'pos', 'neg', 'pos', 'pos', 'neg',\n",
              "       'neg', 'neg', 'pos', 'neg', 'pos', 'neg', 'pos', 'neg', 'neg',\n",
              "       'neg', 'neg', 'pos', 'neg', 'pos', 'pos', 'pos', 'neg', 'neg',\n",
              "       'neg', 'pos', 'neg', 'neg', 'neg', 'pos', 'pos', 'pos', 'pos',\n",
              "       'neg', 'neg', 'neg', 'pos', 'pos', 'neg', 'pos', 'pos', 'neg',\n",
              "       'neg', 'pos', 'neg', 'pos', 'neg', 'neg', 'pos', 'neg', 'neg',\n",
              "       'pos', 'neg', 'pos', 'pos', 'pos', 'pos', 'pos', 'pos', 'neg',\n",
              "       'pos', 'pos', 'pos', 'pos', 'pos', 'pos', 'pos', 'pos', 'neg',\n",
              "       'neg', 'pos', 'pos', 'neg', 'neg', 'pos', 'pos', 'pos', 'neg',\n",
              "       'neg', 'neg', 'pos', 'neg', 'pos', 'neg', 'pos', 'pos', 'pos',\n",
              "       'pos', 'pos', 'neg', 'neg', 'neg', 'pos', 'pos', 'neg', 'pos',\n",
              "       'pos', 'neg', 'neg', 'neg', 'pos', 'neg', 'neg', 'pos', 'neg',\n",
              "       'neg', 'neg', 'pos', 'pos', 'pos', 'pos', 'pos', 'neg', 'pos',\n",
              "       'pos', 'neg', 'neg', 'neg', 'pos', 'pos', 'pos', 'pos', 'pos',\n",
              "       'neg', 'pos', 'neg', 'pos', 'pos', 'pos', 'pos', 'pos', 'pos',\n",
              "       'neg', 'pos', 'neg', 'neg'], dtype='<U3')"
            ]
          },
          "metadata": {},
          "execution_count": 9
        }
      ]
    },
    {
      "cell_type": "code",
      "source": [],
      "metadata": {
        "id": "sBanbkork2kx"
      },
      "execution_count": null,
      "outputs": []
    }
  ]
}