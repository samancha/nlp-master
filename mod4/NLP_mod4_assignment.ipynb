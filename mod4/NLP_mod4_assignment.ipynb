{
 "cells": [
  {
   "cell_type": "markdown",
   "metadata": {},
   "source": [
    "### Needed Imports"
   ]
  },
  {
   "cell_type": "code",
   "execution_count": 4,
   "metadata": {},
   "outputs": [
    {
     "name": "stderr",
     "output_type": "stream",
     "text": [
      "[nltk_data] Downloading package stopwords to /Users/Steve/nltk_data...\n",
      "[nltk_data]   Package stopwords is already up-to-date!\n",
      "[nltk_data] Downloading package punkt to /Users/Steve/nltk_data...\n",
      "[nltk_data]   Package punkt is already up-to-date!\n"
     ]
    }
   ],
   "source": [
    "import pandas as pd\n",
    "import matplotlib.pyplot as plt\n",
    "import numpy as np\n",
    "import nltk\n",
    "# Download the stopwords and tokenizer from nltk\n",
    "nltk.download('stopwords')\n",
    "nltk.download('punkt')\n",
    "from nltk.corpus import stopwords\n",
    "from nltk.tokenize import word_tokenize\n",
    "from sklearn.model_selection import train_test_split\n",
    "from sklearn.feature_extraction.text import TfidfVectorizer\n",
    "from sklearn.svm import SVC\n",
    "from sklearn.metrics import accuracy_score, precision_score, recall_score, f1_score, confusion_matrix, roc_auc_score\n",
    "from sklearn.metrics import classification_report\n",
    "from gensim.models import Word2Vec\n",
    "from sklearn.naive_bayes import MultinomialNB\n"
   ]
  },
  {
   "cell_type": "markdown",
   "metadata": {},
   "source": [
    "# Importing data and data manipulation"
   ]
  },
  {
   "cell_type": "markdown",
   "metadata": {},
   "source": [
    "\n",
    "\n",
    "I was originally unsure how to manage the two data files since they seemed split already into \"training\" and \"testing\" data. After further development and analysis with the data, it appeared that the \"Testing_Set\" and \"Training_Set\" could be used as one data set combined. The only difference was the \"Testing_Set\" has the \"Sentiment\" column removed. After further analysis and understanding of the correlation between the \"Sentiment\" column and the \"Label\" column, I decided to generate a new column called \"Sentiment\" in the \"Testing_Set\" data frame with values equally \"label\" - 1. This allows me to combine both data sets and randomly train, test, split the data later in the assignment."
   ]
  },
  {
   "cell_type": "code",
   "execution_count": 6,
   "metadata": {},
   "outputs": [
    {
     "name": "stdout",
     "output_type": "stream",
     "text": [
      "Raw training set of legal documents\n"
     ]
    },
    {
     "data": {
      "text/html": [
       "<div>\n",
       "<style scoped>\n",
       "    .dataframe tbody tr th:only-of-type {\n",
       "        vertical-align: middle;\n",
       "    }\n",
       "\n",
       "    .dataframe tbody tr th {\n",
       "        vertical-align: top;\n",
       "    }\n",
       "\n",
       "    .dataframe thead th {\n",
       "        text-align: right;\n",
       "    }\n",
       "</style>\n",
       "<table border=\"1\" class=\"dataframe\">\n",
       "  <thead>\n",
       "    <tr style=\"text-align: right;\">\n",
       "      <th></th>\n",
       "      <th>ID</th>\n",
       "      <th>Phrase</th>\n",
       "      <th>Sentiment</th>\n",
       "      <th>Label</th>\n",
       "    </tr>\n",
       "  </thead>\n",
       "  <tbody>\n",
       "    <tr>\n",
       "      <th>0</th>\n",
       "      <td>1</td>\n",
       "      <td>Getting nowhere with surplusage</td>\n",
       "      <td>-1</td>\n",
       "      <td>0</td>\n",
       "    </tr>\n",
       "    <tr>\n",
       "      <th>1</th>\n",
       "      <td>2</td>\n",
       "      <td>But the Court nowhere suggested that it would ...</td>\n",
       "      <td>-1</td>\n",
       "      <td>0</td>\n",
       "    </tr>\n",
       "    <tr>\n",
       "      <th>2</th>\n",
       "      <td>3</td>\n",
       "      <td>Petitioners objection to shaving his beard cla...</td>\n",
       "      <td>-1</td>\n",
       "      <td>0</td>\n",
       "    </tr>\n",
       "    <tr>\n",
       "      <th>3</th>\n",
       "      <td>4</td>\n",
       "      <td>That result clashes with everything else</td>\n",
       "      <td>-1</td>\n",
       "      <td>0</td>\n",
       "    </tr>\n",
       "    <tr>\n",
       "      <th>4</th>\n",
       "      <td>5</td>\n",
       "      <td>the tolerable duration of police inquiries in ...</td>\n",
       "      <td>0</td>\n",
       "      <td>1</td>\n",
       "    </tr>\n",
       "  </tbody>\n",
       "</table>\n",
       "</div>"
      ],
      "text/plain": [
       "   ID                                             Phrase  Sentiment  Label\n",
       "0   1                    Getting nowhere with surplusage         -1      0\n",
       "1   2  But the Court nowhere suggested that it would ...         -1      0\n",
       "2   3  Petitioners objection to shaving his beard cla...         -1      0\n",
       "3   4           That result clashes with everything else         -1      0\n",
       "4   5  the tolerable duration of police inquiries in ...          0      1"
      ]
     },
     "metadata": {},
     "output_type": "display_data"
    },
    {
     "data": {
      "text/plain": [
       "(576, 4)"
      ]
     },
     "metadata": {},
     "output_type": "display_data"
    },
    {
     "name": "stdout",
     "output_type": "stream",
     "text": [
      "Raw Testing set of legal documents\n"
     ]
    },
    {
     "data": {
      "text/html": [
       "<div>\n",
       "<style scoped>\n",
       "    .dataframe tbody tr th:only-of-type {\n",
       "        vertical-align: middle;\n",
       "    }\n",
       "\n",
       "    .dataframe tbody tr th {\n",
       "        vertical-align: top;\n",
       "    }\n",
       "\n",
       "    .dataframe thead th {\n",
       "        text-align: right;\n",
       "    }\n",
       "</style>\n",
       "<table border=\"1\" class=\"dataframe\">\n",
       "  <thead>\n",
       "    <tr style=\"text-align: right;\">\n",
       "      <th></th>\n",
       "      <th>ID</th>\n",
       "      <th>sentence</th>\n",
       "      <th>label</th>\n",
       "    </tr>\n",
       "  </thead>\n",
       "  <tbody>\n",
       "    <tr>\n",
       "      <th>0</th>\n",
       "      <td>1</td>\n",
       "      <td>has done nothing to satisfy the probable-cause...</td>\n",
       "      <td>0</td>\n",
       "    </tr>\n",
       "    <tr>\n",
       "      <th>1</th>\n",
       "      <td>2</td>\n",
       "      <td>Addressing that question here , the CCA referr...</td>\n",
       "      <td>1</td>\n",
       "    </tr>\n",
       "    <tr>\n",
       "      <th>2</th>\n",
       "      <td>3</td>\n",
       "      <td>standards and procedures</td>\n",
       "      <td>1</td>\n",
       "    </tr>\n",
       "    <tr>\n",
       "      <th>3</th>\n",
       "      <td>4</td>\n",
       "      <td>has no comprehension of why he has been single...</td>\n",
       "      <td>0</td>\n",
       "    </tr>\n",
       "    <tr>\n",
       "      <th>4</th>\n",
       "      <td>5</td>\n",
       "      <td>an expert , Dr. Woods , who offered the opinio...</td>\n",
       "      <td>2</td>\n",
       "    </tr>\n",
       "  </tbody>\n",
       "</table>\n",
       "</div>"
      ],
      "text/plain": [
       "   ID                                           sentence  label\n",
       "0   1  has done nothing to satisfy the probable-cause...      0\n",
       "1   2  Addressing that question here , the CCA referr...      1\n",
       "2   3                           standards and procedures      1\n",
       "3   4  has no comprehension of why he has been single...      0\n",
       "4   5  an expert , Dr. Woods , who offered the opinio...      2"
      ]
     },
     "metadata": {},
     "output_type": "display_data"
    },
    {
     "name": "stdout",
     "output_type": "stream",
     "text": [
      "Converted Testing set of legal documents to the same format as the training set.\n"
     ]
    },
    {
     "data": {
      "text/html": [
       "<div>\n",
       "<style scoped>\n",
       "    .dataframe tbody tr th:only-of-type {\n",
       "        vertical-align: middle;\n",
       "    }\n",
       "\n",
       "    .dataframe tbody tr th {\n",
       "        vertical-align: top;\n",
       "    }\n",
       "\n",
       "    .dataframe thead th {\n",
       "        text-align: right;\n",
       "    }\n",
       "</style>\n",
       "<table border=\"1\" class=\"dataframe\">\n",
       "  <thead>\n",
       "    <tr style=\"text-align: right;\">\n",
       "      <th></th>\n",
       "      <th>ID</th>\n",
       "      <th>Phrase</th>\n",
       "      <th>Label</th>\n",
       "      <th>Sentiment</th>\n",
       "    </tr>\n",
       "  </thead>\n",
       "  <tbody>\n",
       "    <tr>\n",
       "      <th>0</th>\n",
       "      <td>1</td>\n",
       "      <td>has done nothing to satisfy the probable-cause...</td>\n",
       "      <td>0</td>\n",
       "      <td>-1</td>\n",
       "    </tr>\n",
       "    <tr>\n",
       "      <th>1</th>\n",
       "      <td>2</td>\n",
       "      <td>Addressing that question here , the CCA referr...</td>\n",
       "      <td>1</td>\n",
       "      <td>0</td>\n",
       "    </tr>\n",
       "    <tr>\n",
       "      <th>2</th>\n",
       "      <td>3</td>\n",
       "      <td>standards and procedures</td>\n",
       "      <td>1</td>\n",
       "      <td>0</td>\n",
       "    </tr>\n",
       "    <tr>\n",
       "      <th>3</th>\n",
       "      <td>4</td>\n",
       "      <td>has no comprehension of why he has been single...</td>\n",
       "      <td>0</td>\n",
       "      <td>-1</td>\n",
       "    </tr>\n",
       "    <tr>\n",
       "      <th>4</th>\n",
       "      <td>5</td>\n",
       "      <td>an expert , Dr. Woods , who offered the opinio...</td>\n",
       "      <td>2</td>\n",
       "      <td>1</td>\n",
       "    </tr>\n",
       "  </tbody>\n",
       "</table>\n",
       "</div>"
      ],
      "text/plain": [
       "   ID                                             Phrase  Label  Sentiment\n",
       "0   1  has done nothing to satisfy the probable-cause...      0         -1\n",
       "1   2  Addressing that question here , the CCA referr...      1          0\n",
       "2   3                           standards and procedures      1          0\n",
       "3   4  has no comprehension of why he has been single...      0         -1\n",
       "4   5  an expert , Dr. Woods , who offered the opinio...      2          1"
      ]
     },
     "metadata": {},
     "output_type": "display_data"
    },
    {
     "data": {
      "text/plain": [
       "(500, 4)"
      ]
     },
     "metadata": {},
     "output_type": "display_data"
    },
    {
     "data": {
      "text/html": [
       "<div>\n",
       "<style scoped>\n",
       "    .dataframe tbody tr th:only-of-type {\n",
       "        vertical-align: middle;\n",
       "    }\n",
       "\n",
       "    .dataframe tbody tr th {\n",
       "        vertical-align: top;\n",
       "    }\n",
       "\n",
       "    .dataframe thead th {\n",
       "        text-align: right;\n",
       "    }\n",
       "</style>\n",
       "<table border=\"1\" class=\"dataframe\">\n",
       "  <thead>\n",
       "    <tr style=\"text-align: right;\">\n",
       "      <th></th>\n",
       "      <th>ID</th>\n",
       "      <th>Phrase</th>\n",
       "      <th>Sentiment</th>\n",
       "      <th>Label</th>\n",
       "    </tr>\n",
       "  </thead>\n",
       "  <tbody>\n",
       "    <tr>\n",
       "      <th>0</th>\n",
       "      <td>1</td>\n",
       "      <td>Getting nowhere with surplusage</td>\n",
       "      <td>-1</td>\n",
       "      <td>0</td>\n",
       "    </tr>\n",
       "    <tr>\n",
       "      <th>1</th>\n",
       "      <td>2</td>\n",
       "      <td>But the Court nowhere suggested that it would ...</td>\n",
       "      <td>-1</td>\n",
       "      <td>0</td>\n",
       "    </tr>\n",
       "    <tr>\n",
       "      <th>2</th>\n",
       "      <td>3</td>\n",
       "      <td>Petitioners objection to shaving his beard cla...</td>\n",
       "      <td>-1</td>\n",
       "      <td>0</td>\n",
       "    </tr>\n",
       "    <tr>\n",
       "      <th>3</th>\n",
       "      <td>4</td>\n",
       "      <td>That result clashes with everything else</td>\n",
       "      <td>-1</td>\n",
       "      <td>0</td>\n",
       "    </tr>\n",
       "    <tr>\n",
       "      <th>4</th>\n",
       "      <td>5</td>\n",
       "      <td>the tolerable duration of police inquiries in ...</td>\n",
       "      <td>0</td>\n",
       "      <td>1</td>\n",
       "    </tr>\n",
       "  </tbody>\n",
       "</table>\n",
       "</div>"
      ],
      "text/plain": [
       "   ID                                             Phrase  Sentiment  Label\n",
       "0   1                    Getting nowhere with surplusage         -1      0\n",
       "1   2  But the Court nowhere suggested that it would ...         -1      0\n",
       "2   3  Petitioners objection to shaving his beard cla...         -1      0\n",
       "3   4           That result clashes with everything else         -1      0\n",
       "4   5  the tolerable duration of police inquiries in ...          0      1"
      ]
     },
     "metadata": {},
     "output_type": "display_data"
    },
    {
     "data": {
      "text/plain": [
       "(1076, 4)"
      ]
     },
     "metadata": {},
     "output_type": "display_data"
    }
   ],
   "source": [
    "# Read in the two xls files\n",
    "df = pd.read_excel('Legal_Sentences_For_Training_With_BERT_With_Label.xlsx')\n",
    "print(\"Raw training set of legal documents\")\n",
    "display(df.head())\n",
    "display(df.shape)\n",
    "\n",
    "test_sentences_df = pd.read_excel('Testing_Set_Legal_Sentences.xlsx')\n",
    "print(\"Raw Testing set of legal documents\")\n",
    "display(test_sentences_df.head())\n",
    "\n",
    "# Relabel columns to match the other data frame\n",
    "test_sentences_df['Phrase'] = test_sentences_df['sentence']\n",
    "test_sentences_df['Label'] = test_sentences_df['label']\n",
    "\n",
    "# Generate a new column for the sentiment with values corresponding to the labels - 1\n",
    "test_sentences_df['Sentiment'] = test_sentences_df['label'] - 1\n",
    "test_sentences_df = test_sentences_df.drop(['sentence', 'label'], axis=1)\n",
    "\n",
    "print(\"Converted Testing set of legal documents to the same format as the training set.\")\n",
    "display(test_sentences_df.head())\n",
    "display(test_sentences_df.shape)\n",
    "\n",
    "# combine both dataframes\n",
    "both_df = pd.concat([df, test_sentences_df])\n",
    "display(both_df.head())\n",
    "display(both_df.shape)"
   ]
  },
  {
   "cell_type": "markdown",
   "metadata": {},
   "source": [
    "# EDA"
   ]
  },
  {
   "cell_type": "markdown",
   "metadata": {},
   "source": [
    "After dealing with the missing values in the data, I decided to look at the distribution of the \"Label\" column. I wanted to see if the data was balanced or not. I found that the data was not balanced and that there were more \"0\" values than \"-1\" values. This is important to note because it will affect the accuracy of the model. The imbalance of negative sentiment, makes me understand that there are less \"good\" or \"positive\" words in the data set.  I also looked at the distribution of the \"Sentiment\" column and found that it was also not balanced, but that it had the same spread as the labels. This was important for me to understand and for my data aggregation because it allowed me to see that the \"Sentiment\" column was a good representation of the \"Label\" column and that I created it correctly.\n",
    "\n",
    "As for the sentence length, it was interesting to see the distribution of the sentence lengths. A majority of the sentences lengths fell under 200 and between 50 and 100 at it's peak. There were a few outliers ranging into the upper 300's. This is important to consider because of the influence of the length of the sentence and it impacts accuracy when training the model."
   ]
  },
  {
   "cell_type": "code",
   "execution_count": 164,
   "metadata": {},
   "outputs": [
    {
     "name": "stdout",
     "output_type": "stream",
     "text": [
      "Missing values when combining both datesets ID           0\n",
      "Phrase       0\n",
      "Sentiment    0\n",
      "Label        0\n",
      "dtype: int64\n"
     ]
    }
   ],
   "source": [
    "# Checking for missing values in dfs \n",
    "print(\"Missing values when combining both datesets\", both_df.isnull().sum())"
   ]
  },
  {
   "cell_type": "code",
   "execution_count": 21,
   "metadata": {},
   "outputs": [
    {
     "name": "stdout",
     "output_type": "stream",
     "text": [
      "All labels for training data [0, 1, 2]\n",
      "Occurances per labels above [493, 290, 293]\n"
     ]
    },
    {
     "data": {
      "image/png": "[encoded data removed]",
      "text/plain": [
       "<Figure size 1500x500 with 3 Axes>"
      ]
     },
     "metadata": {},
     "output_type": "display_data"
    }
   ],
   "source": [
    "# Creating plot of sentence lengths, to see if there are any outliers\n",
    "sentences = list(both_df['Phrase'])\n",
    "sentence_lengths = [len(sentence) for sentence in sentences]\n",
    "\n",
    "# Plotting the sentence lengths in a histogram\n",
    "# using tuple unpacking for multiple Axes\n",
    "fig, (ax1, ax2, ax3) = plt.subplots(1, 3, figsize=(15, 5))\n",
    "\n",
    "# ax1.subplot(1,2,1)\n",
    "ax1.hist(sentence_lengths, bins=50, color='orange')\n",
    "ax1.set_xlabel('Sentence length')\n",
    "ax1.set_ylabel('Frequency')\n",
    "ax1.set_title('Sentence lengths')\n",
    "\n",
    "\n",
    "# Plot 2\n",
    "# List of the unique labels and the number of sentences per label\n",
    "labels = list(both_df['Label'].unique())\n",
    "print(\"All labels for training data\", labels)\n",
    "num_sentences = [len(both_df[both_df['Label']==label]) for label in labels]\n",
    "print(\"Occurances per labels above\", num_sentences)\n",
    "\n",
    "# Plotting the number of sentences per label\n",
    "ax2.bar(labels, num_sentences)\n",
    "# adding a value above each bar\n",
    "for i in range(len(labels)):\n",
    "    ax2.text(labels[i], num_sentences[i], num_sentences[i], ha='center', va='bottom')\n",
    "ax2.set_xlabel('Label')\n",
    "ax2.set_ylabel('Number of sentences')\n",
    "ax2.set_title('Number of sentences per label')\n",
    "\n",
    "# Plot 3\n",
    "# List of the unique sentiment labels and the number of sentences per Sentiment column name\n",
    "sentiment_labels = list(both_df['Sentiment'].unique())\n",
    "sent_num_sentences = [len(both_df[both_df['Sentiment']==label]) for label in sentiment_labels]\n",
    "\n",
    "# Plotting umber of sentences per Sentiment column name\n",
    "ax3.bar(sentiment_labels, sent_num_sentences)\n",
    "# adding a value above each bar\n",
    "for i in range(len(labels)):\n",
    "    ax3.text(sentiment_labels[i], sent_num_sentences[i], sent_num_sentences[i], ha='center', va='bottom')\n",
    "ax3.set_xlabel('Sentiment')\n",
    "ax3.set_ylabel('Number of sentences')\n",
    "ax3.set_title('Number of sentences per sentiment')\n",
    "\n",
    "plt.show()\n"
   ]
  },
  {
   "cell_type": "markdown",
   "metadata": {},
   "source": [
    "# Preprocess the data"
   ]
  },
  {
   "cell_type": "markdown",
   "metadata": {},
   "source": [
    "Preprocessing data is essentially to getting optimal model results. I used a modular approach and created a function to process each \"Phrase\" row in the data. I first began with tokenizing the text which better helped identify sets of words and distinguish puntuation more properly. I also lowered all the words and removing the following: punctuation, stopwords, and duplicate words. I was hesitant with removing duplicate words, but I was satisfied with the results I was able to produce."
   ]
  },
  {
   "cell_type": "code",
   "execution_count": 24,
   "metadata": {},
   "outputs": [],
   "source": [
    "def preprocess_text(text):\n",
    "    # Convert text to lowercase\n",
    "    words = word_tokenize(text)\n",
    "\n",
    "    # Convert words to lowercase\n",
    "    words = [word.lower() for word in words]\n",
    "\n",
    "    # Remove punctuation from words\n",
    "    words = [word for word in words if word.isalnum()]\n",
    "\n",
    "    # Remove stopwords\n",
    "    stop_words = set(stopwords.words('english'))\n",
    "    words = [word for word in words if word not in stop_words]\n",
    "\n",
    "    # Remove duplicate words\n",
    "    unique_words = list(dict.fromkeys(words))\n",
    "\n",
    "    # Join the words back into a string\n",
    "    text = ' '.join(unique_words)\n",
    "\n",
    "    return text\n",
    "\n",
    "#  Used to create a token count column\n",
    "def get_token_count(text):\n",
    "    words = word_tokenize(text)\n",
    "    return len(words)\n",
    "\n",
    "# Used to get the list of unqiue words of a row\n",
    "def get_unique_words(text):\n",
    "    words = word_tokenize(text)\n",
    "    unique_words = list(dict.fromkeys(words))\n",
    "    return unique_words\n",
    "\n",
    "# Used to get the count of list of unqiue words of a row\n",
    "def get_unique_token_count(text):\n",
    "    words = word_tokenize(text)\n",
    "    unique_words = list(dict.fromkeys(words))\n",
    "    return len(unique_words)\n"
   ]
  },
  {
   "cell_type": "code",
   "execution_count": 25,
   "metadata": {},
   "outputs": [
    {
     "data": {
      "text/html": [
       "<div>\n",
       "<style scoped>\n",
       "    .dataframe tbody tr th:only-of-type {\n",
       "        vertical-align: middle;\n",
       "    }\n",
       "\n",
       "    .dataframe tbody tr th {\n",
       "        vertical-align: top;\n",
       "    }\n",
       "\n",
       "    .dataframe thead th {\n",
       "        text-align: right;\n",
       "    }\n",
       "</style>\n",
       "<table border=\"1\" class=\"dataframe\">\n",
       "  <thead>\n",
       "    <tr style=\"text-align: right;\">\n",
       "      <th></th>\n",
       "      <th>ID</th>\n",
       "      <th>Phrase</th>\n",
       "      <th>Sentiment</th>\n",
       "      <th>Label</th>\n",
       "      <th>processed_phrase</th>\n",
       "      <th>processed_phrase_token_count</th>\n",
       "    </tr>\n",
       "  </thead>\n",
       "  <tbody>\n",
       "    <tr>\n",
       "      <th>0</th>\n",
       "      <td>1</td>\n",
       "      <td>Getting nowhere with surplusage</td>\n",
       "      <td>-1</td>\n",
       "      <td>0</td>\n",
       "      <td>getting nowhere surplusage</td>\n",
       "      <td>3</td>\n",
       "    </tr>\n",
       "    <tr>\n",
       "      <th>1</th>\n",
       "      <td>2</td>\n",
       "      <td>But the Court nowhere suggested that it would ...</td>\n",
       "      <td>-1</td>\n",
       "      <td>0</td>\n",
       "      <td>court nowhere suggested would narrow bivens ex...</td>\n",
       "      <td>8</td>\n",
       "    </tr>\n",
       "    <tr>\n",
       "      <th>2</th>\n",
       "      <td>3</td>\n",
       "      <td>Petitioners objection to shaving his beard cla...</td>\n",
       "      <td>-1</td>\n",
       "      <td>0</td>\n",
       "      <td>petitioners objection shaving beard clashes ar...</td>\n",
       "      <td>10</td>\n",
       "    </tr>\n",
       "    <tr>\n",
       "      <th>3</th>\n",
       "      <td>4</td>\n",
       "      <td>That result clashes with everything else</td>\n",
       "      <td>-1</td>\n",
       "      <td>0</td>\n",
       "      <td>result clashes everything else</td>\n",
       "      <td>4</td>\n",
       "    </tr>\n",
       "    <tr>\n",
       "      <th>4</th>\n",
       "      <td>5</td>\n",
       "      <td>the tolerable duration of police inquiries in ...</td>\n",
       "      <td>0</td>\n",
       "      <td>1</td>\n",
       "      <td>tolerable duration police inquiries context de...</td>\n",
       "      <td>7</td>\n",
       "    </tr>\n",
       "  </tbody>\n",
       "</table>\n",
       "</div>"
      ],
      "text/plain": [
       "   ID                                             Phrase  Sentiment  Label   \n",
       "0   1                    Getting nowhere with surplusage         -1      0  \\\n",
       "1   2  But the Court nowhere suggested that it would ...         -1      0   \n",
       "2   3  Petitioners objection to shaving his beard cla...         -1      0   \n",
       "3   4           That result clashes with everything else         -1      0   \n",
       "4   5  the tolerable duration of police inquiries in ...          0      1   \n",
       "\n",
       "                                    processed_phrase   \n",
       "0                         getting nowhere surplusage  \\\n",
       "1  court nowhere suggested would narrow bivens ex...   \n",
       "2  petitioners objection shaving beard clashes ar...   \n",
       "3                     result clashes everything else   \n",
       "4  tolerable duration police inquiries context de...   \n",
       "\n",
       "   processed_phrase_token_count  \n",
       "0                             3  \n",
       "1                             8  \n",
       "2                            10  \n",
       "3                             4  \n",
       "4                             7  "
      ]
     },
     "metadata": {},
     "output_type": "display_data"
    }
   ],
   "source": [
    "# Preprocess the text and store the processed text in a new column, and the token count in another column\n",
    "both_df['processed_phrase'] = both_df['Phrase'].apply(preprocess_text)\n",
    "both_df['processed_phrase_token_count'] = both_df['processed_phrase'].apply(get_token_count) \n",
    "display(both_df.head())"
   ]
  },
  {
   "cell_type": "markdown",
   "metadata": {},
   "source": [
    "# Semantic Analysis"
   ]
  },
  {
   "cell_type": "markdown",
   "metadata": {},
   "source": [
    "#### Getting unique words from the corpus\n"
   ]
  },
  {
   "cell_type": "code",
   "execution_count": 29,
   "metadata": {},
   "outputs": [
    {
     "data": {
      "text/html": [
       "<div>\n",
       "<style scoped>\n",
       "    .dataframe tbody tr th:only-of-type {\n",
       "        vertical-align: middle;\n",
       "    }\n",
       "\n",
       "    .dataframe tbody tr th {\n",
       "        vertical-align: top;\n",
       "    }\n",
       "\n",
       "    .dataframe thead th {\n",
       "        text-align: right;\n",
       "    }\n",
       "</style>\n",
       "<table border=\"1\" class=\"dataframe\">\n",
       "  <thead>\n",
       "    <tr style=\"text-align: right;\">\n",
       "      <th></th>\n",
       "      <th>ID</th>\n",
       "      <th>Phrase</th>\n",
       "      <th>Sentiment</th>\n",
       "      <th>Label</th>\n",
       "      <th>processed_phrase</th>\n",
       "      <th>processed_phrase_token_count</th>\n",
       "      <th>unique_words</th>\n",
       "      <th>unique_w_count</th>\n",
       "    </tr>\n",
       "  </thead>\n",
       "  <tbody>\n",
       "    <tr>\n",
       "      <th>0</th>\n",
       "      <td>1</td>\n",
       "      <td>Getting nowhere with surplusage</td>\n",
       "      <td>-1</td>\n",
       "      <td>0</td>\n",
       "      <td>getting nowhere surplusage</td>\n",
       "      <td>3</td>\n",
       "      <td>[getting, nowhere, surplusage]</td>\n",
       "      <td>3</td>\n",
       "    </tr>\n",
       "    <tr>\n",
       "      <th>1</th>\n",
       "      <td>2</td>\n",
       "      <td>But the Court nowhere suggested that it would ...</td>\n",
       "      <td>-1</td>\n",
       "      <td>0</td>\n",
       "      <td>court nowhere suggested would narrow bivens ex...</td>\n",
       "      <td>8</td>\n",
       "      <td>[court, nowhere, suggested, would, narrow, biv...</td>\n",
       "      <td>8</td>\n",
       "    </tr>\n",
       "    <tr>\n",
       "      <th>2</th>\n",
       "      <td>3</td>\n",
       "      <td>Petitioners objection to shaving his beard cla...</td>\n",
       "      <td>-1</td>\n",
       "      <td>0</td>\n",
       "      <td>petitioners objection shaving beard clashes ar...</td>\n",
       "      <td>10</td>\n",
       "      <td>[petitioners, objection, shaving, beard, clash...</td>\n",
       "      <td>10</td>\n",
       "    </tr>\n",
       "    <tr>\n",
       "      <th>3</th>\n",
       "      <td>4</td>\n",
       "      <td>That result clashes with everything else</td>\n",
       "      <td>-1</td>\n",
       "      <td>0</td>\n",
       "      <td>result clashes everything else</td>\n",
       "      <td>4</td>\n",
       "      <td>[result, clashes, everything, else]</td>\n",
       "      <td>4</td>\n",
       "    </tr>\n",
       "    <tr>\n",
       "      <th>4</th>\n",
       "      <td>5</td>\n",
       "      <td>the tolerable duration of police inquiries in ...</td>\n",
       "      <td>0</td>\n",
       "      <td>1</td>\n",
       "      <td>tolerable duration police inquiries context de...</td>\n",
       "      <td>7</td>\n",
       "      <td>[tolerable, duration, police, inquiries, conte...</td>\n",
       "      <td>7</td>\n",
       "    </tr>\n",
       "  </tbody>\n",
       "</table>\n",
       "</div>"
      ],
      "text/plain": [
       "   ID                                             Phrase  Sentiment  Label   \n",
       "0   1                    Getting nowhere with surplusage         -1      0  \\\n",
       "1   2  But the Court nowhere suggested that it would ...         -1      0   \n",
       "2   3  Petitioners objection to shaving his beard cla...         -1      0   \n",
       "3   4           That result clashes with everything else         -1      0   \n",
       "4   5  the tolerable duration of police inquiries in ...          0      1   \n",
       "\n",
       "                                    processed_phrase   \n",
       "0                         getting nowhere surplusage  \\\n",
       "1  court nowhere suggested would narrow bivens ex...   \n",
       "2  petitioners objection shaving beard clashes ar...   \n",
       "3                     result clashes everything else   \n",
       "4  tolerable duration police inquiries context de...   \n",
       "\n",
       "   processed_phrase_token_count   \n",
       "0                             3  \\\n",
       "1                             8   \n",
       "2                            10   \n",
       "3                             4   \n",
       "4                             7   \n",
       "\n",
       "                                        unique_words  unique_w_count  \n",
       "0                     [getting, nowhere, surplusage]               3  \n",
       "1  [court, nowhere, suggested, would, narrow, biv...               8  \n",
       "2  [petitioners, objection, shaving, beard, clash...              10  \n",
       "3                [result, clashes, everything, else]               4  \n",
       "4  [tolerable, duration, police, inquiries, conte...               7  "
      ]
     },
     "metadata": {},
     "output_type": "display_data"
    }
   ],
   "source": [
    "# Adding uqniue words and unique word count to the dataframe\n",
    "both_df['unique_words'] = both_df['processed_phrase'].apply(get_unique_words) \n",
    "both_df['unique_w_count'] = both_df['processed_phrase'].apply(get_unique_token_count) \n",
    "display(both_df.head())\n"
   ]
  },
  {
   "cell_type": "markdown",
   "metadata": {},
   "source": [
    "### Skip-mdoel for words2vec"
   ]
  },
  {
   "cell_type": "markdown",
   "metadata": {},
   "source": [
    "This method allowed me to see how well does in evaluate semantic similarity. One of the limitations when comparing this method is that, after preprocessing, the data is not as robust as it could be. I had trouble finding words really similar to a generic word like \"good\", but did see similar scores with other words using \"good\" as a reference. For example, words like laws, liberty, and supreme were rated similar to each other, and neatural words like probable and well were also rated similar but on a more slightly negatively baised scale. Based on the limited data and pesamistic data set, I would say that the understanding that \"good\" and \"well\" is not quite where it could be."
   ]
  },
  {
   "cell_type": "code",
   "execution_count": 31,
   "metadata": {},
   "outputs": [
    {
     "name": "stdout",
     "output_type": "stream",
     "text": [
      "Skip-gram model vocabulary size: 3160\n",
      "Semantic similarity between 'good' and 'supreme': 0.03997123\n",
      "Semantic similarity between 'good' and 'tragic': 0.17507191\n",
      "Semantic similarity between 'good' and 'probable': -0.04661958\n",
      "Semantic similarity between 'good' and 'laws': 0.081615895\n",
      "Semantic similarity between 'good' and 'police': -0.018455809\n",
      "Semantic similarity between 'good' and 'liberty': 0.020047512\n",
      "Semantic similarity between 'good' and 'well': -0.04357647\n"
     ]
    }
   ],
   "source": [
    "# Create skip-gram model on the processed phrases\n",
    "tokenized_texts = [word_tokenize(text) for text in both_df['processed_phrase']]\n",
    "skipgram_model = Word2Vec(tokenized_texts, vector_size=100, window=5, min_count=1, sg=1)\n",
    "print(\"Skip-gram model vocabulary size:\", len(skipgram_model.wv))\n",
    "\n",
    "# Test semantic similarity using the Skip-gram model\n",
    "word1 = \"good\"\n",
    "word2 = [\"supreme\", \"tragic\", \"probable\", \"laws\",\"police\", \"liberty\", \"well\"]\n",
    "\n",
    "for word in word2: \n",
    "    print(\"Semantic similarity between '{}' and '{}':\".format(word1, word), skipgram_model.wv.similarity(word1, word))\n"
   ]
  },
  {
   "cell_type": "markdown",
   "metadata": {},
   "source": [
    "# Sentiment Analysis"
   ]
  },
  {
   "cell_type": "code",
   "execution_count": 32,
   "metadata": {},
   "outputs": [],
   "source": [
    "# Created function to convert the rating scale to sentiment labels\n",
    "def convert_sentiment_to_string(sentiment):\n",
    "  if sentiment == -1:\n",
    "    return 'negative'\n",
    "  elif sentiment == 0:\n",
    "    return 'neutral'\n",
    "  else:\n",
    "    return 'positive'"
   ]
  },
  {
   "cell_type": "markdown",
   "metadata": {},
   "source": [
    "### Adding setiment label column to data"
   ]
  },
  {
   "cell_type": "code",
   "execution_count": 34,
   "metadata": {},
   "outputs": [
    {
     "data": {
      "text/html": [
       "<div>\n",
       "<style scoped>\n",
       "    .dataframe tbody tr th:only-of-type {\n",
       "        vertical-align: middle;\n",
       "    }\n",
       "\n",
       "    .dataframe tbody tr th {\n",
       "        vertical-align: top;\n",
       "    }\n",
       "\n",
       "    .dataframe thead th {\n",
       "        text-align: right;\n",
       "    }\n",
       "</style>\n",
       "<table border=\"1\" class=\"dataframe\">\n",
       "  <thead>\n",
       "    <tr style=\"text-align: right;\">\n",
       "      <th></th>\n",
       "      <th>ID</th>\n",
       "      <th>Phrase</th>\n",
       "      <th>Sentiment</th>\n",
       "      <th>Label</th>\n",
       "      <th>processed_phrase</th>\n",
       "      <th>processed_phrase_token_count</th>\n",
       "      <th>unique_words</th>\n",
       "      <th>unique_w_count</th>\n",
       "      <th>sentiment_label</th>\n",
       "    </tr>\n",
       "  </thead>\n",
       "  <tbody>\n",
       "    <tr>\n",
       "      <th>0</th>\n",
       "      <td>1</td>\n",
       "      <td>Getting nowhere with surplusage</td>\n",
       "      <td>-1</td>\n",
       "      <td>0</td>\n",
       "      <td>getting nowhere surplusage</td>\n",
       "      <td>3</td>\n",
       "      <td>[getting, nowhere, surplusage]</td>\n",
       "      <td>3</td>\n",
       "      <td>negative</td>\n",
       "    </tr>\n",
       "    <tr>\n",
       "      <th>1</th>\n",
       "      <td>2</td>\n",
       "      <td>But the Court nowhere suggested that it would ...</td>\n",
       "      <td>-1</td>\n",
       "      <td>0</td>\n",
       "      <td>court nowhere suggested would narrow bivens ex...</td>\n",
       "      <td>8</td>\n",
       "      <td>[court, nowhere, suggested, would, narrow, biv...</td>\n",
       "      <td>8</td>\n",
       "      <td>negative</td>\n",
       "    </tr>\n",
       "    <tr>\n",
       "      <th>2</th>\n",
       "      <td>3</td>\n",
       "      <td>Petitioners objection to shaving his beard cla...</td>\n",
       "      <td>-1</td>\n",
       "      <td>0</td>\n",
       "      <td>petitioners objection shaving beard clashes ar...</td>\n",
       "      <td>10</td>\n",
       "      <td>[petitioners, objection, shaving, beard, clash...</td>\n",
       "      <td>10</td>\n",
       "      <td>negative</td>\n",
       "    </tr>\n",
       "    <tr>\n",
       "      <th>3</th>\n",
       "      <td>4</td>\n",
       "      <td>That result clashes with everything else</td>\n",
       "      <td>-1</td>\n",
       "      <td>0</td>\n",
       "      <td>result clashes everything else</td>\n",
       "      <td>4</td>\n",
       "      <td>[result, clashes, everything, else]</td>\n",
       "      <td>4</td>\n",
       "      <td>negative</td>\n",
       "    </tr>\n",
       "    <tr>\n",
       "      <th>4</th>\n",
       "      <td>5</td>\n",
       "      <td>the tolerable duration of police inquiries in ...</td>\n",
       "      <td>0</td>\n",
       "      <td>1</td>\n",
       "      <td>tolerable duration police inquiries context de...</td>\n",
       "      <td>7</td>\n",
       "      <td>[tolerable, duration, police, inquiries, conte...</td>\n",
       "      <td>7</td>\n",
       "      <td>neutral</td>\n",
       "    </tr>\n",
       "  </tbody>\n",
       "</table>\n",
       "</div>"
      ],
      "text/plain": [
       "   ID                                             Phrase  Sentiment  Label   \n",
       "0   1                    Getting nowhere with surplusage         -1      0  \\\n",
       "1   2  But the Court nowhere suggested that it would ...         -1      0   \n",
       "2   3  Petitioners objection to shaving his beard cla...         -1      0   \n",
       "3   4           That result clashes with everything else         -1      0   \n",
       "4   5  the tolerable duration of police inquiries in ...          0      1   \n",
       "\n",
       "                                    processed_phrase   \n",
       "0                         getting nowhere surplusage  \\\n",
       "1  court nowhere suggested would narrow bivens ex...   \n",
       "2  petitioners objection shaving beard clashes ar...   \n",
       "3                     result clashes everything else   \n",
       "4  tolerable duration police inquiries context de...   \n",
       "\n",
       "   processed_phrase_token_count   \n",
       "0                             3  \\\n",
       "1                             8   \n",
       "2                            10   \n",
       "3                             4   \n",
       "4                             7   \n",
       "\n",
       "                                        unique_words  unique_w_count   \n",
       "0                     [getting, nowhere, surplusage]               3  \\\n",
       "1  [court, nowhere, suggested, would, narrow, biv...               8   \n",
       "2  [petitioners, objection, shaving, beard, clash...              10   \n",
       "3                [result, clashes, everything, else]               4   \n",
       "4  [tolerable, duration, police, inquiries, conte...               7   \n",
       "\n",
       "  sentiment_label  \n",
       "0        negative  \n",
       "1        negative  \n",
       "2        negative  \n",
       "3        negative  \n",
       "4         neutral  "
      ]
     },
     "metadata": {},
     "output_type": "display_data"
    }
   ],
   "source": [
    "both_df['sentiment_label'] = both_df['Sentiment'].apply(convert_sentiment_to_string)\n",
    "display(both_df.head())"
   ]
  },
  {
   "cell_type": "markdown",
   "metadata": {},
   "source": [
    "## Model Training and Testing"
   ]
  },
  {
   "cell_type": "markdown",
   "metadata": {},
   "source": [
    "Term Frequency-Inverse Document Frequency (TF-IDF), is used to convert text data into a numerical format, preserving important textual characteristics in a way that can be easily used by algorithms."
   ]
  },
  {
   "cell_type": "code",
   "execution_count": 53,
   "metadata": {},
   "outputs": [
    {
     "data": {
      "text/plain": [
       "(807,)"
      ]
     },
     "metadata": {},
     "output_type": "display_data"
    },
    {
     "data": {
      "text/plain": [
       "(269,)"
      ]
     },
     "metadata": {},
     "output_type": "display_data"
    },
    {
     "data": {
      "text/plain": [
       "(807, 2681)"
      ]
     },
     "metadata": {},
     "output_type": "display_data"
    },
    {
     "data": {
      "text/plain": [
       "(269, 2681)"
      ]
     },
     "metadata": {},
     "output_type": "display_data"
    }
   ],
   "source": [
    "# Using most processed phrases to create a TF-IDF vectorizer\n",
    "X = both_df['processed_phrase'].values\n",
    "y = both_df['sentiment_label'].values\n",
    "\n",
    "# Split the data into training and testing sets\n",
    "X_train, X_test, y_train, y_test = train_test_split(X, y, test_size=0.25, random_state=42)\n",
    "display(X_train.shape)\n",
    "display(X_test.shape)\n",
    "\n",
    "# Creating a TF-IDF vectorizer\n",
    "tfidf_vectorizer = TfidfVectorizer()\n",
    "X_train_tfidf = tfidf_vectorizer.fit_transform(X_train)\n",
    "X_test_tfidf = tfidf_vectorizer.transform(X_test)\n",
    "\n",
    "display(X_train_tfidf.shape)\n",
    "display(X_test_tfidf.shape)"
   ]
  },
  {
   "cell_type": "markdown",
   "metadata": {},
   "source": [
    "### Predicting using Naive Bayes Classifier"
   ]
  },
  {
   "cell_type": "markdown",
   "metadata": {},
   "source": [
    "Evaluate the performance of the sentiment analysis model using appropriate metrics (e.g., accuracy, precision, recall).  \n",
    "Interpret the results and discuss the challenges and limitations of sentiment analysis in this context.  \n",
    "\n",
    "The limi\n",
    "\n",
    "Summary: \n",
    "Accuracy: 0.48\n",
    "Precision: 0.5\n",
    "Recall: 0.48\n",
    "F1 Score: 0.39\n",
    "AUC-ROC Score: 0.67"
   ]
  },
  {
   "cell_type": "code",
   "execution_count": 46,
   "metadata": {},
   "outputs": [
    {
     "data": {
      "text/plain": [
       "array(['negative', 'negative', 'positive', 'negative', 'negative',\n",
       "       'negative', 'negative', 'negative', 'negative', 'negative',\n",
       "       'negative', 'negative', 'negative', 'negative', 'negative',\n",
       "       'negative', 'negative', 'negative', 'negative', 'negative',\n",
       "       'negative', 'negative', 'negative', 'negative', 'positive',\n",
       "       'negative', 'negative', 'negative', 'negative', 'positive',\n",
       "       'negative', 'positive', 'negative', 'negative', 'negative',\n",
       "       'negative', 'negative', 'negative', 'negative', 'negative',\n",
       "       'negative', 'negative', 'negative', 'negative', 'negative',\n",
       "       'negative', 'neutral', 'negative', 'negative', 'negative',\n",
       "       'negative', 'negative', 'negative', 'negative', 'negative',\n",
       "       'negative', 'neutral', 'negative', 'negative', 'negative',\n",
       "       'negative', 'negative', 'negative', 'negative', 'negative',\n",
       "       'negative', 'negative', 'negative', 'negative', 'negative',\n",
       "       'positive', 'positive', 'negative', 'negative', 'negative',\n",
       "       'neutral', 'negative', 'negative', 'negative', 'negative',\n",
       "       'positive', 'positive', 'negative', 'negative', 'neutral',\n",
       "       'negative', 'negative', 'negative', 'positive', 'negative',\n",
       "       'positive', 'negative', 'negative', 'negative', 'negative',\n",
       "       'negative', 'positive', 'negative', 'negative', 'negative',\n",
       "       'negative', 'negative', 'negative', 'negative', 'negative',\n",
       "       'negative', 'negative', 'negative', 'negative', 'negative',\n",
       "       'negative', 'neutral', 'negative', 'negative', 'negative',\n",
       "       'negative', 'negative', 'negative', 'negative', 'negative',\n",
       "       'positive', 'negative', 'negative', 'negative', 'positive',\n",
       "       'negative', 'negative', 'positive', 'negative', 'negative',\n",
       "       'positive', 'negative', 'negative', 'negative', 'negative',\n",
       "       'negative', 'negative', 'negative', 'negative', 'negative',\n",
       "       'negative', 'negative', 'negative', 'negative', 'negative',\n",
       "       'negative', 'negative', 'neutral', 'negative', 'negative',\n",
       "       'negative', 'negative', 'negative', 'negative', 'neutral',\n",
       "       'positive', 'negative', 'negative', 'negative', 'neutral',\n",
       "       'negative', 'negative', 'negative', 'negative', 'negative',\n",
       "       'negative', 'negative', 'negative', 'negative', 'negative',\n",
       "       'negative', 'neutral', 'negative', 'positive', 'negative',\n",
       "       'negative', 'negative', 'positive', 'negative', 'negative',\n",
       "       'negative', 'negative', 'negative', 'negative', 'negative',\n",
       "       'positive', 'negative', 'negative', 'negative', 'negative',\n",
       "       'negative', 'negative', 'negative', 'negative', 'negative',\n",
       "       'negative', 'negative', 'negative', 'negative', 'neutral',\n",
       "       'negative', 'negative', 'negative', 'positive', 'negative',\n",
       "       'negative', 'negative', 'negative', 'negative', 'negative',\n",
       "       'negative', 'positive', 'negative', 'negative', 'negative',\n",
       "       'negative', 'positive', 'neutral', 'negative', 'negative',\n",
       "       'negative', 'negative', 'negative', 'negative', 'negative',\n",
       "       'negative', 'negative', 'negative', 'negative', 'negative',\n",
       "       'negative', 'negative', 'negative', 'negative', 'negative',\n",
       "       'negative', 'negative', 'negative', 'negative', 'neutral',\n",
       "       'negative', 'negative', 'negative', 'positive', 'negative',\n",
       "       'negative', 'negative', 'negative', 'negative', 'negative',\n",
       "       'negative', 'negative', 'negative', 'negative', 'negative',\n",
       "       'negative', 'neutral', 'positive', 'negative', 'negative',\n",
       "       'negative', 'negative', 'negative', 'negative', 'negative',\n",
       "       'negative', 'negative', 'positive', 'negative'], dtype='<U8')"
      ]
     },
     "metadata": {},
     "output_type": "display_data"
    },
    {
     "data": {
      "text/plain": [
       "269"
      ]
     },
     "metadata": {},
     "output_type": "display_data"
    }
   ],
   "source": [
    "# Fit and Train using a Naive Bayes Classifier \n",
    "classifier = MultinomialNB()\n",
    "classifier.fit(X_train_tfidf, y_train)\n",
    "\n",
    "# Test the classifier model \n",
    "y_pred = classifier.predict(X_test_tfidf)\n",
    "display(y_pred)\n",
    "display(len(y_pred))"
   ]
  },
  {
   "cell_type": "markdown",
   "metadata": {},
   "source": [
    "#### Evaluation Metrics"
   ]
  },
  {
   "cell_type": "markdown",
   "metadata": {},
   "source": [
    "Overall the results weren't that great, the model produced results that we no better than flipping a coin. I don't think enough training data nor the model was robust enough to produce better results. I think the model could be improved by using a different model like a neural network or a different classifier. With such a small dataset, the impacts of irony or sarcasm could be a limiting factor as to why resutls were labeled as sarcastic or ironic. Whoever labeled the dataset could have also been biased in their labeling and could have labeled the data incorrectly."
   ]
  },
  {
   "cell_type": "code",
   "execution_count": 54,
   "metadata": {},
   "outputs": [],
   "source": [
    "def eval_metrics(X_test_tfidf, y_test, y_pred_tfidf, clf):\n",
    "  # Evaluate using classification metrics\n",
    "  accuracy_tfidf = accuracy_score(y_test, y_pred_tfidf)\n",
    "  precision_tfidf = precision_score(y_test, y_pred_tfidf, average='weighted')\n",
    "  recall_tfidf = recall_score(y_test, y_pred_tfidf, average='weighted')\n",
    "  f1_score_tfidf = f1_score(y_test, y_pred_tfidf, average='weighted')\n",
    "\n",
    "  # Using predict_proba which peformed similar results to decision_function()\n",
    "  roc_auc_tfidf = roc_auc_score(y_test, clf.predict_proba(X_test_tfidf), multi_class='ovr')\n",
    "\n",
    "  # Display the classification metrics\n",
    "  print(f\"Accuracy: {accuracy_tfidf:.2}\")\n",
    "  print(f\"Precision: {precision_tfidf:.2}\")\n",
    "  print(f\"Recall: {recall_tfidf:.2}\")\n",
    "  print(f\"F1 Score: {f1_score_tfidf:.2}\")\n",
    "  print(f\"AUC-ROC Score: {roc_auc_tfidf:.2}\")\n",
    "  print(classification_report(y_test, y_pred_tfidf, target_names=[\"negative\", \"neutral\", \"positive\"]))"
   ]
  },
  {
   "cell_type": "code",
   "execution_count": 55,
   "metadata": {},
   "outputs": [
    {
     "name": "stdout",
     "output_type": "stream",
     "text": [
      "Sentiment Analysis Classifier metrics (using Naive Bayes Classifier):\n",
      "Accuracy: 0.48\n",
      "Precision: 0.5\n",
      "Recall: 0.48\n",
      "F1 Score: 0.39\n",
      "AUC-ROC Score: 0.67\n",
      "              precision    recall  f1-score   support\n",
      "\n",
      "    negative       0.47      0.90      0.62       121\n",
      "     neutral       0.54      0.09      0.16        76\n",
      "    positive       0.52      0.18      0.27        72\n",
      "\n",
      "    accuracy                           0.48       269\n",
      "   macro avg       0.51      0.39      0.35       269\n",
      "weighted avg       0.50      0.48      0.39       269\n",
      "\n"
     ]
    }
   ],
   "source": [
    "# Evaluate the Naive Bayes classifier\n",
    "print(f\"Sentiment Analysis Classifier metrics (using Naive Bayes Classifier):\")\n",
    "eval_metrics(X_test_tfidf, y_test, y_pred, classifier)"
   ]
  },
  {
   "cell_type": "markdown",
   "metadata": {},
   "source": [
    "## Reflecting with an Application\n",
    "\n",
    "Using semantic and sentiment analyis has enabled busniess to anlayze customers at scale much more easily. They can understand what habits and trends are happening to target consumer consumption. This is important because it allows businesses to understand what their customers are thinking and how they feel about their products. This allows businesses to make better decisions and improve their products and services.\n",
    "\n",
    "For example, if a busniess sees there is a negative sentiment towards one of their products, they can quickly summarize why their product is not doing well and make changes to improve it. They could also search their social media platforms to see which one of their products gets talked about the most after a marketing campaign. "
   ]
  }
 ],
 "metadata": {
  "kernelspec": {
   "display_name": "Python 3",
   "language": "python",
   "name": "python3"
  },
  "language_info": {
   "codemirror_mode": {
    "name": "ipython",
    "version": 3
   },
   "file_extension": ".py",
   "mimetype": "text/x-python",
   "name": "python",
   "nbconvert_exporter": "python",
   "pygments_lexer": "ipython3",
   "version": "3.11.3"
  },
  "orig_nbformat": 4
 },
 "nbformat": 4,
 "nbformat_minor": 2
}
